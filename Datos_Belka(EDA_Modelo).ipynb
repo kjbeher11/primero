{
 "cells": [
  {
   "cell_type": "markdown",
   "metadata": {},
   "source": [
    "# Análisis del Problema de Aplicación "
   ]
  },
  {
   "cell_type": "markdown",
   "metadata": {},
   "source": [
    "Los fármacos de moléculas pequeñas son cruciales para interactuar con proteínas celulares y modular sus funciones, a menudo dirigidos a inhibir proteínas involucradas en enfermedades. \n",
    "\n",
    "El conjunto de datos \"Big Encoded Library for Chemical Assessment\" (BELKA), creado por Leash Biosciences, contiene información sobre moléculas pequeñas y su capacidad para interactuar con tres proteínas objetivo, utilizando la tecnología de biblioteca química codificada por ADN (DEL).\n",
    "\n",
    "Identificar estas moléculas a través de métodos tradicionales es un proceso laborioso por eso, el objetivo es utilizar técnicas de aprendizaje automático (ML) para predecir la afinidad de unión de compuestos químicos a proteínas, aprovechando los avances en ML para realizar búsquedas eficientes en el vasto espacio químico. Este concurso busca democratizar el descubrimiento computacional de fármacos y contribuir al desarrollo de nuevos tratamientos médicos.\n",
    "\n",
    "La fuente de los datos es el concurso NeurIPS 2024 en Kaggle, titulado \"Predict New Medicines with BELKA\"."
   ]
  },
  {
   "cell_type": "markdown",
   "metadata": {},
   "source": [
    "## Librerias "
   ]
  },
  {
   "cell_type": "code",
   "execution_count": 2,
   "metadata": {},
   "outputs": [
    {
     "name": "stderr",
     "output_type": "stream",
     "text": [
      "c:\\Users\\KELLY\\miniconda3\\envs\\ml_venv\\lib\\site-packages\\dask\\dataframe\\_pyarrow_compat.py:23: UserWarning: You are using pyarrow version 11.0.0 which is known to be insecure. See https://www.cve.org/CVERecord?id=CVE-2023-47248 for further details. Please upgrade to pyarrow>=14.0.1 or install pyarrow-hotfix to patch your current version.\n",
      "  warnings.warn(\n"
     ]
    }
   ],
   "source": [
    "import pandas as pd\n",
    "from sklearn.model_selection import train_test_split\n",
    "from sklearn.datasets import make_classification\n",
    "import matplotlib.pyplot as plt\n",
    "from sklearn.preprocessing import OneHotEncoder\n",
    "import numpy as np\n",
    "import seaborn as sns\n",
    "import dask.dataframe as dd\n",
    "from sklearn.metrics import  RocCurveDisplay\n",
    "from scipy.stats import chi2_contingency,chi2\n",
    "from sklearn.model_selection import train_test_split\n",
    "from sklearn.feature_selection import SelectKBest\n",
    "from sklearn.model_selection import GridSearchCV\n",
    "from sklearn.pipeline import Pipeline\n",
    "from sklearn.preprocessing import StandardScaler\n",
    "from sklearn.linear_model import LogisticRegression\n",
    "from sklearn.neighbors import KNeighborsClassifier\n",
    "from sklearn.metrics import classification_report, f1_score, roc_auc_score, precision_score, recall_score,confusion_matrix"
   ]
  },
  {
   "cell_type": "markdown",
   "metadata": {},
   "source": [
    "Ahora accedemos a los datos almacenados en el archivo \"train.csv\" y almacenarlos en el DataFrame llamado 'medicinas'"
   ]
  },
  {
   "cell_type": "code",
   "execution_count": 2,
   "metadata": {},
   "outputs": [],
   "source": [
    "medicinas = pd.read_csv(\"C:\\\\Users\\\\KELLY\\\\Downloads\\\\leash-BELKA\\\\train.csv\")"
   ]
  },
  {
   "cell_type": "markdown",
   "metadata": {},
   "source": [
    "También se ha cargado un archivo CSV llamado \"test.csv\" en un DataFrame llamado 'med_test'"
   ]
  },
  {
   "cell_type": "code",
   "execution_count": 10,
   "metadata": {},
   "outputs": [],
   "source": [
    "med_test = pd.read_csv(\"C:\\\\Users\\\\KELLY\\\\Downloads\\\\leash-BELKA\\\\test.csv\")"
   ]
  },
  {
   "cell_type": "markdown",
   "metadata": {},
   "source": [
    "En este paso, se están concatenando dos conjuntos de datos, 'medicinas' y 'med_test', utilizando la función pd.concat(), lo que permite combinar ambos DataFrames en uno solo llamado 'completo'. Al final nos muestras las dimensiones del Dataframe que son 296921726 filas, con 7 columnas."
   ]
  },
  {
   "cell_type": "markdown",
   "metadata": {},
   "source": [
    "Explicación corta de cada variable:\n",
    "\n",
    "- **id**: Identificador único para el par de moléculas y proteínas.\n",
    "- **buildingblock1_smiles**: Estructura química del primer bloque en formato SMILES.\n",
    "- **buildingblock2_smiles**: Estructura química del segundo bloque en formato SMILES.\n",
    "- **buildingblock3_smiles**: Estructura química del tercer bloque en formato SMILES.\n",
    "- **molecule_smiles**: Estructura de la molécula completa que incluye los tres bloques y un enlace de ADN representado por [Dy].\n",
    "- **protein_name**: Nombre de la proteína diana.\n",
    "- **binds**: Variable objetivo binaria que indica si la molécula se une a la proteína (1) o no (0)."
   ]
  },
  {
   "cell_type": "markdown",
   "metadata": {},
   "source": [
    "# Descripción del Dataset original"
   ]
  },
  {
   "cell_type": "markdown",
   "metadata": {},
   "source": [
    "## Datos de entrenamiento"
   ]
  },
  {
   "cell_type": "markdown",
   "metadata": {},
   "source": [
    "Se mostrarán las caracteristicas de el Dataframe 'Medicinas' de emtrenamiento y primero visualizaremos las primeras 5 observaciones. Esto te permite visualizar un fragmento para entender su estructura y contenido inicial."
   ]
  },
  {
   "cell_type": "code",
   "execution_count": 7,
   "metadata": {},
   "outputs": [
    {
     "data": {
      "text/html": [
       "<div>\n",
       "<style scoped>\n",
       "    .dataframe tbody tr th:only-of-type {\n",
       "        vertical-align: middle;\n",
       "    }\n",
       "\n",
       "    .dataframe tbody tr th {\n",
       "        vertical-align: top;\n",
       "    }\n",
       "\n",
       "    .dataframe thead th {\n",
       "        text-align: right;\n",
       "    }\n",
       "</style>\n",
       "<table border=\"1\" class=\"dataframe\">\n",
       "  <thead>\n",
       "    <tr style=\"text-align: right;\">\n",
       "      <th></th>\n",
       "      <th>id</th>\n",
       "      <th>buildingblock1_smiles</th>\n",
       "      <th>buildingblock2_smiles</th>\n",
       "      <th>buildingblock3_smiles</th>\n",
       "      <th>molecule_smiles</th>\n",
       "      <th>protein_name</th>\n",
       "      <th>binds</th>\n",
       "    </tr>\n",
       "  </thead>\n",
       "  <tbody>\n",
       "    <tr>\n",
       "      <th>0</th>\n",
       "      <td>0</td>\n",
       "      <td>C#CC[C@@H](CC(=O)O)NC(=O)OCC1c2ccccc2-c2ccccc21</td>\n",
       "      <td>C#CCOc1ccc(CN)cc1.Cl</td>\n",
       "      <td>Br.Br.NCC1CCCN1c1cccnn1</td>\n",
       "      <td>C#CCOc1ccc(CNc2nc(NCC3CCCN3c3cccnn3)nc(N[C@@H]...</td>\n",
       "      <td>BRD4</td>\n",
       "      <td>0</td>\n",
       "    </tr>\n",
       "    <tr>\n",
       "      <th>1</th>\n",
       "      <td>1</td>\n",
       "      <td>C#CC[C@@H](CC(=O)O)NC(=O)OCC1c2ccccc2-c2ccccc21</td>\n",
       "      <td>C#CCOc1ccc(CN)cc1.Cl</td>\n",
       "      <td>Br.Br.NCC1CCCN1c1cccnn1</td>\n",
       "      <td>C#CCOc1ccc(CNc2nc(NCC3CCCN3c3cccnn3)nc(N[C@@H]...</td>\n",
       "      <td>HSA</td>\n",
       "      <td>0</td>\n",
       "    </tr>\n",
       "    <tr>\n",
       "      <th>2</th>\n",
       "      <td>2</td>\n",
       "      <td>C#CC[C@@H](CC(=O)O)NC(=O)OCC1c2ccccc2-c2ccccc21</td>\n",
       "      <td>C#CCOc1ccc(CN)cc1.Cl</td>\n",
       "      <td>Br.Br.NCC1CCCN1c1cccnn1</td>\n",
       "      <td>C#CCOc1ccc(CNc2nc(NCC3CCCN3c3cccnn3)nc(N[C@@H]...</td>\n",
       "      <td>sEH</td>\n",
       "      <td>0</td>\n",
       "    </tr>\n",
       "    <tr>\n",
       "      <th>3</th>\n",
       "      <td>3</td>\n",
       "      <td>C#CC[C@@H](CC(=O)O)NC(=O)OCC1c2ccccc2-c2ccccc21</td>\n",
       "      <td>C#CCOc1ccc(CN)cc1.Cl</td>\n",
       "      <td>Br.NCc1cccc(Br)n1</td>\n",
       "      <td>C#CCOc1ccc(CNc2nc(NCc3cccc(Br)n3)nc(N[C@@H](CC...</td>\n",
       "      <td>BRD4</td>\n",
       "      <td>0</td>\n",
       "    </tr>\n",
       "    <tr>\n",
       "      <th>4</th>\n",
       "      <td>4</td>\n",
       "      <td>C#CC[C@@H](CC(=O)O)NC(=O)OCC1c2ccccc2-c2ccccc21</td>\n",
       "      <td>C#CCOc1ccc(CN)cc1.Cl</td>\n",
       "      <td>Br.NCc1cccc(Br)n1</td>\n",
       "      <td>C#CCOc1ccc(CNc2nc(NCc3cccc(Br)n3)nc(N[C@@H](CC...</td>\n",
       "      <td>HSA</td>\n",
       "      <td>0</td>\n",
       "    </tr>\n",
       "    <tr>\n",
       "      <th>5</th>\n",
       "      <td>5</td>\n",
       "      <td>C#CC[C@@H](CC(=O)O)NC(=O)OCC1c2ccccc2-c2ccccc21</td>\n",
       "      <td>C#CCOc1ccc(CN)cc1.Cl</td>\n",
       "      <td>Br.NCc1cccc(Br)n1</td>\n",
       "      <td>C#CCOc1ccc(CNc2nc(NCc3cccc(Br)n3)nc(N[C@@H](CC...</td>\n",
       "      <td>sEH</td>\n",
       "      <td>0</td>\n",
       "    </tr>\n",
       "  </tbody>\n",
       "</table>\n",
       "</div>"
      ],
      "text/plain": [
       "   id                            buildingblock1_smiles buildingblock2_smiles  \\\n",
       "0   0  C#CC[C@@H](CC(=O)O)NC(=O)OCC1c2ccccc2-c2ccccc21  C#CCOc1ccc(CN)cc1.Cl   \n",
       "1   1  C#CC[C@@H](CC(=O)O)NC(=O)OCC1c2ccccc2-c2ccccc21  C#CCOc1ccc(CN)cc1.Cl   \n",
       "2   2  C#CC[C@@H](CC(=O)O)NC(=O)OCC1c2ccccc2-c2ccccc21  C#CCOc1ccc(CN)cc1.Cl   \n",
       "3   3  C#CC[C@@H](CC(=O)O)NC(=O)OCC1c2ccccc2-c2ccccc21  C#CCOc1ccc(CN)cc1.Cl   \n",
       "4   4  C#CC[C@@H](CC(=O)O)NC(=O)OCC1c2ccccc2-c2ccccc21  C#CCOc1ccc(CN)cc1.Cl   \n",
       "5   5  C#CC[C@@H](CC(=O)O)NC(=O)OCC1c2ccccc2-c2ccccc21  C#CCOc1ccc(CN)cc1.Cl   \n",
       "\n",
       "     buildingblock3_smiles                                    molecule_smiles  \\\n",
       "0  Br.Br.NCC1CCCN1c1cccnn1  C#CCOc1ccc(CNc2nc(NCC3CCCN3c3cccnn3)nc(N[C@@H]...   \n",
       "1  Br.Br.NCC1CCCN1c1cccnn1  C#CCOc1ccc(CNc2nc(NCC3CCCN3c3cccnn3)nc(N[C@@H]...   \n",
       "2  Br.Br.NCC1CCCN1c1cccnn1  C#CCOc1ccc(CNc2nc(NCC3CCCN3c3cccnn3)nc(N[C@@H]...   \n",
       "3        Br.NCc1cccc(Br)n1  C#CCOc1ccc(CNc2nc(NCc3cccc(Br)n3)nc(N[C@@H](CC...   \n",
       "4        Br.NCc1cccc(Br)n1  C#CCOc1ccc(CNc2nc(NCc3cccc(Br)n3)nc(N[C@@H](CC...   \n",
       "5        Br.NCc1cccc(Br)n1  C#CCOc1ccc(CNc2nc(NCc3cccc(Br)n3)nc(N[C@@H](CC...   \n",
       "\n",
       "  protein_name  binds  \n",
       "0         BRD4      0  \n",
       "1          HSA      0  \n",
       "2          sEH      0  \n",
       "3         BRD4      0  \n",
       "4          HSA      0  \n",
       "5          sEH      0  "
      ]
     },
     "metadata": {},
     "output_type": "display_data"
    }
   ],
   "source": [
    "display(medicinas.head(6))"
   ]
  },
  {
   "cell_type": "markdown",
   "metadata": {},
   "source": [
    "A continuación se muestra la información concisa de la estructura del DataFrame, incluyendo el número de observaciones, el número de columnas, y el tipo de datos de cada columna. "
   ]
  },
  {
   "cell_type": "code",
   "execution_count": 18,
   "metadata": {},
   "outputs": [
    {
     "name": "stdout",
     "output_type": "stream",
     "text": [
      "<class 'pandas.core.frame.DataFrame'>\n",
      "RangeIndex: 295246830 entries, 0 to 295246829\n",
      "Data columns (total 7 columns):\n",
      " #   Column                 Dtype \n",
      "---  ------                 ----- \n",
      " 0   id                     int64 \n",
      " 1   buildingblock1_smiles  object\n",
      " 2   buildingblock2_smiles  object\n",
      " 3   buildingblock3_smiles  object\n",
      " 4   molecule_smiles        object\n",
      " 5   protein_name           object\n",
      " 6   binds                  int64 \n",
      "dtypes: int64(2), object(5)\n",
      "memory usage: 15.4+ GB\n"
     ]
    }
   ],
   "source": [
    "medicinas.info()"
   ]
  },
  {
   "cell_type": "markdown",
   "metadata": {},
   "source": [
    "El DataFrame completo contiene un total de 295,246,830 observaciones y 7 variables, las columnas **object** indican datos de texto o cadenas, mientras que las columnas **int64** son de tipo entero."
   ]
  },
  {
   "cell_type": "markdown",
   "metadata": {},
   "source": [
    "El DataFrame 'medicinas'(Train) consta de 295,246,830 observaciones y 7 columnas, presenta tanto datos numéricos como categóricos, y no se identificaron datos faltantes en el análisis preliminar. Debido a la gran cantidad de datos se planea encontrar una manera de disminuirna y quedarnos con un dataset final para el modelo"
   ]
  },
  {
   "cell_type": "markdown",
   "metadata": {},
   "source": [
    "## Datos de prueba"
   ]
  },
  {
   "cell_type": "markdown",
   "metadata": {},
   "source": [
    "El DataFrame 'med_test' contiene 1,674,896 filas y 6 columnas. 'med_test' no incluye la columna binds, que es una variable numérica utilizada para indicar la unión en el conjunto de entrenamiento."
   ]
  },
  {
   "cell_type": "code",
   "execution_count": 19,
   "metadata": {},
   "outputs": [
    {
     "data": {
      "text/html": [
       "<div>\n",
       "<style scoped>\n",
       "    .dataframe tbody tr th:only-of-type {\n",
       "        vertical-align: middle;\n",
       "    }\n",
       "\n",
       "    .dataframe tbody tr th {\n",
       "        vertical-align: top;\n",
       "    }\n",
       "\n",
       "    .dataframe thead th {\n",
       "        text-align: right;\n",
       "    }\n",
       "</style>\n",
       "<table border=\"1\" class=\"dataframe\">\n",
       "  <thead>\n",
       "    <tr style=\"text-align: right;\">\n",
       "      <th></th>\n",
       "      <th>id</th>\n",
       "      <th>buildingblock1_smiles</th>\n",
       "      <th>buildingblock2_smiles</th>\n",
       "      <th>buildingblock3_smiles</th>\n",
       "      <th>molecule_smiles</th>\n",
       "      <th>protein_name</th>\n",
       "    </tr>\n",
       "  </thead>\n",
       "  <tbody>\n",
       "    <tr>\n",
       "      <th>0</th>\n",
       "      <td>295246830</td>\n",
       "      <td>C#CCCC[C@H](NC(=O)OCC1c2ccccc2-c2ccccc21)C(=O)O</td>\n",
       "      <td>C=Cc1ccc(N)cc1</td>\n",
       "      <td>C=Cc1ccc(N)cc1</td>\n",
       "      <td>C#CCCC[C@H](Nc1nc(Nc2ccc(C=C)cc2)nc(Nc2ccc(C=C...</td>\n",
       "      <td>BRD4</td>\n",
       "    </tr>\n",
       "    <tr>\n",
       "      <th>1</th>\n",
       "      <td>295246831</td>\n",
       "      <td>C#CCCC[C@H](NC(=O)OCC1c2ccccc2-c2ccccc21)C(=O)O</td>\n",
       "      <td>C=Cc1ccc(N)cc1</td>\n",
       "      <td>C=Cc1ccc(N)cc1</td>\n",
       "      <td>C#CCCC[C@H](Nc1nc(Nc2ccc(C=C)cc2)nc(Nc2ccc(C=C...</td>\n",
       "      <td>HSA</td>\n",
       "    </tr>\n",
       "    <tr>\n",
       "      <th>2</th>\n",
       "      <td>295246832</td>\n",
       "      <td>C#CCCC[C@H](NC(=O)OCC1c2ccccc2-c2ccccc21)C(=O)O</td>\n",
       "      <td>C=Cc1ccc(N)cc1</td>\n",
       "      <td>C=Cc1ccc(N)cc1</td>\n",
       "      <td>C#CCCC[C@H](Nc1nc(Nc2ccc(C=C)cc2)nc(Nc2ccc(C=C...</td>\n",
       "      <td>sEH</td>\n",
       "    </tr>\n",
       "    <tr>\n",
       "      <th>3</th>\n",
       "      <td>295246833</td>\n",
       "      <td>C#CCCC[C@H](NC(=O)OCC1c2ccccc2-c2ccccc21)C(=O)O</td>\n",
       "      <td>C=Cc1ccc(N)cc1</td>\n",
       "      <td>CC(O)Cn1cnc2c(N)ncnc21</td>\n",
       "      <td>C#CCCC[C@H](Nc1nc(Nc2ccc(C=C)cc2)nc(Nc2ncnc3c2...</td>\n",
       "      <td>BRD4</td>\n",
       "    </tr>\n",
       "    <tr>\n",
       "      <th>4</th>\n",
       "      <td>295246834</td>\n",
       "      <td>C#CCCC[C@H](NC(=O)OCC1c2ccccc2-c2ccccc21)C(=O)O</td>\n",
       "      <td>C=Cc1ccc(N)cc1</td>\n",
       "      <td>CC(O)Cn1cnc2c(N)ncnc21</td>\n",
       "      <td>C#CCCC[C@H](Nc1nc(Nc2ccc(C=C)cc2)nc(Nc2ncnc3c2...</td>\n",
       "      <td>HSA</td>\n",
       "    </tr>\n",
       "  </tbody>\n",
       "</table>\n",
       "</div>"
      ],
      "text/plain": [
       "          id                            buildingblock1_smiles  \\\n",
       "0  295246830  C#CCCC[C@H](NC(=O)OCC1c2ccccc2-c2ccccc21)C(=O)O   \n",
       "1  295246831  C#CCCC[C@H](NC(=O)OCC1c2ccccc2-c2ccccc21)C(=O)O   \n",
       "2  295246832  C#CCCC[C@H](NC(=O)OCC1c2ccccc2-c2ccccc21)C(=O)O   \n",
       "3  295246833  C#CCCC[C@H](NC(=O)OCC1c2ccccc2-c2ccccc21)C(=O)O   \n",
       "4  295246834  C#CCCC[C@H](NC(=O)OCC1c2ccccc2-c2ccccc21)C(=O)O   \n",
       "\n",
       "  buildingblock2_smiles   buildingblock3_smiles  \\\n",
       "0        C=Cc1ccc(N)cc1          C=Cc1ccc(N)cc1   \n",
       "1        C=Cc1ccc(N)cc1          C=Cc1ccc(N)cc1   \n",
       "2        C=Cc1ccc(N)cc1          C=Cc1ccc(N)cc1   \n",
       "3        C=Cc1ccc(N)cc1  CC(O)Cn1cnc2c(N)ncnc21   \n",
       "4        C=Cc1ccc(N)cc1  CC(O)Cn1cnc2c(N)ncnc21   \n",
       "\n",
       "                                     molecule_smiles protein_name  \n",
       "0  C#CCCC[C@H](Nc1nc(Nc2ccc(C=C)cc2)nc(Nc2ccc(C=C...         BRD4  \n",
       "1  C#CCCC[C@H](Nc1nc(Nc2ccc(C=C)cc2)nc(Nc2ccc(C=C...          HSA  \n",
       "2  C#CCCC[C@H](Nc1nc(Nc2ccc(C=C)cc2)nc(Nc2ccc(C=C...          sEH  \n",
       "3  C#CCCC[C@H](Nc1nc(Nc2ccc(C=C)cc2)nc(Nc2ncnc3c2...         BRD4  \n",
       "4  C#CCCC[C@H](Nc1nc(Nc2ccc(C=C)cc2)nc(Nc2ncnc3c2...          HSA  "
      ]
     },
     "metadata": {},
     "output_type": "display_data"
    }
   ],
   "source": [
    "display(med_test.head())"
   ]
  },
  {
   "cell_type": "code",
   "execution_count": 27,
   "metadata": {},
   "outputs": [
    {
     "name": "stdout",
     "output_type": "stream",
     "text": [
      "<class 'pandas.core.frame.DataFrame'>\n",
      "RangeIndex: 1674896 entries, 0 to 1674895\n",
      "Data columns (total 6 columns):\n",
      " #   Column                 Non-Null Count    Dtype \n",
      "---  ------                 --------------    ----- \n",
      " 0   id                     1674896 non-null  int64 \n",
      " 1   buildingblock1_smiles  1674896 non-null  object\n",
      " 2   buildingblock2_smiles  1674896 non-null  object\n",
      " 3   buildingblock3_smiles  1674896 non-null  object\n",
      " 4   molecule_smiles        1674896 non-null  object\n",
      " 5   protein_name           1674896 non-null  object\n",
      "dtypes: int64(1), object(5)\n",
      "memory usage: 76.7+ MB\n"
     ]
    }
   ],
   "source": [
    "med_test.info()"
   ]
  },
  {
   "cell_type": "markdown",
   "metadata": {},
   "source": [
    "El DataFrame completo contiene un total de 1,674,896 observaciones y 6 variables, todas las columnas contienen datos completos, sin valores nulos. El DataFrame 'med_test' es significativamente más pequeño en comparación con el de entrenamiento, que tiene un tamaño mucho mayor."
   ]
  },
  {
   "cell_type": "markdown",
   "metadata": {},
   "source": [
    "## Descriptiva para Variables Categóricas"
   ]
  },
  {
   "cell_type": "markdown",
   "metadata": {},
   "source": [
    "Se contaran el número de ocurrencias de cada valor en la columna 'protein_name' del DataFrame 'medicinas'."
   ]
  },
  {
   "cell_type": "code",
   "execution_count": 8,
   "metadata": {},
   "outputs": [
    {
     "name": "stdout",
     "output_type": "stream",
     "text": [
      "protein_name\n",
      "BRD4    98415610\n",
      "HSA     98415610\n",
      "sEH     98415610\n",
      "Name: count, dtype: int64\n"
     ]
    }
   ],
   "source": [
    "proteina = medicinas['protein_name'].value_counts()\n",
    "print(proteina)"
   ]
  },
  {
   "cell_type": "code",
   "execution_count": 29,
   "metadata": {},
   "outputs": [
    {
     "name": "stdout",
     "output_type": "stream",
     "text": [
      "protein_name\n",
      "BRD4    558859\n",
      "sEH     558142\n",
      "HSA     557895\n",
      "Name: count, dtype: int64\n"
     ]
    }
   ],
   "source": [
    "proteina_test = med_test['protein_name'].value_counts()\n",
    "print(proteina_test)"
   ]
  },
  {
   "cell_type": "markdown",
   "metadata": {},
   "source": [
    "Los tres nombres de proteínas (BRD4, HSA, y sEH) tienen el mismo número de registros en cada Dataframe tanto el de entrenamiento 'medicinas' como el de prueba 'med_test'"
   ]
  },
  {
   "cell_type": "code",
   "execution_count": 9,
   "metadata": {},
   "outputs": [
    {
     "name": "stdout",
     "output_type": "stream",
     "text": [
      "buildingblock1_smiles\n",
      "O=C(N[C@H]1CC[C@@H](C(=O)O)C1)OCC1c2ccccc2-c2ccccc21     1090407\n",
      "O=C(O)[C@H]1CCN1C(=O)OCC1c2ccccc2-c2ccccc21              1090380\n",
      "O=C(N[C@@H]1CC[C@H](C(=O)O)C1)OCC1c2ccccc2-c2ccccc21     1090368\n",
      "O=C(N[C@@H](CC1CC1)C(=O)O)OCC1c2ccccc2-c2ccccc21         1090362\n",
      "O=C(O)C1CN(C(=O)OCC2c3ccccc3-c3ccccc32)C1                1090329\n",
      "                                                          ...   \n",
      "O=C(O)CC1(CNC(=O)OCC2c3ccccc3-c3ccccc32)CCCCC1           1087461\n",
      "O=C(NC[C@H]1CC[C@H](C(=O)O)CC1)OCC1c2ccccc2-c2ccccc21    1087428\n",
      "O=C(NCC1CCC(C(=O)O)CC1)OCC1c2ccccc2-c2ccccc21            1087392\n",
      "O=C(N[C@@H](Cc1ccco1)C(=O)O)OCC1c2ccccc2-c2ccccc21       1087374\n",
      "O=C(NC1(C(=O)O)CCOCC1)OCC1c2ccccc2-c2ccccc21             1086975\n",
      "Name: count, Length: 271, dtype: int64\n"
     ]
    }
   ],
   "source": [
    "bloke1 = medicinas['buildingblock1_smiles'].value_counts()\n",
    "print(bloke1)"
   ]
  },
  {
   "cell_type": "code",
   "execution_count": 31,
   "metadata": {},
   "outputs": [
    {
     "name": "stdout",
     "output_type": "stream",
     "text": [
      "buildingblock1_smiles\n",
      "O=C(N[C@@H]1CCN(c2cc(C(=O)O)cc(Cl)n2)C1)OCC1c2ccccc2-c2ccccc21     14098\n",
      "O=C(NC1CN(c2cc(C(=O)O)cc(Cl)n2)C1)OCC1c2ccccc2-c2ccccc21           14064\n",
      "CC(C)(C)OC(=O)N1CCC(C(=O)O)(c2cccc(Br)c2)CC1                       14041\n",
      "O=C(O)[C@@H]1C=C(c2ccnc(Br)c2)CN1C(=O)OCC1c2ccccc2-c2ccccc21       14039\n",
      "O=C(O)[C@@H]1CN(C(=O)OCC2c3ccccc3-c3ccccc32)C[C@H]1c1ccnc(Cl)c1    14004\n",
      "                                                                   ...  \n",
      "O=C(N[C@H](Cc1c[nH]c2cc(Cl)ccc12)C(=O)O)OCC1c2ccccc2-c2ccccc21      1989\n",
      "O=C(O)C[C@H](Cc1csc2ccccc12)NC(=O)OCC1c2ccccc2-c2ccccc21            1989\n",
      "O=C(Nc1cc(O)cc(C(=O)O)c1)OCC1c2ccccc2-c2ccccc21                     1989\n",
      "O=C(Nc1cc(Cl)c(C(=O)O)cn1)OCC1c2ccccc2-c2ccccc21                    1989\n",
      "C#CCCC[C@H](NC(=O)OCC1c2ccccc2-c2ccccc21)C(=O)O                     1989\n",
      "Name: count, Length: 341, dtype: int64\n"
     ]
    }
   ],
   "source": [
    "bloke1_test = med_test['buildingblock1_smiles'].value_counts()\n",
    "print(bloke1_test)"
   ]
  },
  {
   "cell_type": "markdown",
   "metadata": {},
   "source": [
    "Explicacion de el primer bloque en ambos dataframe"
   ]
  },
  {
   "cell_type": "code",
   "execution_count": 10,
   "metadata": {},
   "outputs": [
    {
     "name": "stdout",
     "output_type": "stream",
     "text": [
      "buildingblock2_smiles\n",
      "NCc1ccccn1                 706092\n",
      "Cl.NCc1cnc2n1CCOC2         704376\n",
      "NCc1c(F)cccc1N1CCCC1       703830\n",
      "CC1(CCCCN)OCCO1            703320\n",
      "Nc1cccc2cnccc12            702201\n",
      "                            ...  \n",
      "CN(Cc1ccco1)Cc1ccccc1CN    149202\n",
      "COc1ccnc(N)c1              148164\n",
      "Nc1cncc(F)c1               147363\n",
      "Cl.NCc1ccc[nH]1            146751\n",
      "Cl.Nc1ccc2cccnc2c1         146712\n",
      "Name: count, Length: 693, dtype: int64\n"
     ]
    }
   ],
   "source": [
    "bloke2 = medicinas['buildingblock2_smiles'].value_counts()\n",
    "print(bloke2)"
   ]
  },
  {
   "cell_type": "code",
   "execution_count": 32,
   "metadata": {},
   "outputs": [
    {
     "name": "stdout",
     "output_type": "stream",
     "text": [
      "buildingblock2_smiles\n",
      "Nc1nc(NCc2ccc(F)cc2)ccc1[N+](=O)[O-]    14637\n",
      "Nc1cccc2ocnc12                          10161\n",
      "CN1C(=O)Cc2cc(CN)ccc21.Cl               10077\n",
      "Nc1nc(-c2cccnc2)cs1                      8031\n",
      "Nc1ccc2[nH]c(=O)[nH]c2c1                 7302\n",
      "                                        ...  \n",
      "COC(=O)c1cc(Cl)sc1N                       204\n",
      "Cc1ccc(N)cn1                              153\n",
      "CC1(C)CCCC1(O)CN                          153\n",
      "Cl.NC[C@@H]1C[C@H]1C1CCC1                 102\n",
      "CN1CCN(c2cccc(N)c2)CC1                     51\n",
      "Name: count, Length: 1140, dtype: int64\n"
     ]
    }
   ],
   "source": [
    "bloke2_test = med_test['buildingblock2_smiles'].value_counts()\n",
    "print(bloke2_test)"
   ]
  },
  {
   "cell_type": "markdown",
   "metadata": {},
   "source": [
    "explicacion del bloque dos en ambos dataframes"
   ]
  },
  {
   "cell_type": "code",
   "execution_count": 11,
   "metadata": {},
   "outputs": [
    {
     "name": "stdout",
     "output_type": "stream",
     "text": [
      "buildingblock3_smiles\n",
      "NCCc1nccc(C2CC2)n1         562191\n",
      "COc1ccc2nnc(CN)n2n1        562164\n",
      "NCc1cnc(N2CCOCC2)c(F)c1    562098\n",
      "CCOC(=O)c1coc(N)n1         562023\n",
      "Nc1nc2ccccc2[nH]1          562005\n",
      "                            ...  \n",
      "NCc1c(F)cccc1N1CCCC1         4062\n",
      "Nc1nc(-c2ccc(F)cc2)cs1       2985\n",
      "Cl.NCc1cnc2n1CCOC2           2376\n",
      "CC1(CCCCN)OCCO1              1626\n",
      "NCc1ccccn1                    798\n",
      "Name: count, Length: 872, dtype: int64\n"
     ]
    }
   ],
   "source": [
    "bloke3 = medicinas['buildingblock3_smiles'].value_counts()\n",
    "print(bloke3)"
   ]
  },
  {
   "cell_type": "code",
   "execution_count": 6,
   "metadata": {},
   "outputs": [
    {
     "name": "stdout",
     "output_type": "stream",
     "text": [
      "buildingblock3_smiles\n",
      "Cl.Cl.NCCc1nnc2c(=O)[nH]ccn12           10323\n",
      "Cc1nn(C)c2ncc(CN)cc12.Cl                 8481\n",
      "NCC1CN2CCN1CC2                           8361\n",
      "Nc1ccc2[nH]c(=O)[nH]c2c1                 6714\n",
      "Nc1nc(NCc2ccc(F)cc2)ccc1[N+](=O)[O-]     6426\n",
      "                                        ...  \n",
      "NCc1ccccn1                                 15\n",
      "Cl.NCC1Cc2ccccc2C1                          9\n",
      "Cl.N#CC1(NC(=O)CN)CC1                       6\n",
      "Nc1cccc2cnccc12                             3\n",
      "NCc1c(F)cccc1N1CCCC1                        3\n",
      "Name: count, Length: 1389, dtype: int64\n"
     ]
    }
   ],
   "source": [
    "bloke3_test = med_test['buildingblock3_smiles'].value_counts()\n",
    "print(bloke3_test)"
   ]
  },
  {
   "cell_type": "markdown",
   "metadata": {},
   "source": [
    "En el caso de la columna 'buildingblock1_smiles', se identificaron 271 valores únicos. De manera similar, la columna 'buildingblock2_smiles' cuenta con 693 valores únicos, y la columna 'buildingblock3_smiles' tiene 872 valores únicos, para confirmar la cantidad de valores únicos en cada columna de bloques de construcción, se utiliza la función .nunique()"
   ]
  },
  {
   "cell_type": "code",
   "execution_count": 19,
   "metadata": {},
   "outputs": [
    {
     "name": "stdout",
     "output_type": "stream",
     "text": [
      "271\n",
      "693\n",
      "872\n"
     ]
    }
   ],
   "source": [
    "print(medicinas['buildingblock1_smiles'].nunique())\n",
    "print(medicinas['buildingblock2_smiles'].nunique())\n",
    "print(medicinas['buildingblock3_smiles'].nunique())"
   ]
  },
  {
   "cell_type": "markdown",
   "metadata": {},
   "source": [
    "Estos números reflejan la variabilidad y riqueza en la composición química de los bloques utilizados en el conjunto de datos, una mayor cantidad de valores únicos implica mayor diversidad en los tipos de bloques utilizados."
   ]
  },
  {
   "cell_type": "markdown",
   "metadata": {},
   "source": [
    "## Descriptiva para la Variable Objetivo"
   ]
  },
  {
   "cell_type": "code",
   "execution_count": 4,
   "metadata": {},
   "outputs": [
    {
     "name": "stdout",
     "output_type": "stream",
     "text": [
      "binds\n",
      "0    293656924\n",
      "1      1589906\n",
      "Name: count, dtype: int64\n"
     ]
    }
   ],
   "source": [
    "frecuencia_binds = medicinas['binds'].value_counts()\n",
    "print(frecuencia_binds)"
   ]
  },
  {
   "cell_type": "markdown",
   "metadata": {},
   "source": [
    "Se visualiza la distribución de nuestra variable objetivo: 'binds'"
   ]
  },
  {
   "cell_type": "code",
   "execution_count": 5,
   "metadata": {},
   "outputs": [
    {
     "data": {
      "image/png": "[encoded data removed]",
      "text/plain": [
       "<Figure size 1000x600 with 1 Axes>"
      ]
     },
     "metadata": {},
     "output_type": "display_data"
    }
   ],
   "source": [
    "plt.figure(figsize=(10, 6))\n",
    "frecuencia_binds.plot(kind='bar')\n",
    "\n",
    "# Añadir títulos y etiquetas\n",
    "plt.title('Frecuencia de Binds')\n",
    "plt.xlabel('Valores de Binds')\n",
    "plt.ylabel('Frecuencia')\n",
    "\n",
    "# Mostrar el gráfico\n",
    "plt.show()"
   ]
  },
  {
   "cell_type": "markdown",
   "metadata": {},
   "source": [
    "Donde podemos notar con claridad la gran diferencia en la proporción de los valores.\n",
    "Un conjunto de datos tan desbalanceado puede sesgar los resultados de los modelos de clasificación, haciéndolos más propensos a predecir la clase mayoritaria (en este caso, binds = 0) y subestimando los casos donde binds = 1."
   ]
  },
  {
   "cell_type": "code",
   "execution_count": 18,
   "metadata": {},
   "outputs": [
    {
     "data": {
      "text/plain": [
       "binds\n",
       "0    0.994615\n",
       "1    0.005385\n",
       "Name: proportion, dtype: float64"
      ]
     },
     "execution_count": 18,
     "metadata": {},
     "output_type": "execute_result"
    }
   ],
   "source": [
    "medicinas['binds'].value_counts(normalize= True)"
   ]
  },
  {
   "cell_type": "markdown",
   "metadata": {},
   "source": [
    "La información muestra que la columna 'binds' está altamente desbalanceada, tenemos 293656924 observaciones (99,4%) de moleculas que no se unieron a la proteina y solo 1589906 (0,5%) si se unieron."
   ]
  },
  {
   "cell_type": "markdown",
   "metadata": {},
   "source": [
    "**Análisis de la variable proteina y su relación con binds**\n",
    "\n",
    "En este análisis, hemos agrupado los datos por la variable proteina para verificar cuántos valores existen por cada clase de proteina, y además identificar la frecuencia y proporción de la variable binds (0 y 1) para cada clase."
   ]
  },
  {
   "cell_type": "code",
   "execution_count": 10,
   "metadata": {},
   "outputs": [
    {
     "data": {
      "image/png": "[encoded data removed]",
      "text/plain": [
       "<Figure size 1000x600 with 1 Axes>"
      ]
     },
     "metadata": {},
     "output_type": "display_data"
    }
   ],
   "source": [
    "cross_tab = pd.crosstab(medicinas['protein_name'], medicinas['binds'])\n",
    "cross_tab.plot(kind='bar', stacked=True, figsize=(10, 6))\n",
    "\n",
    "plt.title('Distribución Apilada de Binds por Proteina')\n",
    "plt.xlabel('Proteina')\n",
    "plt.ylabel('Frecuencia')\n",
    "plt.show()"
   ]
  },
  {
   "cell_type": "markdown",
   "metadata": {},
   "source": [
    "os gráficos de barras apiladas muestran que, en cada tipo de proteína, la mayoría de las observaciones pertenecen a la clase 0 (indicando que las moléculas no se unieron), mientras que las observaciones de la clase 1 (indicando que sí se unieron) son mínimas. Esto sugiere un desbalance en los datos, con una predominancia de instancias donde no se produce la unión."
   ]
  },
  {
   "cell_type": "markdown",
   "metadata": {},
   "source": [
    "## Datos Faltantes"
   ]
  },
  {
   "cell_type": "markdown",
   "metadata": {},
   "source": [
    "Comprobamos si hay datos faltantes tanto en el Dataframe de entrenamiento como enn el de test."
   ]
  },
  {
   "cell_type": "code",
   "execution_count": 6,
   "metadata": {},
   "outputs": [
    {
     "data": {
      "text/html": [
       "<div>\n",
       "<style scoped>\n",
       "    .dataframe tbody tr th:only-of-type {\n",
       "        vertical-align: middle;\n",
       "    }\n",
       "\n",
       "    .dataframe tbody tr th {\n",
       "        vertical-align: top;\n",
       "    }\n",
       "\n",
       "    .dataframe thead th {\n",
       "        text-align: right;\n",
       "    }\n",
       "</style>\n",
       "<table border=\"1\" class=\"dataframe\">\n",
       "  <thead>\n",
       "    <tr style=\"text-align: right;\">\n",
       "      <th></th>\n",
       "      <th>Train NA</th>\n",
       "      <th>Test NA</th>\n",
       "    </tr>\n",
       "  </thead>\n",
       "  <tbody>\n",
       "    <tr>\n",
       "      <th>id</th>\n",
       "      <td>0</td>\n",
       "      <td>0.0</td>\n",
       "    </tr>\n",
       "    <tr>\n",
       "      <th>buildingblock1_smiles</th>\n",
       "      <td>0</td>\n",
       "      <td>0.0</td>\n",
       "    </tr>\n",
       "    <tr>\n",
       "      <th>buildingblock2_smiles</th>\n",
       "      <td>0</td>\n",
       "      <td>0.0</td>\n",
       "    </tr>\n",
       "    <tr>\n",
       "      <th>buildingblock3_smiles</th>\n",
       "      <td>0</td>\n",
       "      <td>0.0</td>\n",
       "    </tr>\n",
       "    <tr>\n",
       "      <th>molecule_smiles</th>\n",
       "      <td>0</td>\n",
       "      <td>0.0</td>\n",
       "    </tr>\n",
       "    <tr>\n",
       "      <th>protein_name</th>\n",
       "      <td>0</td>\n",
       "      <td>0.0</td>\n",
       "    </tr>\n",
       "    <tr>\n",
       "      <th>binds</th>\n",
       "      <td>0</td>\n",
       "      <td>NaN</td>\n",
       "    </tr>\n",
       "  </tbody>\n",
       "</table>\n",
       "</div>"
      ],
      "text/plain": [
       "                       Train NA  Test NA\n",
       "id                            0      0.0\n",
       "buildingblock1_smiles         0      0.0\n",
       "buildingblock2_smiles         0      0.0\n",
       "buildingblock3_smiles         0      0.0\n",
       "molecule_smiles               0      0.0\n",
       "protein_name                  0      0.0\n",
       "binds                         0      NaN"
      ]
     },
     "execution_count": 6,
     "metadata": {},
     "output_type": "execute_result"
    }
   ],
   "source": [
    "train_NA = medicinas.isna().sum()\n",
    "test_NA = med_test.isna().sum()\n",
    "pd.concat([train_NA, test_NA], axis=1, sort = False, keys = ['Train NA', 'Test NA'])"
   ]
  },
  {
   "cell_type": "markdown",
   "metadata": {},
   "source": [
    "Los Dataframe no tienen valores faltantes, los NaN en la variable 'binds' es debido a la ausencia de esta información en el conjunto de datos de prueba (Test)."
   ]
  },
  {
   "cell_type": "markdown",
   "metadata": {},
   "source": [
    "# Modificacion del dataset"
   ]
  },
  {
   "cell_type": "markdown",
   "metadata": {},
   "source": [
    "Se ha decidido eliminar dos columnas del conjunto de datos: id y molecule_smiles. La columna id se ha excluido porque actúa únicamente como identificador único de las observaciones, sin aportar información relevante para el análisis. De manera similar, la columna molecule_smiles contiene nombres de moléculas que, aunque únicos, se repiten tres veces debido a la presencia de los tres tipos diferentes de proteínas en el conjunto de datos. Dado que estos valores se utilizan solo para la identificación y no influyen en el análisis predictivo, se considera innecesario mantenerlos. Además, la eliminación de estas columnas contribuye a reducir el tamaño del conjunto de datos, lo que optimiza el rendimiento del procesamiento y la velocidad de los modelos aligerando significativamente la base de datos y acelerando los procesos subsiguientes."
   ]
  },
  {
   "cell_type": "code",
   "execution_count": null,
   "metadata": {},
   "outputs": [],
   "source": [
    "medicinas = medicinas.drop(columns =['id', 'molecule_smiles'])"
   ]
  },
  {
   "cell_type": "code",
   "execution_count": 11,
   "metadata": {},
   "outputs": [],
   "source": [
    "med_test = med_test.drop(columns =['id', 'molecule_smiles'])"
   ]
  },
  {
   "cell_type": "markdown",
   "metadata": {},
   "source": [
    "## Division de la base de datos"
   ]
  },
  {
   "cell_type": "markdown",
   "metadata": {},
   "source": [
    "El DataFrame de entrenamiento cuenta con 295246830 filas y 5 columnas, de las cuales 5 son categóricas con 2 numéricas (la variable objetivo) y el id. Como sabemos el tamaño del dataset sigue siendo considerablemente grande, lo que relentiza los procesos analíticos. Por ello, se propone dividir el conjunto de datos en tres DataFrames separados, basados en las proteínas involucradas: uno para la proteína sEH, otro para HSA, y el tercero para BRD4. "
   ]
  },
  {
   "cell_type": "code",
   "execution_count": 7,
   "metadata": {},
   "outputs": [],
   "source": [
    "medicinas_proteina1 = medicinas[medicinas['protein_name'] == 'sEH']"
   ]
  },
  {
   "cell_type": "code",
   "execution_count": 7,
   "metadata": {},
   "outputs": [
    {
     "data": {
      "text/html": [
       "<div>\n",
       "<style scoped>\n",
       "    .dataframe tbody tr th:only-of-type {\n",
       "        vertical-align: middle;\n",
       "    }\n",
       "\n",
       "    .dataframe tbody tr th {\n",
       "        vertical-align: top;\n",
       "    }\n",
       "\n",
       "    .dataframe thead th {\n",
       "        text-align: right;\n",
       "    }\n",
       "</style>\n",
       "<table border=\"1\" class=\"dataframe\">\n",
       "  <thead>\n",
       "    <tr style=\"text-align: right;\">\n",
       "      <th></th>\n",
       "      <th>buildingblock1_smiles</th>\n",
       "      <th>buildingblock2_smiles</th>\n",
       "      <th>buildingblock3_smiles</th>\n",
       "      <th>protein_name</th>\n",
       "      <th>binds</th>\n",
       "    </tr>\n",
       "  </thead>\n",
       "  <tbody>\n",
       "    <tr>\n",
       "      <th>2</th>\n",
       "      <td>C#CC[C@@H](CC(=O)O)NC(=O)OCC1c2ccccc2-c2ccccc21</td>\n",
       "      <td>C#CCOc1ccc(CN)cc1.Cl</td>\n",
       "      <td>Br.Br.NCC1CCCN1c1cccnn1</td>\n",
       "      <td>sEH</td>\n",
       "      <td>0</td>\n",
       "    </tr>\n",
       "    <tr>\n",
       "      <th>5</th>\n",
       "      <td>C#CC[C@@H](CC(=O)O)NC(=O)OCC1c2ccccc2-c2ccccc21</td>\n",
       "      <td>C#CCOc1ccc(CN)cc1.Cl</td>\n",
       "      <td>Br.NCc1cccc(Br)n1</td>\n",
       "      <td>sEH</td>\n",
       "      <td>0</td>\n",
       "    </tr>\n",
       "    <tr>\n",
       "      <th>8</th>\n",
       "      <td>C#CC[C@@H](CC(=O)O)NC(=O)OCC1c2ccccc2-c2ccccc21</td>\n",
       "      <td>C#CCOc1ccc(CN)cc1.Cl</td>\n",
       "      <td>C#CCOc1ccc(CN)cc1.Cl</td>\n",
       "      <td>sEH</td>\n",
       "      <td>0</td>\n",
       "    </tr>\n",
       "    <tr>\n",
       "      <th>11</th>\n",
       "      <td>C#CC[C@@H](CC(=O)O)NC(=O)OCC1c2ccccc2-c2ccccc21</td>\n",
       "      <td>C#CCOc1ccc(CN)cc1.Cl</td>\n",
       "      <td>C=C(C)C(=O)NCCN.Cl</td>\n",
       "      <td>sEH</td>\n",
       "      <td>0</td>\n",
       "    </tr>\n",
       "    <tr>\n",
       "      <th>14</th>\n",
       "      <td>C#CC[C@@H](CC(=O)O)NC(=O)OCC1c2ccccc2-c2ccccc21</td>\n",
       "      <td>C#CCOc1ccc(CN)cc1.Cl</td>\n",
       "      <td>C=CCNC(=O)CN.Cl</td>\n",
       "      <td>sEH</td>\n",
       "      <td>0</td>\n",
       "    </tr>\n",
       "  </tbody>\n",
       "</table>\n",
       "</div>"
      ],
      "text/plain": [
       "                              buildingblock1_smiles buildingblock2_smiles  \\\n",
       "2   C#CC[C@@H](CC(=O)O)NC(=O)OCC1c2ccccc2-c2ccccc21  C#CCOc1ccc(CN)cc1.Cl   \n",
       "5   C#CC[C@@H](CC(=O)O)NC(=O)OCC1c2ccccc2-c2ccccc21  C#CCOc1ccc(CN)cc1.Cl   \n",
       "8   C#CC[C@@H](CC(=O)O)NC(=O)OCC1c2ccccc2-c2ccccc21  C#CCOc1ccc(CN)cc1.Cl   \n",
       "11  C#CC[C@@H](CC(=O)O)NC(=O)OCC1c2ccccc2-c2ccccc21  C#CCOc1ccc(CN)cc1.Cl   \n",
       "14  C#CC[C@@H](CC(=O)O)NC(=O)OCC1c2ccccc2-c2ccccc21  C#CCOc1ccc(CN)cc1.Cl   \n",
       "\n",
       "      buildingblock3_smiles protein_name  binds  \n",
       "2   Br.Br.NCC1CCCN1c1cccnn1          sEH      0  \n",
       "5         Br.NCc1cccc(Br)n1          sEH      0  \n",
       "8      C#CCOc1ccc(CN)cc1.Cl          sEH      0  \n",
       "11       C=C(C)C(=O)NCCN.Cl          sEH      0  \n",
       "14          C=CCNC(=O)CN.Cl          sEH      0  "
      ]
     },
     "metadata": {},
     "output_type": "display_data"
    }
   ],
   "source": [
    "display(medicinas_proteina1.head())"
   ]
  },
  {
   "cell_type": "code",
   "execution_count": 11,
   "metadata": {},
   "outputs": [
    {
     "data": {
      "text/html": [
       "<div>\n",
       "<style scoped>\n",
       "    .dataframe tbody tr th:only-of-type {\n",
       "        vertical-align: middle;\n",
       "    }\n",
       "\n",
       "    .dataframe tbody tr th {\n",
       "        vertical-align: top;\n",
       "    }\n",
       "\n",
       "    .dataframe thead th {\n",
       "        text-align: right;\n",
       "    }\n",
       "</style>\n",
       "<table border=\"1\" class=\"dataframe\">\n",
       "  <thead>\n",
       "    <tr style=\"text-align: right;\">\n",
       "      <th></th>\n",
       "      <th>id</th>\n",
       "      <th>buildingblock1_smiles</th>\n",
       "      <th>buildingblock2_smiles</th>\n",
       "      <th>buildingblock3_smiles</th>\n",
       "      <th>molecule_smiles</th>\n",
       "      <th>protein_name</th>\n",
       "    </tr>\n",
       "  </thead>\n",
       "  <tbody>\n",
       "    <tr>\n",
       "      <th>2</th>\n",
       "      <td>295246832</td>\n",
       "      <td>C#CCCC[C@H](NC(=O)OCC1c2ccccc2-c2ccccc21)C(=O)O</td>\n",
       "      <td>C=Cc1ccc(N)cc1</td>\n",
       "      <td>C=Cc1ccc(N)cc1</td>\n",
       "      <td>C#CCCC[C@H](Nc1nc(Nc2ccc(C=C)cc2)nc(Nc2ccc(C=C...</td>\n",
       "      <td>sEH</td>\n",
       "    </tr>\n",
       "    <tr>\n",
       "      <th>5</th>\n",
       "      <td>295246835</td>\n",
       "      <td>C#CCCC[C@H](NC(=O)OCC1c2ccccc2-c2ccccc21)C(=O)O</td>\n",
       "      <td>C=Cc1ccc(N)cc1</td>\n",
       "      <td>CC(O)Cn1cnc2c(N)ncnc21</td>\n",
       "      <td>C#CCCC[C@H](Nc1nc(Nc2ccc(C=C)cc2)nc(Nc2ncnc3c2...</td>\n",
       "      <td>sEH</td>\n",
       "    </tr>\n",
       "    <tr>\n",
       "      <th>8</th>\n",
       "      <td>295246838</td>\n",
       "      <td>C#CCCC[C@H](NC(=O)OCC1c2ccccc2-c2ccccc21)C(=O)O</td>\n",
       "      <td>C=Cc1ccc(N)cc1</td>\n",
       "      <td>CC1(C)CCCC1(O)CN</td>\n",
       "      <td>C#CCCC[C@H](Nc1nc(NCC2(O)CCCC2(C)C)nc(Nc2ccc(C...</td>\n",
       "      <td>sEH</td>\n",
       "    </tr>\n",
       "    <tr>\n",
       "      <th>11</th>\n",
       "      <td>295246841</td>\n",
       "      <td>C#CCCC[C@H](NC(=O)OCC1c2ccccc2-c2ccccc21)C(=O)O</td>\n",
       "      <td>C=Cc1ccc(N)cc1</td>\n",
       "      <td>COC(=O)c1cc(Cl)sc1N</td>\n",
       "      <td>C#CCCC[C@H](Nc1nc(Nc2ccc(C=C)cc2)nc(Nc2sc(Cl)c...</td>\n",
       "      <td>sEH</td>\n",
       "    </tr>\n",
       "    <tr>\n",
       "      <th>14</th>\n",
       "      <td>295246844</td>\n",
       "      <td>C#CCCC[C@H](NC(=O)OCC1c2ccccc2-c2ccccc21)C(=O)O</td>\n",
       "      <td>C=Cc1ccc(N)cc1</td>\n",
       "      <td>CSC1CCC(CN)CC1</td>\n",
       "      <td>C#CCCC[C@H](Nc1nc(NCC2CCC(SC)CC2)nc(Nc2ccc(C=C...</td>\n",
       "      <td>sEH</td>\n",
       "    </tr>\n",
       "  </tbody>\n",
       "</table>\n",
       "</div>"
      ],
      "text/plain": [
       "           id                            buildingblock1_smiles  \\\n",
       "2   295246832  C#CCCC[C@H](NC(=O)OCC1c2ccccc2-c2ccccc21)C(=O)O   \n",
       "5   295246835  C#CCCC[C@H](NC(=O)OCC1c2ccccc2-c2ccccc21)C(=O)O   \n",
       "8   295246838  C#CCCC[C@H](NC(=O)OCC1c2ccccc2-c2ccccc21)C(=O)O   \n",
       "11  295246841  C#CCCC[C@H](NC(=O)OCC1c2ccccc2-c2ccccc21)C(=O)O   \n",
       "14  295246844  C#CCCC[C@H](NC(=O)OCC1c2ccccc2-c2ccccc21)C(=O)O   \n",
       "\n",
       "   buildingblock2_smiles   buildingblock3_smiles  \\\n",
       "2         C=Cc1ccc(N)cc1          C=Cc1ccc(N)cc1   \n",
       "5         C=Cc1ccc(N)cc1  CC(O)Cn1cnc2c(N)ncnc21   \n",
       "8         C=Cc1ccc(N)cc1        CC1(C)CCCC1(O)CN   \n",
       "11        C=Cc1ccc(N)cc1     COC(=O)c1cc(Cl)sc1N   \n",
       "14        C=Cc1ccc(N)cc1          CSC1CCC(CN)CC1   \n",
       "\n",
       "                                      molecule_smiles protein_name  \n",
       "2   C#CCCC[C@H](Nc1nc(Nc2ccc(C=C)cc2)nc(Nc2ccc(C=C...          sEH  \n",
       "5   C#CCCC[C@H](Nc1nc(Nc2ccc(C=C)cc2)nc(Nc2ncnc3c2...          sEH  \n",
       "8   C#CCCC[C@H](Nc1nc(NCC2(O)CCCC2(C)C)nc(Nc2ccc(C...          sEH  \n",
       "11  C#CCCC[C@H](Nc1nc(Nc2ccc(C=C)cc2)nc(Nc2sc(Cl)c...          sEH  \n",
       "14  C#CCCC[C@H](Nc1nc(NCC2CCC(SC)CC2)nc(Nc2ccc(C=C...          sEH  "
      ]
     },
     "metadata": {},
     "output_type": "display_data"
    }
   ],
   "source": [
    "test_proteina1 = med_test[med_test['protein_name']== 'sEH']\n",
    "display(test_proteina1.head())"
   ]
  },
  {
   "cell_type": "code",
   "execution_count": 10,
   "metadata": {},
   "outputs": [
    {
     "data": {
      "text/plain": [
       "(558142, 4)"
      ]
     },
     "execution_count": 10,
     "metadata": {},
     "output_type": "execute_result"
    }
   ],
   "source": [
    "test_proteina1.shape"
   ]
  },
  {
   "cell_type": "code",
   "execution_count": 11,
   "metadata": {},
   "outputs": [
    {
     "data": {
      "text/html": [
       "<div>\n",
       "<style scoped>\n",
       "    .dataframe tbody tr th:only-of-type {\n",
       "        vertical-align: middle;\n",
       "    }\n",
       "\n",
       "    .dataframe tbody tr th {\n",
       "        vertical-align: top;\n",
       "    }\n",
       "\n",
       "    .dataframe thead th {\n",
       "        text-align: right;\n",
       "    }\n",
       "</style>\n",
       "<table border=\"1\" class=\"dataframe\">\n",
       "  <thead>\n",
       "    <tr style=\"text-align: right;\">\n",
       "      <th></th>\n",
       "      <th>buildingblock1_smiles</th>\n",
       "      <th>buildingblock2_smiles</th>\n",
       "      <th>buildingblock3_smiles</th>\n",
       "      <th>protein_name</th>\n",
       "      <th>binds</th>\n",
       "    </tr>\n",
       "  </thead>\n",
       "  <tbody>\n",
       "    <tr>\n",
       "      <th>1</th>\n",
       "      <td>C#CC[C@@H](CC(=O)O)NC(=O)OCC1c2ccccc2-c2ccccc21</td>\n",
       "      <td>C#CCOc1ccc(CN)cc1.Cl</td>\n",
       "      <td>Br.Br.NCC1CCCN1c1cccnn1</td>\n",
       "      <td>HSA</td>\n",
       "      <td>0</td>\n",
       "    </tr>\n",
       "    <tr>\n",
       "      <th>4</th>\n",
       "      <td>C#CC[C@@H](CC(=O)O)NC(=O)OCC1c2ccccc2-c2ccccc21</td>\n",
       "      <td>C#CCOc1ccc(CN)cc1.Cl</td>\n",
       "      <td>Br.NCc1cccc(Br)n1</td>\n",
       "      <td>HSA</td>\n",
       "      <td>0</td>\n",
       "    </tr>\n",
       "    <tr>\n",
       "      <th>7</th>\n",
       "      <td>C#CC[C@@H](CC(=O)O)NC(=O)OCC1c2ccccc2-c2ccccc21</td>\n",
       "      <td>C#CCOc1ccc(CN)cc1.Cl</td>\n",
       "      <td>C#CCOc1ccc(CN)cc1.Cl</td>\n",
       "      <td>HSA</td>\n",
       "      <td>0</td>\n",
       "    </tr>\n",
       "    <tr>\n",
       "      <th>10</th>\n",
       "      <td>C#CC[C@@H](CC(=O)O)NC(=O)OCC1c2ccccc2-c2ccccc21</td>\n",
       "      <td>C#CCOc1ccc(CN)cc1.Cl</td>\n",
       "      <td>C=C(C)C(=O)NCCN.Cl</td>\n",
       "      <td>HSA</td>\n",
       "      <td>0</td>\n",
       "    </tr>\n",
       "    <tr>\n",
       "      <th>13</th>\n",
       "      <td>C#CC[C@@H](CC(=O)O)NC(=O)OCC1c2ccccc2-c2ccccc21</td>\n",
       "      <td>C#CCOc1ccc(CN)cc1.Cl</td>\n",
       "      <td>C=CCNC(=O)CN.Cl</td>\n",
       "      <td>HSA</td>\n",
       "      <td>0</td>\n",
       "    </tr>\n",
       "  </tbody>\n",
       "</table>\n",
       "</div>"
      ],
      "text/plain": [
       "                              buildingblock1_smiles buildingblock2_smiles  \\\n",
       "1   C#CC[C@@H](CC(=O)O)NC(=O)OCC1c2ccccc2-c2ccccc21  C#CCOc1ccc(CN)cc1.Cl   \n",
       "4   C#CC[C@@H](CC(=O)O)NC(=O)OCC1c2ccccc2-c2ccccc21  C#CCOc1ccc(CN)cc1.Cl   \n",
       "7   C#CC[C@@H](CC(=O)O)NC(=O)OCC1c2ccccc2-c2ccccc21  C#CCOc1ccc(CN)cc1.Cl   \n",
       "10  C#CC[C@@H](CC(=O)O)NC(=O)OCC1c2ccccc2-c2ccccc21  C#CCOc1ccc(CN)cc1.Cl   \n",
       "13  C#CC[C@@H](CC(=O)O)NC(=O)OCC1c2ccccc2-c2ccccc21  C#CCOc1ccc(CN)cc1.Cl   \n",
       "\n",
       "      buildingblock3_smiles protein_name  binds  \n",
       "1   Br.Br.NCC1CCCN1c1cccnn1          HSA      0  \n",
       "4         Br.NCc1cccc(Br)n1          HSA      0  \n",
       "7      C#CCOc1ccc(CN)cc1.Cl          HSA      0  \n",
       "10       C=C(C)C(=O)NCCN.Cl          HSA      0  \n",
       "13          C=CCNC(=O)CN.Cl          HSA      0  "
      ]
     },
     "metadata": {},
     "output_type": "display_data"
    }
   ],
   "source": [
    "medicinas_proteina2 = medicinas[medicinas['protein_name'] == 'HSA']\n",
    "display(medicinas_proteina2.head())"
   ]
  },
  {
   "cell_type": "code",
   "execution_count": 31,
   "metadata": {},
   "outputs": [
    {
     "data": {
      "text/html": [
       "<div>\n",
       "<style scoped>\n",
       "    .dataframe tbody tr th:only-of-type {\n",
       "        vertical-align: middle;\n",
       "    }\n",
       "\n",
       "    .dataframe tbody tr th {\n",
       "        vertical-align: top;\n",
       "    }\n",
       "\n",
       "    .dataframe thead th {\n",
       "        text-align: right;\n",
       "    }\n",
       "</style>\n",
       "<table border=\"1\" class=\"dataframe\">\n",
       "  <thead>\n",
       "    <tr style=\"text-align: right;\">\n",
       "      <th></th>\n",
       "      <th>buildingblock1_smiles</th>\n",
       "      <th>buildingblock2_smiles</th>\n",
       "      <th>buildingblock3_smiles</th>\n",
       "      <th>protein_name</th>\n",
       "    </tr>\n",
       "  </thead>\n",
       "  <tbody>\n",
       "    <tr>\n",
       "      <th>1</th>\n",
       "      <td>C#CCCC[C@H](NC(=O)OCC1c2ccccc2-c2ccccc21)C(=O)O</td>\n",
       "      <td>C=Cc1ccc(N)cc1</td>\n",
       "      <td>C=Cc1ccc(N)cc1</td>\n",
       "      <td>HSA</td>\n",
       "    </tr>\n",
       "    <tr>\n",
       "      <th>4</th>\n",
       "      <td>C#CCCC[C@H](NC(=O)OCC1c2ccccc2-c2ccccc21)C(=O)O</td>\n",
       "      <td>C=Cc1ccc(N)cc1</td>\n",
       "      <td>CC(O)Cn1cnc2c(N)ncnc21</td>\n",
       "      <td>HSA</td>\n",
       "    </tr>\n",
       "    <tr>\n",
       "      <th>7</th>\n",
       "      <td>C#CCCC[C@H](NC(=O)OCC1c2ccccc2-c2ccccc21)C(=O)O</td>\n",
       "      <td>C=Cc1ccc(N)cc1</td>\n",
       "      <td>CC1(C)CCCC1(O)CN</td>\n",
       "      <td>HSA</td>\n",
       "    </tr>\n",
       "    <tr>\n",
       "      <th>10</th>\n",
       "      <td>C#CCCC[C@H](NC(=O)OCC1c2ccccc2-c2ccccc21)C(=O)O</td>\n",
       "      <td>C=Cc1ccc(N)cc1</td>\n",
       "      <td>COC(=O)c1cc(Cl)sc1N</td>\n",
       "      <td>HSA</td>\n",
       "    </tr>\n",
       "    <tr>\n",
       "      <th>13</th>\n",
       "      <td>C#CCCC[C@H](NC(=O)OCC1c2ccccc2-c2ccccc21)C(=O)O</td>\n",
       "      <td>C=Cc1ccc(N)cc1</td>\n",
       "      <td>CSC1CCC(CN)CC1</td>\n",
       "      <td>HSA</td>\n",
       "    </tr>\n",
       "  </tbody>\n",
       "</table>\n",
       "</div>"
      ],
      "text/plain": [
       "                              buildingblock1_smiles buildingblock2_smiles  \\\n",
       "1   C#CCCC[C@H](NC(=O)OCC1c2ccccc2-c2ccccc21)C(=O)O        C=Cc1ccc(N)cc1   \n",
       "4   C#CCCC[C@H](NC(=O)OCC1c2ccccc2-c2ccccc21)C(=O)O        C=Cc1ccc(N)cc1   \n",
       "7   C#CCCC[C@H](NC(=O)OCC1c2ccccc2-c2ccccc21)C(=O)O        C=Cc1ccc(N)cc1   \n",
       "10  C#CCCC[C@H](NC(=O)OCC1c2ccccc2-c2ccccc21)C(=O)O        C=Cc1ccc(N)cc1   \n",
       "13  C#CCCC[C@H](NC(=O)OCC1c2ccccc2-c2ccccc21)C(=O)O        C=Cc1ccc(N)cc1   \n",
       "\n",
       "     buildingblock3_smiles protein_name  \n",
       "1           C=Cc1ccc(N)cc1          HSA  \n",
       "4   CC(O)Cn1cnc2c(N)ncnc21          HSA  \n",
       "7         CC1(C)CCCC1(O)CN          HSA  \n",
       "10     COC(=O)c1cc(Cl)sc1N          HSA  \n",
       "13          CSC1CCC(CN)CC1          HSA  "
      ]
     },
     "metadata": {},
     "output_type": "display_data"
    }
   ],
   "source": [
    "test_proteina2 = med_test[med_test['protein_name']== 'HSA']\n",
    "display(test_proteina2.head())"
   ]
  },
  {
   "cell_type": "code",
   "execution_count": 15,
   "metadata": {},
   "outputs": [
    {
     "data": {
      "text/plain": [
       "(557895, 4)"
      ]
     },
     "execution_count": 15,
     "metadata": {},
     "output_type": "execute_result"
    }
   ],
   "source": [
    "test_proteina2.shape"
   ]
  },
  {
   "cell_type": "code",
   "execution_count": 17,
   "metadata": {},
   "outputs": [
    {
     "data": {
      "text/html": [
       "<div>\n",
       "<style scoped>\n",
       "    .dataframe tbody tr th:only-of-type {\n",
       "        vertical-align: middle;\n",
       "    }\n",
       "\n",
       "    .dataframe tbody tr th {\n",
       "        vertical-align: top;\n",
       "    }\n",
       "\n",
       "    .dataframe thead th {\n",
       "        text-align: right;\n",
       "    }\n",
       "</style>\n",
       "<table border=\"1\" class=\"dataframe\">\n",
       "  <thead>\n",
       "    <tr style=\"text-align: right;\">\n",
       "      <th></th>\n",
       "      <th>buildingblock1_smiles</th>\n",
       "      <th>buildingblock2_smiles</th>\n",
       "      <th>buildingblock3_smiles</th>\n",
       "      <th>protein_name</th>\n",
       "      <th>binds</th>\n",
       "    </tr>\n",
       "  </thead>\n",
       "  <tbody>\n",
       "    <tr>\n",
       "      <th>0</th>\n",
       "      <td>C#CC[C@@H](CC(=O)O)NC(=O)OCC1c2ccccc2-c2ccccc21</td>\n",
       "      <td>C#CCOc1ccc(CN)cc1.Cl</td>\n",
       "      <td>Br.Br.NCC1CCCN1c1cccnn1</td>\n",
       "      <td>BRD4</td>\n",
       "      <td>0</td>\n",
       "    </tr>\n",
       "    <tr>\n",
       "      <th>3</th>\n",
       "      <td>C#CC[C@@H](CC(=O)O)NC(=O)OCC1c2ccccc2-c2ccccc21</td>\n",
       "      <td>C#CCOc1ccc(CN)cc1.Cl</td>\n",
       "      <td>Br.NCc1cccc(Br)n1</td>\n",
       "      <td>BRD4</td>\n",
       "      <td>0</td>\n",
       "    </tr>\n",
       "    <tr>\n",
       "      <th>6</th>\n",
       "      <td>C#CC[C@@H](CC(=O)O)NC(=O)OCC1c2ccccc2-c2ccccc21</td>\n",
       "      <td>C#CCOc1ccc(CN)cc1.Cl</td>\n",
       "      <td>C#CCOc1ccc(CN)cc1.Cl</td>\n",
       "      <td>BRD4</td>\n",
       "      <td>0</td>\n",
       "    </tr>\n",
       "    <tr>\n",
       "      <th>9</th>\n",
       "      <td>C#CC[C@@H](CC(=O)O)NC(=O)OCC1c2ccccc2-c2ccccc21</td>\n",
       "      <td>C#CCOc1ccc(CN)cc1.Cl</td>\n",
       "      <td>C=C(C)C(=O)NCCN.Cl</td>\n",
       "      <td>BRD4</td>\n",
       "      <td>0</td>\n",
       "    </tr>\n",
       "    <tr>\n",
       "      <th>12</th>\n",
       "      <td>C#CC[C@@H](CC(=O)O)NC(=O)OCC1c2ccccc2-c2ccccc21</td>\n",
       "      <td>C#CCOc1ccc(CN)cc1.Cl</td>\n",
       "      <td>C=CCNC(=O)CN.Cl</td>\n",
       "      <td>BRD4</td>\n",
       "      <td>0</td>\n",
       "    </tr>\n",
       "  </tbody>\n",
       "</table>\n",
       "</div>"
      ],
      "text/plain": [
       "                              buildingblock1_smiles buildingblock2_smiles  \\\n",
       "0   C#CC[C@@H](CC(=O)O)NC(=O)OCC1c2ccccc2-c2ccccc21  C#CCOc1ccc(CN)cc1.Cl   \n",
       "3   C#CC[C@@H](CC(=O)O)NC(=O)OCC1c2ccccc2-c2ccccc21  C#CCOc1ccc(CN)cc1.Cl   \n",
       "6   C#CC[C@@H](CC(=O)O)NC(=O)OCC1c2ccccc2-c2ccccc21  C#CCOc1ccc(CN)cc1.Cl   \n",
       "9   C#CC[C@@H](CC(=O)O)NC(=O)OCC1c2ccccc2-c2ccccc21  C#CCOc1ccc(CN)cc1.Cl   \n",
       "12  C#CC[C@@H](CC(=O)O)NC(=O)OCC1c2ccccc2-c2ccccc21  C#CCOc1ccc(CN)cc1.Cl   \n",
       "\n",
       "      buildingblock3_smiles protein_name  binds  \n",
       "0   Br.Br.NCC1CCCN1c1cccnn1         BRD4      0  \n",
       "3         Br.NCc1cccc(Br)n1         BRD4      0  \n",
       "6      C#CCOc1ccc(CN)cc1.Cl         BRD4      0  \n",
       "9        C=C(C)C(=O)NCCN.Cl         BRD4      0  \n",
       "12          C=CCNC(=O)CN.Cl         BRD4      0  "
      ]
     },
     "metadata": {},
     "output_type": "display_data"
    }
   ],
   "source": [
    "medicinas_proteina3 = medicinas[medicinas['protein_name'] == 'BRD4']\n",
    "display(medicinas_proteina3.head())"
   ]
  },
  {
   "cell_type": "code",
   "execution_count": 12,
   "metadata": {},
   "outputs": [
    {
     "data": {
      "text/html": [
       "<div>\n",
       "<style scoped>\n",
       "    .dataframe tbody tr th:only-of-type {\n",
       "        vertical-align: middle;\n",
       "    }\n",
       "\n",
       "    .dataframe tbody tr th {\n",
       "        vertical-align: top;\n",
       "    }\n",
       "\n",
       "    .dataframe thead th {\n",
       "        text-align: right;\n",
       "    }\n",
       "</style>\n",
       "<table border=\"1\" class=\"dataframe\">\n",
       "  <thead>\n",
       "    <tr style=\"text-align: right;\">\n",
       "      <th></th>\n",
       "      <th>buildingblock1_smiles</th>\n",
       "      <th>buildingblock2_smiles</th>\n",
       "      <th>buildingblock3_smiles</th>\n",
       "      <th>protein_name</th>\n",
       "    </tr>\n",
       "  </thead>\n",
       "  <tbody>\n",
       "    <tr>\n",
       "      <th>0</th>\n",
       "      <td>C#CCCC[C@H](NC(=O)OCC1c2ccccc2-c2ccccc21)C(=O)O</td>\n",
       "      <td>C=Cc1ccc(N)cc1</td>\n",
       "      <td>C=Cc1ccc(N)cc1</td>\n",
       "      <td>BRD4</td>\n",
       "    </tr>\n",
       "    <tr>\n",
       "      <th>3</th>\n",
       "      <td>C#CCCC[C@H](NC(=O)OCC1c2ccccc2-c2ccccc21)C(=O)O</td>\n",
       "      <td>C=Cc1ccc(N)cc1</td>\n",
       "      <td>CC(O)Cn1cnc2c(N)ncnc21</td>\n",
       "      <td>BRD4</td>\n",
       "    </tr>\n",
       "    <tr>\n",
       "      <th>6</th>\n",
       "      <td>C#CCCC[C@H](NC(=O)OCC1c2ccccc2-c2ccccc21)C(=O)O</td>\n",
       "      <td>C=Cc1ccc(N)cc1</td>\n",
       "      <td>CC1(C)CCCC1(O)CN</td>\n",
       "      <td>BRD4</td>\n",
       "    </tr>\n",
       "    <tr>\n",
       "      <th>9</th>\n",
       "      <td>C#CCCC[C@H](NC(=O)OCC1c2ccccc2-c2ccccc21)C(=O)O</td>\n",
       "      <td>C=Cc1ccc(N)cc1</td>\n",
       "      <td>COC(=O)c1cc(Cl)sc1N</td>\n",
       "      <td>BRD4</td>\n",
       "    </tr>\n",
       "    <tr>\n",
       "      <th>12</th>\n",
       "      <td>C#CCCC[C@H](NC(=O)OCC1c2ccccc2-c2ccccc21)C(=O)O</td>\n",
       "      <td>C=Cc1ccc(N)cc1</td>\n",
       "      <td>CSC1CCC(CN)CC1</td>\n",
       "      <td>BRD4</td>\n",
       "    </tr>\n",
       "  </tbody>\n",
       "</table>\n",
       "</div>"
      ],
      "text/plain": [
       "                              buildingblock1_smiles buildingblock2_smiles  \\\n",
       "0   C#CCCC[C@H](NC(=O)OCC1c2ccccc2-c2ccccc21)C(=O)O        C=Cc1ccc(N)cc1   \n",
       "3   C#CCCC[C@H](NC(=O)OCC1c2ccccc2-c2ccccc21)C(=O)O        C=Cc1ccc(N)cc1   \n",
       "6   C#CCCC[C@H](NC(=O)OCC1c2ccccc2-c2ccccc21)C(=O)O        C=Cc1ccc(N)cc1   \n",
       "9   C#CCCC[C@H](NC(=O)OCC1c2ccccc2-c2ccccc21)C(=O)O        C=Cc1ccc(N)cc1   \n",
       "12  C#CCCC[C@H](NC(=O)OCC1c2ccccc2-c2ccccc21)C(=O)O        C=Cc1ccc(N)cc1   \n",
       "\n",
       "     buildingblock3_smiles protein_name  \n",
       "0           C=Cc1ccc(N)cc1         BRD4  \n",
       "3   CC(O)Cn1cnc2c(N)ncnc21         BRD4  \n",
       "6         CC1(C)CCCC1(O)CN         BRD4  \n",
       "9      COC(=O)c1cc(Cl)sc1N         BRD4  \n",
       "12          CSC1CCC(CN)CC1         BRD4  "
      ]
     },
     "metadata": {},
     "output_type": "display_data"
    }
   ],
   "source": [
    "test_proteina3 = med_test[med_test['protein_name']== 'BRD4']\n",
    "display(test_proteina3.head())"
   ]
  },
  {
   "cell_type": "code",
   "execution_count": 18,
   "metadata": {},
   "outputs": [
    {
     "data": {
      "text/plain": [
       "(558859, 4)"
      ]
     },
     "execution_count": 18,
     "metadata": {},
     "output_type": "execute_result"
    }
   ],
   "source": [
    "test_proteina3.shape"
   ]
  },
  {
   "cell_type": "markdown",
   "metadata": {},
   "source": [
    "Nos quedo un tres dataset uno para cada proteina tanto el de entramiento como el de prueba, test_proteina1(test) cada uno con filas 558142 y 4 columnas, y el de medicinas_proteina1(train) con 98415610 filas y 5 columnas."
   ]
  },
  {
   "cell_type": "markdown",
   "metadata": {},
   "source": [
    "## Extración de datos"
   ]
  },
  {
   "cell_type": "markdown",
   "metadata": {},
   "source": [
    "A continuacion se va a utilizar una porción de los datos en lugar de todo el dataset completo. En primer lugar, al reducir el número de observaciones, se disminuye la carga computacional, lo que acelera significativamente los tiempos de procesamiento y análisis. Además, el manejo de un dataset más pequeño permite optimizar recursos de hardware y evitando posibles problemas de memoria. \n",
    "Teniendo en cuenta que se manera la misma proporción en la variable objetivo\n"
   ]
  },
  {
   "cell_type": "markdown",
   "metadata": {},
   "source": [
    "### Proteina sEH"
   ]
  },
  {
   "cell_type": "code",
   "execution_count": 11,
   "metadata": {},
   "outputs": [],
   "source": [
    "med_final1 ,_= train_test_split(medicinas_proteina1, train_size =100000, stratify = medicinas_proteina1['binds'], random_state = 11)"
   ]
  },
  {
   "cell_type": "code",
   "execution_count": 13,
   "metadata": {},
   "outputs": [],
   "source": [
    "med_final1.to_csv('dataseh',index = False)"
   ]
  },
  {
   "cell_type": "code",
   "execution_count": 3,
   "metadata": {},
   "outputs": [],
   "source": [
    "med_final1=pd.read_csv(\"C:\\\\Users\\\\KELLY\\\\Documents\\\\parcial1_ml\\\\dataseh\")"
   ]
  },
  {
   "cell_type": "markdown",
   "metadata": {},
   "source": [
    "\n",
    "Aquí extraemos un millón de observaciones del dataset original para construir el nuevo DataFrame de entrenamiento. Esta estrategia permite reducir significativamente el tamaño del conjunto de datos."
   ]
  },
  {
   "cell_type": "code",
   "execution_count": 15,
   "metadata": {},
   "outputs": [
    {
     "data": {
      "text/plain": [
       "binds\n",
       "0    0.992638\n",
       "1    0.007362\n",
       "Name: proportion, dtype: float64"
      ]
     },
     "execution_count": 15,
     "metadata": {},
     "output_type": "execute_result"
    }
   ],
   "source": [
    "med_final1['binds'].value_counts(normalize= True)"
   ]
  },
  {
   "cell_type": "markdown",
   "metadata": {},
   "source": [
    "Se verifica que en el nuevo DataFrame de entrenamiento, con un millón de observaciones, se mantiene la misma proporción de moléculas que se unieron o no, tal como en el DataFrame original."
   ]
  },
  {
   "cell_type": "markdown",
   "metadata": {},
   "source": [
    "### Proteina HSA"
   ]
  },
  {
   "cell_type": "code",
   "execution_count": 12,
   "metadata": {},
   "outputs": [],
   "source": [
    "med_final2 ,_= train_test_split(medicinas_proteina2, train_size =100000, stratify = medicinas_proteina2['binds'], random_state = 11)"
   ]
  },
  {
   "cell_type": "code",
   "execution_count": 13,
   "metadata": {},
   "outputs": [],
   "source": [
    "med_final2.to_csv('datahsa',index = False)"
   ]
  },
  {
   "cell_type": "code",
   "execution_count": 4,
   "metadata": {},
   "outputs": [],
   "source": [
    "med_final2=pd.read_csv(\"C:\\\\Users\\\\KELLY\\\\Documents\\\\parcial1_ml\\\\datahsa\")"
   ]
  },
  {
   "cell_type": "code",
   "execution_count": 15,
   "metadata": {},
   "outputs": [
    {
     "data": {
      "text/plain": [
       "(100000, 5)"
      ]
     },
     "execution_count": 15,
     "metadata": {},
     "output_type": "execute_result"
    }
   ],
   "source": [
    "med_final2.shape"
   ]
  },
  {
   "cell_type": "code",
   "execution_count": 13,
   "metadata": {},
   "outputs": [
    {
     "data": {
      "text/plain": [
       "binds\n",
       "0    0.99585\n",
       "1    0.00415\n",
       "Name: proportion, dtype: float64"
      ]
     },
     "execution_count": 13,
     "metadata": {},
     "output_type": "execute_result"
    }
   ],
   "source": [
    "med_final2['binds'].value_counts(normalize= True)"
   ]
  },
  {
   "cell_type": "markdown",
   "metadata": {},
   "source": [
    "A pesar de haber extraído una porción del conjunto de datos original para el entrenamiento, hemos mantenido la proporción de la distribución de la variable objetivo. En la muestra, el 99.5% de las instancias pertenecen a la clase 0 (indicando que las moléculas no se unieron), mientras que el 0.4% pertenecen a la clase 1 (indicando que sí se unieron). Esta distribución es muy similar a la del conjunto de datos original, lo que asegura que la muestra sigue representando adecuadamente el desbalance de clases presente en el conjunto de datos completo."
   ]
  },
  {
   "cell_type": "markdown",
   "metadata": {},
   "source": [
    "### Proteina BRD4"
   ]
  },
  {
   "cell_type": "code",
   "execution_count": 18,
   "metadata": {},
   "outputs": [],
   "source": [
    "med_final3 ,_= train_test_split(medicinas_proteina3, train_size =100000, stratify = medicinas_proteina3['binds'], random_state = 11)"
   ]
  },
  {
   "cell_type": "code",
   "execution_count": 20,
   "metadata": {},
   "outputs": [],
   "source": [
    "med_final3.to_csv('databrd4',index = False)"
   ]
  },
  {
   "cell_type": "code",
   "execution_count": 3,
   "metadata": {},
   "outputs": [],
   "source": [
    "med_final3=pd.read_csv(\"C:\\\\Users\\\\KELLY\\\\Documents\\\\parcial1_ml\\\\databrd4\")"
   ]
  },
  {
   "cell_type": "code",
   "execution_count": 22,
   "metadata": {},
   "outputs": [
    {
     "data": {
      "text/plain": [
       "(100000, 5)"
      ]
     },
     "execution_count": 22,
     "metadata": {},
     "output_type": "execute_result"
    }
   ],
   "source": [
    "med_final3.shape"
   ]
  },
  {
   "cell_type": "code",
   "execution_count": 4,
   "metadata": {},
   "outputs": [
    {
     "data": {
      "text/plain": [
       "binds\n",
       "0    0.99536\n",
       "1    0.00464\n",
       "Name: proportion, dtype: float64"
      ]
     },
     "execution_count": 4,
     "metadata": {},
     "output_type": "execute_result"
    }
   ],
   "source": [
    "med_final3['binds'].value_counts(normalize= True)"
   ]
  },
  {
   "cell_type": "markdown",
   "metadata": {},
   "source": [
    "Comprobamos la porción del conjunto de datos original para el entrenamiento, hemos mantenido la distribución de la variable objetivo. En la muestra, el 99.5% de las instancias pertenecen a la clase 0 (indicando que las moléculas no se unieron), mientras que el 0.4% pertenecen a la clase 1 (indicando que sí se unieron)."
   ]
  },
  {
   "cell_type": "markdown",
   "metadata": {},
   "source": [
    "## Codificar variables categoricas"
   ]
  },
  {
   "cell_type": "markdown",
   "metadata": {},
   "source": [
    "### Proteina sEH"
   ]
  },
  {
   "cell_type": "code",
   "execution_count": 6,
   "metadata": {},
   "outputs": [],
   "source": [
    "\n",
    "categorical_columns = ['protein_name','buildingblock1_smiles','buildingblock2_smiles','buildingblock3_smiles']"
   ]
  },
  {
   "cell_type": "markdown",
   "metadata": {},
   "source": [
    "La lista categorical_columns define las columnas categóricas del dataset, que en este caso son: protein_name, buildingblock1_smiles, buildingblock2_smiles, y buildingblock3_smiles."
   ]
  },
  {
   "cell_type": "code",
   "execution_count": 7,
   "metadata": {},
   "outputs": [],
   "source": [
    "med_final1=med_final1.reset_index()"
   ]
  },
  {
   "cell_type": "markdown",
   "metadata": {},
   "source": [
    "El comando med_final1=med_final1.reset_index() se utiliza para restablecer los índices del DataFrame med_final1."
   ]
  },
  {
   "cell_type": "code",
   "execution_count": 8,
   "metadata": {},
   "outputs": [],
   "source": [
    "encoder = OneHotEncoder(sparse_output=False, drop='first') \n",
    "one_hot_encoded = encoder.fit_transform(med_final1[categorical_columns])"
   ]
  },
  {
   "cell_type": "markdown",
   "metadata": {},
   "source": [
    "El código utiliza la clase OneHotEncoder de la biblioteca sklearn para convertir las columnas categóricas del DataFrame med_final1 en variables codificadas mediante \"One-Hot Encoding\""
   ]
  },
  {
   "cell_type": "code",
   "execution_count": 20,
   "metadata": {},
   "outputs": [],
   "source": [
    "one_hot_df = pd.DataFrame(one_hot_encoded, columns=encoder.get_feature_names_out(categorical_columns))\n",
    "df_encoded = pd.concat([med_final1.drop(columns= categorical_columns),one_hot_df], axis=1)"
   ]
  },
  {
   "cell_type": "code",
   "execution_count": 21,
   "metadata": {},
   "outputs": [
    {
     "data": {
      "text/html": [
       "<div>\n",
       "<style scoped>\n",
       "    .dataframe tbody tr th:only-of-type {\n",
       "        vertical-align: middle;\n",
       "    }\n",
       "\n",
       "    .dataframe tbody tr th {\n",
       "        vertical-align: top;\n",
       "    }\n",
       "\n",
       "    .dataframe thead th {\n",
       "        text-align: right;\n",
       "    }\n",
       "</style>\n",
       "<table border=\"1\" class=\"dataframe\">\n",
       "  <thead>\n",
       "    <tr style=\"text-align: right;\">\n",
       "      <th></th>\n",
       "      <th>index</th>\n",
       "      <th>binds</th>\n",
       "      <th>buildingblock1_smiles_C#CC[C@@H](NC(=O)OCC1c2ccccc2-c2ccccc21)C(=O)O</th>\n",
       "      <th>buildingblock1_smiles_C#CC[C@@](C)(NC(=O)OCC1c2ccccc2-c2ccccc21)C(=O)O</th>\n",
       "      <th>buildingblock1_smiles_C#CC[C@H](CC(=O)O)NC(=O)OCC1c2ccccc2-c2ccccc21</th>\n",
       "      <th>buildingblock1_smiles_C#CC[C@H](NC(=O)OCC1c2ccccc2-c2ccccc21)C(=O)O</th>\n",
       "      <th>buildingblock1_smiles_C=CCC(CC=C)(NC(=O)OCC1c2ccccc2-c2ccccc21)C(=O)O</th>\n",
       "      <th>buildingblock1_smiles_C=CCC(NC(=O)OCC1c2ccccc2-c2ccccc21)C(=O)O</th>\n",
       "      <th>buildingblock1_smiles_C=CCC[C@@H](NC(=O)OCC1c2ccccc2-c2ccccc21)C(=O)O</th>\n",
       "      <th>buildingblock1_smiles_C=CC[C@@H](NC(=O)OCC1c2ccccc2-c2ccccc21)C(=O)O</th>\n",
       "      <th>...</th>\n",
       "      <th>buildingblock3_smiles_Nc1ncnc(=O)[nH]1</th>\n",
       "      <th>buildingblock3_smiles_Nc1ncnc(Cl)c1Cl</th>\n",
       "      <th>buildingblock3_smiles_Nc1ncnc2[nH]cnc12</th>\n",
       "      <th>buildingblock3_smiles_Nc1ncnc2[nH]ncc12</th>\n",
       "      <th>buildingblock3_smiles_Nc1ncnc2c1ncn2C1CCCCO1</th>\n",
       "      <th>buildingblock3_smiles_Nc1ncncc1Br</th>\n",
       "      <th>buildingblock3_smiles_Nc1nnc(S)s1</th>\n",
       "      <th>buildingblock3_smiles_Nc1nncs1</th>\n",
       "      <th>buildingblock3_smiles_Nc1nnn[nH]1</th>\n",
       "      <th>buildingblock3_smiles_Nc1noc2ccc(F)cc12</th>\n",
       "    </tr>\n",
       "  </thead>\n",
       "  <tbody>\n",
       "    <tr>\n",
       "      <th>0</th>\n",
       "      <td>0</td>\n",
       "      <td>0</td>\n",
       "      <td>0.0</td>\n",
       "      <td>0.0</td>\n",
       "      <td>0.0</td>\n",
       "      <td>0.0</td>\n",
       "      <td>0.0</td>\n",
       "      <td>0.0</td>\n",
       "      <td>0.0</td>\n",
       "      <td>0.0</td>\n",
       "      <td>...</td>\n",
       "      <td>0.0</td>\n",
       "      <td>0.0</td>\n",
       "      <td>0.0</td>\n",
       "      <td>0.0</td>\n",
       "      <td>0.0</td>\n",
       "      <td>0.0</td>\n",
       "      <td>0.0</td>\n",
       "      <td>0.0</td>\n",
       "      <td>0.0</td>\n",
       "      <td>0.0</td>\n",
       "    </tr>\n",
       "    <tr>\n",
       "      <th>1</th>\n",
       "      <td>1</td>\n",
       "      <td>0</td>\n",
       "      <td>0.0</td>\n",
       "      <td>0.0</td>\n",
       "      <td>0.0</td>\n",
       "      <td>0.0</td>\n",
       "      <td>0.0</td>\n",
       "      <td>0.0</td>\n",
       "      <td>0.0</td>\n",
       "      <td>0.0</td>\n",
       "      <td>...</td>\n",
       "      <td>0.0</td>\n",
       "      <td>0.0</td>\n",
       "      <td>0.0</td>\n",
       "      <td>0.0</td>\n",
       "      <td>0.0</td>\n",
       "      <td>0.0</td>\n",
       "      <td>0.0</td>\n",
       "      <td>0.0</td>\n",
       "      <td>0.0</td>\n",
       "      <td>0.0</td>\n",
       "    </tr>\n",
       "    <tr>\n",
       "      <th>2</th>\n",
       "      <td>2</td>\n",
       "      <td>0</td>\n",
       "      <td>0.0</td>\n",
       "      <td>0.0</td>\n",
       "      <td>0.0</td>\n",
       "      <td>0.0</td>\n",
       "      <td>0.0</td>\n",
       "      <td>0.0</td>\n",
       "      <td>0.0</td>\n",
       "      <td>0.0</td>\n",
       "      <td>...</td>\n",
       "      <td>0.0</td>\n",
       "      <td>0.0</td>\n",
       "      <td>0.0</td>\n",
       "      <td>0.0</td>\n",
       "      <td>0.0</td>\n",
       "      <td>0.0</td>\n",
       "      <td>0.0</td>\n",
       "      <td>0.0</td>\n",
       "      <td>0.0</td>\n",
       "      <td>0.0</td>\n",
       "    </tr>\n",
       "    <tr>\n",
       "      <th>3</th>\n",
       "      <td>3</td>\n",
       "      <td>0</td>\n",
       "      <td>0.0</td>\n",
       "      <td>0.0</td>\n",
       "      <td>0.0</td>\n",
       "      <td>0.0</td>\n",
       "      <td>0.0</td>\n",
       "      <td>0.0</td>\n",
       "      <td>0.0</td>\n",
       "      <td>0.0</td>\n",
       "      <td>...</td>\n",
       "      <td>0.0</td>\n",
       "      <td>0.0</td>\n",
       "      <td>0.0</td>\n",
       "      <td>0.0</td>\n",
       "      <td>0.0</td>\n",
       "      <td>0.0</td>\n",
       "      <td>0.0</td>\n",
       "      <td>0.0</td>\n",
       "      <td>0.0</td>\n",
       "      <td>0.0</td>\n",
       "    </tr>\n",
       "    <tr>\n",
       "      <th>4</th>\n",
       "      <td>4</td>\n",
       "      <td>0</td>\n",
       "      <td>0.0</td>\n",
       "      <td>0.0</td>\n",
       "      <td>0.0</td>\n",
       "      <td>0.0</td>\n",
       "      <td>0.0</td>\n",
       "      <td>0.0</td>\n",
       "      <td>0.0</td>\n",
       "      <td>0.0</td>\n",
       "      <td>...</td>\n",
       "      <td>0.0</td>\n",
       "      <td>0.0</td>\n",
       "      <td>0.0</td>\n",
       "      <td>0.0</td>\n",
       "      <td>0.0</td>\n",
       "      <td>0.0</td>\n",
       "      <td>0.0</td>\n",
       "      <td>0.0</td>\n",
       "      <td>0.0</td>\n",
       "      <td>0.0</td>\n",
       "    </tr>\n",
       "  </tbody>\n",
       "</table>\n",
       "<p>5 rows × 1830 columns</p>\n",
       "</div>"
      ],
      "text/plain": [
       "   index  binds  \\\n",
       "0      0      0   \n",
       "1      1      0   \n",
       "2      2      0   \n",
       "3      3      0   \n",
       "4      4      0   \n",
       "\n",
       "   buildingblock1_smiles_C#CC[C@@H](NC(=O)OCC1c2ccccc2-c2ccccc21)C(=O)O  \\\n",
       "0                                                0.0                      \n",
       "1                                                0.0                      \n",
       "2                                                0.0                      \n",
       "3                                                0.0                      \n",
       "4                                                0.0                      \n",
       "\n",
       "   buildingblock1_smiles_C#CC[C@@](C)(NC(=O)OCC1c2ccccc2-c2ccccc21)C(=O)O  \\\n",
       "0                                                0.0                        \n",
       "1                                                0.0                        \n",
       "2                                                0.0                        \n",
       "3                                                0.0                        \n",
       "4                                                0.0                        \n",
       "\n",
       "   buildingblock1_smiles_C#CC[C@H](CC(=O)O)NC(=O)OCC1c2ccccc2-c2ccccc21  \\\n",
       "0                                                0.0                      \n",
       "1                                                0.0                      \n",
       "2                                                0.0                      \n",
       "3                                                0.0                      \n",
       "4                                                0.0                      \n",
       "\n",
       "   buildingblock1_smiles_C#CC[C@H](NC(=O)OCC1c2ccccc2-c2ccccc21)C(=O)O  \\\n",
       "0                                                0.0                     \n",
       "1                                                0.0                     \n",
       "2                                                0.0                     \n",
       "3                                                0.0                     \n",
       "4                                                0.0                     \n",
       "\n",
       "   buildingblock1_smiles_C=CCC(CC=C)(NC(=O)OCC1c2ccccc2-c2ccccc21)C(=O)O  \\\n",
       "0                                                0.0                       \n",
       "1                                                0.0                       \n",
       "2                                                0.0                       \n",
       "3                                                0.0                       \n",
       "4                                                0.0                       \n",
       "\n",
       "   buildingblock1_smiles_C=CCC(NC(=O)OCC1c2ccccc2-c2ccccc21)C(=O)O  \\\n",
       "0                                                0.0                 \n",
       "1                                                0.0                 \n",
       "2                                                0.0                 \n",
       "3                                                0.0                 \n",
       "4                                                0.0                 \n",
       "\n",
       "   buildingblock1_smiles_C=CCC[C@@H](NC(=O)OCC1c2ccccc2-c2ccccc21)C(=O)O  \\\n",
       "0                                                0.0                       \n",
       "1                                                0.0                       \n",
       "2                                                0.0                       \n",
       "3                                                0.0                       \n",
       "4                                                0.0                       \n",
       "\n",
       "   buildingblock1_smiles_C=CC[C@@H](NC(=O)OCC1c2ccccc2-c2ccccc21)C(=O)O  ...  \\\n",
       "0                                                0.0                     ...   \n",
       "1                                                0.0                     ...   \n",
       "2                                                0.0                     ...   \n",
       "3                                                0.0                     ...   \n",
       "4                                                0.0                     ...   \n",
       "\n",
       "   buildingblock3_smiles_Nc1ncnc(=O)[nH]1  \\\n",
       "0                                     0.0   \n",
       "1                                     0.0   \n",
       "2                                     0.0   \n",
       "3                                     0.0   \n",
       "4                                     0.0   \n",
       "\n",
       "   buildingblock3_smiles_Nc1ncnc(Cl)c1Cl  \\\n",
       "0                                    0.0   \n",
       "1                                    0.0   \n",
       "2                                    0.0   \n",
       "3                                    0.0   \n",
       "4                                    0.0   \n",
       "\n",
       "   buildingblock3_smiles_Nc1ncnc2[nH]cnc12  \\\n",
       "0                                      0.0   \n",
       "1                                      0.0   \n",
       "2                                      0.0   \n",
       "3                                      0.0   \n",
       "4                                      0.0   \n",
       "\n",
       "   buildingblock3_smiles_Nc1ncnc2[nH]ncc12  \\\n",
       "0                                      0.0   \n",
       "1                                      0.0   \n",
       "2                                      0.0   \n",
       "3                                      0.0   \n",
       "4                                      0.0   \n",
       "\n",
       "   buildingblock3_smiles_Nc1ncnc2c1ncn2C1CCCCO1  \\\n",
       "0                                           0.0   \n",
       "1                                           0.0   \n",
       "2                                           0.0   \n",
       "3                                           0.0   \n",
       "4                                           0.0   \n",
       "\n",
       "   buildingblock3_smiles_Nc1ncncc1Br  buildingblock3_smiles_Nc1nnc(S)s1  \\\n",
       "0                                0.0                                0.0   \n",
       "1                                0.0                                0.0   \n",
       "2                                0.0                                0.0   \n",
       "3                                0.0                                0.0   \n",
       "4                                0.0                                0.0   \n",
       "\n",
       "   buildingblock3_smiles_Nc1nncs1  buildingblock3_smiles_Nc1nnn[nH]1  \\\n",
       "0                             0.0                                0.0   \n",
       "1                             0.0                                0.0   \n",
       "2                             0.0                                0.0   \n",
       "3                             0.0                                0.0   \n",
       "4                             0.0                                0.0   \n",
       "\n",
       "   buildingblock3_smiles_Nc1noc2ccc(F)cc12  \n",
       "0                                      0.0  \n",
       "1                                      0.0  \n",
       "2                                      0.0  \n",
       "3                                      0.0  \n",
       "4                                      0.0  \n",
       "\n",
       "[5 rows x 1830 columns]"
      ]
     },
     "metadata": {},
     "output_type": "display_data"
    }
   ],
   "source": [
    "display(df_encoded.head())"
   ]
  },
  {
   "cell_type": "markdown",
   "metadata": {},
   "source": [
    "Nos encontramos que el nuevo dataframe con las variables categoricas codificadas y solo se encuentran datos de 1 y 0."
   ]
  },
  {
   "cell_type": "markdown",
   "metadata": {},
   "source": [
    "Ahora se realiza el mismo proceso con el test"
   ]
  },
  {
   "cell_type": "code",
   "execution_count": 12,
   "metadata": {},
   "outputs": [],
   "source": [
    "test_proteina1=test_proteina1.reset_index()"
   ]
  },
  {
   "cell_type": "code",
   "execution_count": 13,
   "metadata": {},
   "outputs": [],
   "source": [
    "encodert = OneHotEncoder(sparse_output=False, drop='first') \n",
    "one_hot_encodedt = encodert.fit_transform(test_proteina1[categorical_columns])"
   ]
  },
  {
   "cell_type": "code",
   "execution_count": 17,
   "metadata": {},
   "outputs": [],
   "source": [
    "one_hot_dft = pd.DataFrame(one_hot_encodedt, columns=encodert.get_feature_names_out(categorical_columns))\n",
    "df_encodedt = pd.concat([test_proteina1.drop(columns= categorical_columns),one_hot_dft], axis=1)\n"
   ]
  },
  {
   "cell_type": "markdown",
   "metadata": {},
   "source": [
    "Como resultado, obtenemos el conjunto de datos de prueba completamente codificado."
   ]
  },
  {
   "cell_type": "code",
   "execution_count": 18,
   "metadata": {},
   "outputs": [
    {
     "data": {
      "text/html": [
       "<div>\n",
       "<style scoped>\n",
       "    .dataframe tbody tr th:only-of-type {\n",
       "        vertical-align: middle;\n",
       "    }\n",
       "\n",
       "    .dataframe tbody tr th {\n",
       "        vertical-align: top;\n",
       "    }\n",
       "\n",
       "    .dataframe thead th {\n",
       "        text-align: right;\n",
       "    }\n",
       "</style>\n",
       "<table border=\"1\" class=\"dataframe\">\n",
       "  <thead>\n",
       "    <tr style=\"text-align: right;\">\n",
       "      <th></th>\n",
       "      <th>index</th>\n",
       "      <th>id</th>\n",
       "      <th>molecule_smiles</th>\n",
       "      <th>buildingblock1_smiles_C#CC[C@@H](CC(=O)O)NC(=O)OCC1c2ccccc2-c2ccccc21</th>\n",
       "      <th>buildingblock1_smiles_C#CC[C@@H](NC(=O)OCC1c2ccccc2-c2ccccc21)C(=O)O</th>\n",
       "      <th>buildingblock1_smiles_C#CC[C@@](C)(NC(=O)OCC1c2ccccc2-c2ccccc21)C(=O)O</th>\n",
       "      <th>buildingblock1_smiles_C#CC[C@H](CC(=O)O)NC(=O)OCC1c2ccccc2-c2ccccc21</th>\n",
       "      <th>buildingblock1_smiles_C#CC[C@H](NC(=O)OCC1c2ccccc2-c2ccccc21)C(=O)O</th>\n",
       "      <th>buildingblock1_smiles_C=CCC(CC=C)(NC(=O)OCC1c2ccccc2-c2ccccc21)C(=O)O</th>\n",
       "      <th>buildingblock1_smiles_C=CCC(NC(=O)OCC1c2ccccc2-c2ccccc21)C(=O)O</th>\n",
       "      <th>...</th>\n",
       "      <th>buildingblock3_smiles_O=C(O)c1nccc(N2CCOCC2)n1</th>\n",
       "      <th>buildingblock3_smiles_O=C(O)c1nccnc1N1CCCCC1</th>\n",
       "      <th>buildingblock3_smiles_O=C(O)c1ncn(-c2ccccc2)n1</th>\n",
       "      <th>buildingblock3_smiles_O=C(O)c1ncsc1C(F)(F)F</th>\n",
       "      <th>buildingblock3_smiles_O=C(O)c1scc2c1CCCC2</th>\n",
       "      <th>buildingblock3_smiles_O=C1CC(C(=O)O)c2cccnc2N1</th>\n",
       "      <th>buildingblock3_smiles_O=C1CC2(C1)CC(C(=O)O)C2</th>\n",
       "      <th>buildingblock3_smiles_O=C1CCC(C(=O)O)CC1</th>\n",
       "      <th>buildingblock3_smiles_O=C1NC(=O)C2(CCC(C(=O)O)CC2)N1</th>\n",
       "      <th>buildingblock3_smiles_O=C1NCC(Cn2cc(C(=O)O)nn2)O1</th>\n",
       "    </tr>\n",
       "  </thead>\n",
       "  <tbody>\n",
       "    <tr>\n",
       "      <th>0</th>\n",
       "      <td>2</td>\n",
       "      <td>295246832</td>\n",
       "      <td>C#CCCC[C@H](Nc1nc(Nc2ccc(C=C)cc2)nc(Nc2ccc(C=C...</td>\n",
       "      <td>0.0</td>\n",
       "      <td>0.0</td>\n",
       "      <td>0.0</td>\n",
       "      <td>0.0</td>\n",
       "      <td>0.0</td>\n",
       "      <td>0.0</td>\n",
       "      <td>0.0</td>\n",
       "      <td>...</td>\n",
       "      <td>0.0</td>\n",
       "      <td>0.0</td>\n",
       "      <td>0.0</td>\n",
       "      <td>0.0</td>\n",
       "      <td>0.0</td>\n",
       "      <td>0.0</td>\n",
       "      <td>0.0</td>\n",
       "      <td>0.0</td>\n",
       "      <td>0.0</td>\n",
       "      <td>0.0</td>\n",
       "    </tr>\n",
       "    <tr>\n",
       "      <th>1</th>\n",
       "      <td>5</td>\n",
       "      <td>295246835</td>\n",
       "      <td>C#CCCC[C@H](Nc1nc(Nc2ccc(C=C)cc2)nc(Nc2ncnc3c2...</td>\n",
       "      <td>0.0</td>\n",
       "      <td>0.0</td>\n",
       "      <td>0.0</td>\n",
       "      <td>0.0</td>\n",
       "      <td>0.0</td>\n",
       "      <td>0.0</td>\n",
       "      <td>0.0</td>\n",
       "      <td>...</td>\n",
       "      <td>0.0</td>\n",
       "      <td>0.0</td>\n",
       "      <td>0.0</td>\n",
       "      <td>0.0</td>\n",
       "      <td>0.0</td>\n",
       "      <td>0.0</td>\n",
       "      <td>0.0</td>\n",
       "      <td>0.0</td>\n",
       "      <td>0.0</td>\n",
       "      <td>0.0</td>\n",
       "    </tr>\n",
       "    <tr>\n",
       "      <th>2</th>\n",
       "      <td>8</td>\n",
       "      <td>295246838</td>\n",
       "      <td>C#CCCC[C@H](Nc1nc(NCC2(O)CCCC2(C)C)nc(Nc2ccc(C...</td>\n",
       "      <td>0.0</td>\n",
       "      <td>0.0</td>\n",
       "      <td>0.0</td>\n",
       "      <td>0.0</td>\n",
       "      <td>0.0</td>\n",
       "      <td>0.0</td>\n",
       "      <td>0.0</td>\n",
       "      <td>...</td>\n",
       "      <td>0.0</td>\n",
       "      <td>0.0</td>\n",
       "      <td>0.0</td>\n",
       "      <td>0.0</td>\n",
       "      <td>0.0</td>\n",
       "      <td>0.0</td>\n",
       "      <td>0.0</td>\n",
       "      <td>0.0</td>\n",
       "      <td>0.0</td>\n",
       "      <td>0.0</td>\n",
       "    </tr>\n",
       "    <tr>\n",
       "      <th>3</th>\n",
       "      <td>11</td>\n",
       "      <td>295246841</td>\n",
       "      <td>C#CCCC[C@H](Nc1nc(Nc2ccc(C=C)cc2)nc(Nc2sc(Cl)c...</td>\n",
       "      <td>0.0</td>\n",
       "      <td>0.0</td>\n",
       "      <td>0.0</td>\n",
       "      <td>0.0</td>\n",
       "      <td>0.0</td>\n",
       "      <td>0.0</td>\n",
       "      <td>0.0</td>\n",
       "      <td>...</td>\n",
       "      <td>0.0</td>\n",
       "      <td>0.0</td>\n",
       "      <td>0.0</td>\n",
       "      <td>0.0</td>\n",
       "      <td>0.0</td>\n",
       "      <td>0.0</td>\n",
       "      <td>0.0</td>\n",
       "      <td>0.0</td>\n",
       "      <td>0.0</td>\n",
       "      <td>0.0</td>\n",
       "    </tr>\n",
       "    <tr>\n",
       "      <th>4</th>\n",
       "      <td>14</td>\n",
       "      <td>295246844</td>\n",
       "      <td>C#CCCC[C@H](Nc1nc(NCC2CCC(SC)CC2)nc(Nc2ccc(C=C...</td>\n",
       "      <td>0.0</td>\n",
       "      <td>0.0</td>\n",
       "      <td>0.0</td>\n",
       "      <td>0.0</td>\n",
       "      <td>0.0</td>\n",
       "      <td>0.0</td>\n",
       "      <td>0.0</td>\n",
       "      <td>...</td>\n",
       "      <td>0.0</td>\n",
       "      <td>0.0</td>\n",
       "      <td>0.0</td>\n",
       "      <td>0.0</td>\n",
       "      <td>0.0</td>\n",
       "      <td>0.0</td>\n",
       "      <td>0.0</td>\n",
       "      <td>0.0</td>\n",
       "      <td>0.0</td>\n",
       "      <td>0.0</td>\n",
       "    </tr>\n",
       "  </tbody>\n",
       "</table>\n",
       "<p>5 rows × 2870 columns</p>\n",
       "</div>"
      ],
      "text/plain": [
       "   index         id                                    molecule_smiles  \\\n",
       "0      2  295246832  C#CCCC[C@H](Nc1nc(Nc2ccc(C=C)cc2)nc(Nc2ccc(C=C...   \n",
       "1      5  295246835  C#CCCC[C@H](Nc1nc(Nc2ccc(C=C)cc2)nc(Nc2ncnc3c2...   \n",
       "2      8  295246838  C#CCCC[C@H](Nc1nc(NCC2(O)CCCC2(C)C)nc(Nc2ccc(C...   \n",
       "3     11  295246841  C#CCCC[C@H](Nc1nc(Nc2ccc(C=C)cc2)nc(Nc2sc(Cl)c...   \n",
       "4     14  295246844  C#CCCC[C@H](Nc1nc(NCC2CCC(SC)CC2)nc(Nc2ccc(C=C...   \n",
       "\n",
       "   buildingblock1_smiles_C#CC[C@@H](CC(=O)O)NC(=O)OCC1c2ccccc2-c2ccccc21  \\\n",
       "0                                                0.0                       \n",
       "1                                                0.0                       \n",
       "2                                                0.0                       \n",
       "3                                                0.0                       \n",
       "4                                                0.0                       \n",
       "\n",
       "   buildingblock1_smiles_C#CC[C@@H](NC(=O)OCC1c2ccccc2-c2ccccc21)C(=O)O  \\\n",
       "0                                                0.0                      \n",
       "1                                                0.0                      \n",
       "2                                                0.0                      \n",
       "3                                                0.0                      \n",
       "4                                                0.0                      \n",
       "\n",
       "   buildingblock1_smiles_C#CC[C@@](C)(NC(=O)OCC1c2ccccc2-c2ccccc21)C(=O)O  \\\n",
       "0                                                0.0                        \n",
       "1                                                0.0                        \n",
       "2                                                0.0                        \n",
       "3                                                0.0                        \n",
       "4                                                0.0                        \n",
       "\n",
       "   buildingblock1_smiles_C#CC[C@H](CC(=O)O)NC(=O)OCC1c2ccccc2-c2ccccc21  \\\n",
       "0                                                0.0                      \n",
       "1                                                0.0                      \n",
       "2                                                0.0                      \n",
       "3                                                0.0                      \n",
       "4                                                0.0                      \n",
       "\n",
       "   buildingblock1_smiles_C#CC[C@H](NC(=O)OCC1c2ccccc2-c2ccccc21)C(=O)O  \\\n",
       "0                                                0.0                     \n",
       "1                                                0.0                     \n",
       "2                                                0.0                     \n",
       "3                                                0.0                     \n",
       "4                                                0.0                     \n",
       "\n",
       "   buildingblock1_smiles_C=CCC(CC=C)(NC(=O)OCC1c2ccccc2-c2ccccc21)C(=O)O  \\\n",
       "0                                                0.0                       \n",
       "1                                                0.0                       \n",
       "2                                                0.0                       \n",
       "3                                                0.0                       \n",
       "4                                                0.0                       \n",
       "\n",
       "   buildingblock1_smiles_C=CCC(NC(=O)OCC1c2ccccc2-c2ccccc21)C(=O)O  ...  \\\n",
       "0                                                0.0                ...   \n",
       "1                                                0.0                ...   \n",
       "2                                                0.0                ...   \n",
       "3                                                0.0                ...   \n",
       "4                                                0.0                ...   \n",
       "\n",
       "   buildingblock3_smiles_O=C(O)c1nccc(N2CCOCC2)n1  \\\n",
       "0                                             0.0   \n",
       "1                                             0.0   \n",
       "2                                             0.0   \n",
       "3                                             0.0   \n",
       "4                                             0.0   \n",
       "\n",
       "   buildingblock3_smiles_O=C(O)c1nccnc1N1CCCCC1  \\\n",
       "0                                           0.0   \n",
       "1                                           0.0   \n",
       "2                                           0.0   \n",
       "3                                           0.0   \n",
       "4                                           0.0   \n",
       "\n",
       "   buildingblock3_smiles_O=C(O)c1ncn(-c2ccccc2)n1  \\\n",
       "0                                             0.0   \n",
       "1                                             0.0   \n",
       "2                                             0.0   \n",
       "3                                             0.0   \n",
       "4                                             0.0   \n",
       "\n",
       "   buildingblock3_smiles_O=C(O)c1ncsc1C(F)(F)F  \\\n",
       "0                                          0.0   \n",
       "1                                          0.0   \n",
       "2                                          0.0   \n",
       "3                                          0.0   \n",
       "4                                          0.0   \n",
       "\n",
       "   buildingblock3_smiles_O=C(O)c1scc2c1CCCC2  \\\n",
       "0                                        0.0   \n",
       "1                                        0.0   \n",
       "2                                        0.0   \n",
       "3                                        0.0   \n",
       "4                                        0.0   \n",
       "\n",
       "   buildingblock3_smiles_O=C1CC(C(=O)O)c2cccnc2N1  \\\n",
       "0                                             0.0   \n",
       "1                                             0.0   \n",
       "2                                             0.0   \n",
       "3                                             0.0   \n",
       "4                                             0.0   \n",
       "\n",
       "   buildingblock3_smiles_O=C1CC2(C1)CC(C(=O)O)C2  \\\n",
       "0                                            0.0   \n",
       "1                                            0.0   \n",
       "2                                            0.0   \n",
       "3                                            0.0   \n",
       "4                                            0.0   \n",
       "\n",
       "   buildingblock3_smiles_O=C1CCC(C(=O)O)CC1  \\\n",
       "0                                       0.0   \n",
       "1                                       0.0   \n",
       "2                                       0.0   \n",
       "3                                       0.0   \n",
       "4                                       0.0   \n",
       "\n",
       "   buildingblock3_smiles_O=C1NC(=O)C2(CCC(C(=O)O)CC2)N1  \\\n",
       "0                                                0.0      \n",
       "1                                                0.0      \n",
       "2                                                0.0      \n",
       "3                                                0.0      \n",
       "4                                                0.0      \n",
       "\n",
       "   buildingblock3_smiles_O=C1NCC(Cn2cc(C(=O)O)nn2)O1  \n",
       "0                                                0.0  \n",
       "1                                                0.0  \n",
       "2                                                0.0  \n",
       "3                                                0.0  \n",
       "4                                                0.0  \n",
       "\n",
       "[5 rows x 2870 columns]"
      ]
     },
     "metadata": {},
     "output_type": "display_data"
    }
   ],
   "source": [
    "display(df_encodedt.head())"
   ]
  },
  {
   "cell_type": "markdown",
   "metadata": {},
   "source": [
    "### Proteina HSA"
   ]
  },
  {
   "cell_type": "markdown",
   "metadata": {},
   "source": [
    "Se realiza el mismo proceso que en el anterior dataframe de la proteina sED pero ahora con la Proteina HSA"
   ]
  },
  {
   "cell_type": "code",
   "execution_count": 5,
   "metadata": {},
   "outputs": [],
   "source": [
    "categorical_columns = ['protein_name','buildingblock1_smiles','buildingblock2_smiles','buildingblock3_smiles']"
   ]
  },
  {
   "cell_type": "markdown",
   "metadata": {},
   "source": [
    "La lista categorical_columns se utilizaran en los tres dataset: protein_name, buildingblock1_smiles, buildingblock2_smiles, y buildingblock3_smiles."
   ]
  },
  {
   "cell_type": "code",
   "execution_count": 6,
   "metadata": {},
   "outputs": [],
   "source": [
    "med_final2=med_final2.reset_index()"
   ]
  },
  {
   "cell_type": "markdown",
   "metadata": {},
   "source": [
    "Al ejecutar esta función, se genera un nuevo índice secuencial para cada fila, mientras que el índice original, si existe, se convierte en una columna del DataFrame."
   ]
  },
  {
   "cell_type": "code",
   "execution_count": 7,
   "metadata": {},
   "outputs": [],
   "source": [
    "encoder2 = OneHotEncoder(sparse_output=False, drop='first') \n",
    "one_hot_encoded2 = encoder2.fit_transform(med_final2[categorical_columns])"
   ]
  },
  {
   "cell_type": "code",
   "execution_count": 8,
   "metadata": {},
   "outputs": [],
   "source": [
    "one_hot_df2 = pd.DataFrame(one_hot_encoded2, columns=encoder2.get_feature_names_out(categorical_columns))\n",
    "df_encoded2 = pd.concat([med_final2.drop(columns= categorical_columns),one_hot_df2], axis=1)"
   ]
  },
  {
   "cell_type": "code",
   "execution_count": 9,
   "metadata": {},
   "outputs": [
    {
     "data": {
      "text/html": [
       "<div>\n",
       "<style scoped>\n",
       "    .dataframe tbody tr th:only-of-type {\n",
       "        vertical-align: middle;\n",
       "    }\n",
       "\n",
       "    .dataframe tbody tr th {\n",
       "        vertical-align: top;\n",
       "    }\n",
       "\n",
       "    .dataframe thead th {\n",
       "        text-align: right;\n",
       "    }\n",
       "</style>\n",
       "<table border=\"1\" class=\"dataframe\">\n",
       "  <thead>\n",
       "    <tr style=\"text-align: right;\">\n",
       "      <th></th>\n",
       "      <th>index</th>\n",
       "      <th>binds</th>\n",
       "      <th>buildingblock1_smiles_C#CC[C@@H](NC(=O)OCC1c2ccccc2-c2ccccc21)C(=O)O</th>\n",
       "      <th>buildingblock1_smiles_C#CC[C@@](C)(NC(=O)OCC1c2ccccc2-c2ccccc21)C(=O)O</th>\n",
       "      <th>buildingblock1_smiles_C#CC[C@H](CC(=O)O)NC(=O)OCC1c2ccccc2-c2ccccc21</th>\n",
       "      <th>buildingblock1_smiles_C#CC[C@H](NC(=O)OCC1c2ccccc2-c2ccccc21)C(=O)O</th>\n",
       "      <th>buildingblock1_smiles_C=CCC(CC=C)(NC(=O)OCC1c2ccccc2-c2ccccc21)C(=O)O</th>\n",
       "      <th>buildingblock1_smiles_C=CCC(NC(=O)OCC1c2ccccc2-c2ccccc21)C(=O)O</th>\n",
       "      <th>buildingblock1_smiles_C=CCC[C@@H](NC(=O)OCC1c2ccccc2-c2ccccc21)C(=O)O</th>\n",
       "      <th>buildingblock1_smiles_C=CC[C@@H](NC(=O)OCC1c2ccccc2-c2ccccc21)C(=O)O</th>\n",
       "      <th>...</th>\n",
       "      <th>buildingblock3_smiles_Nc1ncnc(=O)[nH]1</th>\n",
       "      <th>buildingblock3_smiles_Nc1ncnc(Cl)c1Cl</th>\n",
       "      <th>buildingblock3_smiles_Nc1ncnc2[nH]cnc12</th>\n",
       "      <th>buildingblock3_smiles_Nc1ncnc2[nH]ncc12</th>\n",
       "      <th>buildingblock3_smiles_Nc1ncnc2c1ncn2C1CCCCO1</th>\n",
       "      <th>buildingblock3_smiles_Nc1ncncc1Br</th>\n",
       "      <th>buildingblock3_smiles_Nc1nnc(S)s1</th>\n",
       "      <th>buildingblock3_smiles_Nc1nncs1</th>\n",
       "      <th>buildingblock3_smiles_Nc1nnn[nH]1</th>\n",
       "      <th>buildingblock3_smiles_Nc1noc2ccc(F)cc12</th>\n",
       "    </tr>\n",
       "  </thead>\n",
       "  <tbody>\n",
       "    <tr>\n",
       "      <th>0</th>\n",
       "      <td>0</td>\n",
       "      <td>0</td>\n",
       "      <td>0.0</td>\n",
       "      <td>0.0</td>\n",
       "      <td>0.0</td>\n",
       "      <td>0.0</td>\n",
       "      <td>0.0</td>\n",
       "      <td>0.0</td>\n",
       "      <td>0.0</td>\n",
       "      <td>0.0</td>\n",
       "      <td>...</td>\n",
       "      <td>0.0</td>\n",
       "      <td>0.0</td>\n",
       "      <td>0.0</td>\n",
       "      <td>0.0</td>\n",
       "      <td>0.0</td>\n",
       "      <td>0.0</td>\n",
       "      <td>0.0</td>\n",
       "      <td>0.0</td>\n",
       "      <td>0.0</td>\n",
       "      <td>0.0</td>\n",
       "    </tr>\n",
       "    <tr>\n",
       "      <th>1</th>\n",
       "      <td>1</td>\n",
       "      <td>0</td>\n",
       "      <td>0.0</td>\n",
       "      <td>0.0</td>\n",
       "      <td>0.0</td>\n",
       "      <td>0.0</td>\n",
       "      <td>0.0</td>\n",
       "      <td>0.0</td>\n",
       "      <td>0.0</td>\n",
       "      <td>0.0</td>\n",
       "      <td>...</td>\n",
       "      <td>0.0</td>\n",
       "      <td>0.0</td>\n",
       "      <td>0.0</td>\n",
       "      <td>0.0</td>\n",
       "      <td>0.0</td>\n",
       "      <td>0.0</td>\n",
       "      <td>0.0</td>\n",
       "      <td>0.0</td>\n",
       "      <td>0.0</td>\n",
       "      <td>0.0</td>\n",
       "    </tr>\n",
       "    <tr>\n",
       "      <th>2</th>\n",
       "      <td>2</td>\n",
       "      <td>0</td>\n",
       "      <td>0.0</td>\n",
       "      <td>0.0</td>\n",
       "      <td>0.0</td>\n",
       "      <td>0.0</td>\n",
       "      <td>0.0</td>\n",
       "      <td>0.0</td>\n",
       "      <td>0.0</td>\n",
       "      <td>0.0</td>\n",
       "      <td>...</td>\n",
       "      <td>0.0</td>\n",
       "      <td>0.0</td>\n",
       "      <td>0.0</td>\n",
       "      <td>0.0</td>\n",
       "      <td>0.0</td>\n",
       "      <td>0.0</td>\n",
       "      <td>0.0</td>\n",
       "      <td>0.0</td>\n",
       "      <td>0.0</td>\n",
       "      <td>0.0</td>\n",
       "    </tr>\n",
       "    <tr>\n",
       "      <th>3</th>\n",
       "      <td>3</td>\n",
       "      <td>0</td>\n",
       "      <td>0.0</td>\n",
       "      <td>0.0</td>\n",
       "      <td>0.0</td>\n",
       "      <td>0.0</td>\n",
       "      <td>0.0</td>\n",
       "      <td>0.0</td>\n",
       "      <td>0.0</td>\n",
       "      <td>0.0</td>\n",
       "      <td>...</td>\n",
       "      <td>0.0</td>\n",
       "      <td>0.0</td>\n",
       "      <td>0.0</td>\n",
       "      <td>0.0</td>\n",
       "      <td>0.0</td>\n",
       "      <td>0.0</td>\n",
       "      <td>0.0</td>\n",
       "      <td>0.0</td>\n",
       "      <td>0.0</td>\n",
       "      <td>0.0</td>\n",
       "    </tr>\n",
       "    <tr>\n",
       "      <th>4</th>\n",
       "      <td>4</td>\n",
       "      <td>0</td>\n",
       "      <td>0.0</td>\n",
       "      <td>0.0</td>\n",
       "      <td>0.0</td>\n",
       "      <td>0.0</td>\n",
       "      <td>0.0</td>\n",
       "      <td>0.0</td>\n",
       "      <td>0.0</td>\n",
       "      <td>0.0</td>\n",
       "      <td>...</td>\n",
       "      <td>0.0</td>\n",
       "      <td>0.0</td>\n",
       "      <td>0.0</td>\n",
       "      <td>0.0</td>\n",
       "      <td>0.0</td>\n",
       "      <td>0.0</td>\n",
       "      <td>0.0</td>\n",
       "      <td>0.0</td>\n",
       "      <td>0.0</td>\n",
       "      <td>0.0</td>\n",
       "    </tr>\n",
       "  </tbody>\n",
       "</table>\n",
       "<p>5 rows × 1834 columns</p>\n",
       "</div>"
      ],
      "text/plain": [
       "   index  binds  \\\n",
       "0      0      0   \n",
       "1      1      0   \n",
       "2      2      0   \n",
       "3      3      0   \n",
       "4      4      0   \n",
       "\n",
       "   buildingblock1_smiles_C#CC[C@@H](NC(=O)OCC1c2ccccc2-c2ccccc21)C(=O)O  \\\n",
       "0                                                0.0                      \n",
       "1                                                0.0                      \n",
       "2                                                0.0                      \n",
       "3                                                0.0                      \n",
       "4                                                0.0                      \n",
       "\n",
       "   buildingblock1_smiles_C#CC[C@@](C)(NC(=O)OCC1c2ccccc2-c2ccccc21)C(=O)O  \\\n",
       "0                                                0.0                        \n",
       "1                                                0.0                        \n",
       "2                                                0.0                        \n",
       "3                                                0.0                        \n",
       "4                                                0.0                        \n",
       "\n",
       "   buildingblock1_smiles_C#CC[C@H](CC(=O)O)NC(=O)OCC1c2ccccc2-c2ccccc21  \\\n",
       "0                                                0.0                      \n",
       "1                                                0.0                      \n",
       "2                                                0.0                      \n",
       "3                                                0.0                      \n",
       "4                                                0.0                      \n",
       "\n",
       "   buildingblock1_smiles_C#CC[C@H](NC(=O)OCC1c2ccccc2-c2ccccc21)C(=O)O  \\\n",
       "0                                                0.0                     \n",
       "1                                                0.0                     \n",
       "2                                                0.0                     \n",
       "3                                                0.0                     \n",
       "4                                                0.0                     \n",
       "\n",
       "   buildingblock1_smiles_C=CCC(CC=C)(NC(=O)OCC1c2ccccc2-c2ccccc21)C(=O)O  \\\n",
       "0                                                0.0                       \n",
       "1                                                0.0                       \n",
       "2                                                0.0                       \n",
       "3                                                0.0                       \n",
       "4                                                0.0                       \n",
       "\n",
       "   buildingblock1_smiles_C=CCC(NC(=O)OCC1c2ccccc2-c2ccccc21)C(=O)O  \\\n",
       "0                                                0.0                 \n",
       "1                                                0.0                 \n",
       "2                                                0.0                 \n",
       "3                                                0.0                 \n",
       "4                                                0.0                 \n",
       "\n",
       "   buildingblock1_smiles_C=CCC[C@@H](NC(=O)OCC1c2ccccc2-c2ccccc21)C(=O)O  \\\n",
       "0                                                0.0                       \n",
       "1                                                0.0                       \n",
       "2                                                0.0                       \n",
       "3                                                0.0                       \n",
       "4                                                0.0                       \n",
       "\n",
       "   buildingblock1_smiles_C=CC[C@@H](NC(=O)OCC1c2ccccc2-c2ccccc21)C(=O)O  ...  \\\n",
       "0                                                0.0                     ...   \n",
       "1                                                0.0                     ...   \n",
       "2                                                0.0                     ...   \n",
       "3                                                0.0                     ...   \n",
       "4                                                0.0                     ...   \n",
       "\n",
       "   buildingblock3_smiles_Nc1ncnc(=O)[nH]1  \\\n",
       "0                                     0.0   \n",
       "1                                     0.0   \n",
       "2                                     0.0   \n",
       "3                                     0.0   \n",
       "4                                     0.0   \n",
       "\n",
       "   buildingblock3_smiles_Nc1ncnc(Cl)c1Cl  \\\n",
       "0                                    0.0   \n",
       "1                                    0.0   \n",
       "2                                    0.0   \n",
       "3                                    0.0   \n",
       "4                                    0.0   \n",
       "\n",
       "   buildingblock3_smiles_Nc1ncnc2[nH]cnc12  \\\n",
       "0                                      0.0   \n",
       "1                                      0.0   \n",
       "2                                      0.0   \n",
       "3                                      0.0   \n",
       "4                                      0.0   \n",
       "\n",
       "   buildingblock3_smiles_Nc1ncnc2[nH]ncc12  \\\n",
       "0                                      0.0   \n",
       "1                                      0.0   \n",
       "2                                      0.0   \n",
       "3                                      0.0   \n",
       "4                                      0.0   \n",
       "\n",
       "   buildingblock3_smiles_Nc1ncnc2c1ncn2C1CCCCO1  \\\n",
       "0                                           0.0   \n",
       "1                                           0.0   \n",
       "2                                           0.0   \n",
       "3                                           0.0   \n",
       "4                                           0.0   \n",
       "\n",
       "   buildingblock3_smiles_Nc1ncncc1Br  buildingblock3_smiles_Nc1nnc(S)s1  \\\n",
       "0                                0.0                                0.0   \n",
       "1                                0.0                                0.0   \n",
       "2                                0.0                                0.0   \n",
       "3                                0.0                                0.0   \n",
       "4                                0.0                                0.0   \n",
       "\n",
       "   buildingblock3_smiles_Nc1nncs1  buildingblock3_smiles_Nc1nnn[nH]1  \\\n",
       "0                             0.0                                0.0   \n",
       "1                             0.0                                0.0   \n",
       "2                             0.0                                0.0   \n",
       "3                             0.0                                0.0   \n",
       "4                             0.0                                0.0   \n",
       "\n",
       "   buildingblock3_smiles_Nc1noc2ccc(F)cc12  \n",
       "0                                      0.0  \n",
       "1                                      0.0  \n",
       "2                                      0.0  \n",
       "3                                      0.0  \n",
       "4                                      0.0  \n",
       "\n",
       "[5 rows x 1834 columns]"
      ]
     },
     "metadata": {},
     "output_type": "display_data"
    }
   ],
   "source": [
    "display(df_encoded2.head())"
   ]
  },
  {
   "cell_type": "markdown",
   "metadata": {},
   "source": [
    "El nuevo dataframe con las variables categoricas codificadas y solo se encuentran datos de 1 y 0."
   ]
  },
  {
   "cell_type": "markdown",
   "metadata": {},
   "source": [
    "Se realiza lo mismo con el test"
   ]
  },
  {
   "cell_type": "code",
   "execution_count": null,
   "metadata": {},
   "outputs": [],
   "source": [
    "test_proteina2=test_proteina2.reset_index()"
   ]
  },
  {
   "cell_type": "code",
   "execution_count": 33,
   "metadata": {},
   "outputs": [],
   "source": [
    "encodert2 = OneHotEncoder(sparse_output=False, drop='first') \n",
    "one_hot_encodedt2 = encodert2.fit_transform(test_proteina2[categorical_columns])"
   ]
  },
  {
   "cell_type": "code",
   "execution_count": null,
   "metadata": {},
   "outputs": [],
   "source": [
    "one_hot_dft2 = pd.DataFrame(one_hot_encodedt2, columns=encodert2.get_feature_names_out(categorical_columns))\n",
    "df_encodedt2 = pd.concat([test_proteina2.drop(columns= categorical_columns),one_hot_dft2], axis=1)"
   ]
  },
  {
   "cell_type": "code",
   "execution_count": 35,
   "metadata": {},
   "outputs": [
    {
     "data": {
      "text/html": [
       "<div>\n",
       "<style scoped>\n",
       "    .dataframe tbody tr th:only-of-type {\n",
       "        vertical-align: middle;\n",
       "    }\n",
       "\n",
       "    .dataframe tbody tr th {\n",
       "        vertical-align: top;\n",
       "    }\n",
       "\n",
       "    .dataframe thead th {\n",
       "        text-align: right;\n",
       "    }\n",
       "</style>\n",
       "<table border=\"1\" class=\"dataframe\">\n",
       "  <thead>\n",
       "    <tr style=\"text-align: right;\">\n",
       "      <th></th>\n",
       "      <th>index</th>\n",
       "      <th>buildingblock1_smiles</th>\n",
       "      <th>buildingblock2_smiles</th>\n",
       "      <th>buildingblock3_smiles</th>\n",
       "      <th>protein_name</th>\n",
       "      <th>buildingblock1_smiles_C#CC[C@@H](CC(=O)O)NC(=O)OCC1c2ccccc2-c2ccccc21</th>\n",
       "      <th>buildingblock1_smiles_C#CC[C@@H](NC(=O)OCC1c2ccccc2-c2ccccc21)C(=O)O</th>\n",
       "      <th>buildingblock1_smiles_C#CC[C@@](C)(NC(=O)OCC1c2ccccc2-c2ccccc21)C(=O)O</th>\n",
       "      <th>buildingblock1_smiles_C#CC[C@H](CC(=O)O)NC(=O)OCC1c2ccccc2-c2ccccc21</th>\n",
       "      <th>buildingblock1_smiles_C#CC[C@H](NC(=O)OCC1c2ccccc2-c2ccccc21)C(=O)O</th>\n",
       "      <th>...</th>\n",
       "      <th>buildingblock3_smiles_O=C(O)c1nccc(N2CCOCC2)n1</th>\n",
       "      <th>buildingblock3_smiles_O=C(O)c1nccnc1N1CCCCC1</th>\n",
       "      <th>buildingblock3_smiles_O=C(O)c1ncn(-c2ccccc2)n1</th>\n",
       "      <th>buildingblock3_smiles_O=C(O)c1ncsc1C(F)(F)F</th>\n",
       "      <th>buildingblock3_smiles_O=C(O)c1scc2c1CCCC2</th>\n",
       "      <th>buildingblock3_smiles_O=C1CC(C(=O)O)c2cccnc2N1</th>\n",
       "      <th>buildingblock3_smiles_O=C1CC2(C1)CC(C(=O)O)C2</th>\n",
       "      <th>buildingblock3_smiles_O=C1CCC(C(=O)O)CC1</th>\n",
       "      <th>buildingblock3_smiles_O=C1NC(=O)C2(CCC(C(=O)O)CC2)N1</th>\n",
       "      <th>buildingblock3_smiles_O=C1NCC(Cn2cc(C(=O)O)nn2)O1</th>\n",
       "    </tr>\n",
       "  </thead>\n",
       "  <tbody>\n",
       "    <tr>\n",
       "      <th>0</th>\n",
       "      <td>1</td>\n",
       "      <td>C#CCCC[C@H](NC(=O)OCC1c2ccccc2-c2ccccc21)C(=O)O</td>\n",
       "      <td>C=Cc1ccc(N)cc1</td>\n",
       "      <td>C=Cc1ccc(N)cc1</td>\n",
       "      <td>HSA</td>\n",
       "      <td>0.0</td>\n",
       "      <td>0.0</td>\n",
       "      <td>0.0</td>\n",
       "      <td>0.0</td>\n",
       "      <td>0.0</td>\n",
       "      <td>...</td>\n",
       "      <td>0.0</td>\n",
       "      <td>0.0</td>\n",
       "      <td>0.0</td>\n",
       "      <td>0.0</td>\n",
       "      <td>0.0</td>\n",
       "      <td>0.0</td>\n",
       "      <td>0.0</td>\n",
       "      <td>0.0</td>\n",
       "      <td>0.0</td>\n",
       "      <td>0.0</td>\n",
       "    </tr>\n",
       "    <tr>\n",
       "      <th>1</th>\n",
       "      <td>4</td>\n",
       "      <td>C#CCCC[C@H](NC(=O)OCC1c2ccccc2-c2ccccc21)C(=O)O</td>\n",
       "      <td>C=Cc1ccc(N)cc1</td>\n",
       "      <td>CC(O)Cn1cnc2c(N)ncnc21</td>\n",
       "      <td>HSA</td>\n",
       "      <td>0.0</td>\n",
       "      <td>0.0</td>\n",
       "      <td>0.0</td>\n",
       "      <td>0.0</td>\n",
       "      <td>0.0</td>\n",
       "      <td>...</td>\n",
       "      <td>0.0</td>\n",
       "      <td>0.0</td>\n",
       "      <td>0.0</td>\n",
       "      <td>0.0</td>\n",
       "      <td>0.0</td>\n",
       "      <td>0.0</td>\n",
       "      <td>0.0</td>\n",
       "      <td>0.0</td>\n",
       "      <td>0.0</td>\n",
       "      <td>0.0</td>\n",
       "    </tr>\n",
       "    <tr>\n",
       "      <th>2</th>\n",
       "      <td>7</td>\n",
       "      <td>C#CCCC[C@H](NC(=O)OCC1c2ccccc2-c2ccccc21)C(=O)O</td>\n",
       "      <td>C=Cc1ccc(N)cc1</td>\n",
       "      <td>CC1(C)CCCC1(O)CN</td>\n",
       "      <td>HSA</td>\n",
       "      <td>0.0</td>\n",
       "      <td>0.0</td>\n",
       "      <td>0.0</td>\n",
       "      <td>0.0</td>\n",
       "      <td>0.0</td>\n",
       "      <td>...</td>\n",
       "      <td>0.0</td>\n",
       "      <td>0.0</td>\n",
       "      <td>0.0</td>\n",
       "      <td>0.0</td>\n",
       "      <td>0.0</td>\n",
       "      <td>0.0</td>\n",
       "      <td>0.0</td>\n",
       "      <td>0.0</td>\n",
       "      <td>0.0</td>\n",
       "      <td>0.0</td>\n",
       "    </tr>\n",
       "    <tr>\n",
       "      <th>3</th>\n",
       "      <td>10</td>\n",
       "      <td>C#CCCC[C@H](NC(=O)OCC1c2ccccc2-c2ccccc21)C(=O)O</td>\n",
       "      <td>C=Cc1ccc(N)cc1</td>\n",
       "      <td>COC(=O)c1cc(Cl)sc1N</td>\n",
       "      <td>HSA</td>\n",
       "      <td>0.0</td>\n",
       "      <td>0.0</td>\n",
       "      <td>0.0</td>\n",
       "      <td>0.0</td>\n",
       "      <td>0.0</td>\n",
       "      <td>...</td>\n",
       "      <td>0.0</td>\n",
       "      <td>0.0</td>\n",
       "      <td>0.0</td>\n",
       "      <td>0.0</td>\n",
       "      <td>0.0</td>\n",
       "      <td>0.0</td>\n",
       "      <td>0.0</td>\n",
       "      <td>0.0</td>\n",
       "      <td>0.0</td>\n",
       "      <td>0.0</td>\n",
       "    </tr>\n",
       "    <tr>\n",
       "      <th>4</th>\n",
       "      <td>13</td>\n",
       "      <td>C#CCCC[C@H](NC(=O)OCC1c2ccccc2-c2ccccc21)C(=O)O</td>\n",
       "      <td>C=Cc1ccc(N)cc1</td>\n",
       "      <td>CSC1CCC(CN)CC1</td>\n",
       "      <td>HSA</td>\n",
       "      <td>0.0</td>\n",
       "      <td>0.0</td>\n",
       "      <td>0.0</td>\n",
       "      <td>0.0</td>\n",
       "      <td>0.0</td>\n",
       "      <td>...</td>\n",
       "      <td>0.0</td>\n",
       "      <td>0.0</td>\n",
       "      <td>0.0</td>\n",
       "      <td>0.0</td>\n",
       "      <td>0.0</td>\n",
       "      <td>0.0</td>\n",
       "      <td>0.0</td>\n",
       "      <td>0.0</td>\n",
       "      <td>0.0</td>\n",
       "      <td>0.0</td>\n",
       "    </tr>\n",
       "  </tbody>\n",
       "</table>\n",
       "<p>5 rows × 2872 columns</p>\n",
       "</div>"
      ],
      "text/plain": [
       "   index                            buildingblock1_smiles  \\\n",
       "0      1  C#CCCC[C@H](NC(=O)OCC1c2ccccc2-c2ccccc21)C(=O)O   \n",
       "1      4  C#CCCC[C@H](NC(=O)OCC1c2ccccc2-c2ccccc21)C(=O)O   \n",
       "2      7  C#CCCC[C@H](NC(=O)OCC1c2ccccc2-c2ccccc21)C(=O)O   \n",
       "3     10  C#CCCC[C@H](NC(=O)OCC1c2ccccc2-c2ccccc21)C(=O)O   \n",
       "4     13  C#CCCC[C@H](NC(=O)OCC1c2ccccc2-c2ccccc21)C(=O)O   \n",
       "\n",
       "  buildingblock2_smiles   buildingblock3_smiles protein_name  \\\n",
       "0        C=Cc1ccc(N)cc1          C=Cc1ccc(N)cc1          HSA   \n",
       "1        C=Cc1ccc(N)cc1  CC(O)Cn1cnc2c(N)ncnc21          HSA   \n",
       "2        C=Cc1ccc(N)cc1        CC1(C)CCCC1(O)CN          HSA   \n",
       "3        C=Cc1ccc(N)cc1     COC(=O)c1cc(Cl)sc1N          HSA   \n",
       "4        C=Cc1ccc(N)cc1          CSC1CCC(CN)CC1          HSA   \n",
       "\n",
       "   buildingblock1_smiles_C#CC[C@@H](CC(=O)O)NC(=O)OCC1c2ccccc2-c2ccccc21  \\\n",
       "0                                                0.0                       \n",
       "1                                                0.0                       \n",
       "2                                                0.0                       \n",
       "3                                                0.0                       \n",
       "4                                                0.0                       \n",
       "\n",
       "   buildingblock1_smiles_C#CC[C@@H](NC(=O)OCC1c2ccccc2-c2ccccc21)C(=O)O  \\\n",
       "0                                                0.0                      \n",
       "1                                                0.0                      \n",
       "2                                                0.0                      \n",
       "3                                                0.0                      \n",
       "4                                                0.0                      \n",
       "\n",
       "   buildingblock1_smiles_C#CC[C@@](C)(NC(=O)OCC1c2ccccc2-c2ccccc21)C(=O)O  \\\n",
       "0                                                0.0                        \n",
       "1                                                0.0                        \n",
       "2                                                0.0                        \n",
       "3                                                0.0                        \n",
       "4                                                0.0                        \n",
       "\n",
       "   buildingblock1_smiles_C#CC[C@H](CC(=O)O)NC(=O)OCC1c2ccccc2-c2ccccc21  \\\n",
       "0                                                0.0                      \n",
       "1                                                0.0                      \n",
       "2                                                0.0                      \n",
       "3                                                0.0                      \n",
       "4                                                0.0                      \n",
       "\n",
       "   buildingblock1_smiles_C#CC[C@H](NC(=O)OCC1c2ccccc2-c2ccccc21)C(=O)O  ...  \\\n",
       "0                                                0.0                    ...   \n",
       "1                                                0.0                    ...   \n",
       "2                                                0.0                    ...   \n",
       "3                                                0.0                    ...   \n",
       "4                                                0.0                    ...   \n",
       "\n",
       "   buildingblock3_smiles_O=C(O)c1nccc(N2CCOCC2)n1  \\\n",
       "0                                             0.0   \n",
       "1                                             0.0   \n",
       "2                                             0.0   \n",
       "3                                             0.0   \n",
       "4                                             0.0   \n",
       "\n",
       "   buildingblock3_smiles_O=C(O)c1nccnc1N1CCCCC1  \\\n",
       "0                                           0.0   \n",
       "1                                           0.0   \n",
       "2                                           0.0   \n",
       "3                                           0.0   \n",
       "4                                           0.0   \n",
       "\n",
       "   buildingblock3_smiles_O=C(O)c1ncn(-c2ccccc2)n1  \\\n",
       "0                                             0.0   \n",
       "1                                             0.0   \n",
       "2                                             0.0   \n",
       "3                                             0.0   \n",
       "4                                             0.0   \n",
       "\n",
       "   buildingblock3_smiles_O=C(O)c1ncsc1C(F)(F)F  \\\n",
       "0                                          0.0   \n",
       "1                                          0.0   \n",
       "2                                          0.0   \n",
       "3                                          0.0   \n",
       "4                                          0.0   \n",
       "\n",
       "   buildingblock3_smiles_O=C(O)c1scc2c1CCCC2  \\\n",
       "0                                        0.0   \n",
       "1                                        0.0   \n",
       "2                                        0.0   \n",
       "3                                        0.0   \n",
       "4                                        0.0   \n",
       "\n",
       "   buildingblock3_smiles_O=C1CC(C(=O)O)c2cccnc2N1  \\\n",
       "0                                             0.0   \n",
       "1                                             0.0   \n",
       "2                                             0.0   \n",
       "3                                             0.0   \n",
       "4                                             0.0   \n",
       "\n",
       "   buildingblock3_smiles_O=C1CC2(C1)CC(C(=O)O)C2  \\\n",
       "0                                            0.0   \n",
       "1                                            0.0   \n",
       "2                                            0.0   \n",
       "3                                            0.0   \n",
       "4                                            0.0   \n",
       "\n",
       "   buildingblock3_smiles_O=C1CCC(C(=O)O)CC1  \\\n",
       "0                                       0.0   \n",
       "1                                       0.0   \n",
       "2                                       0.0   \n",
       "3                                       0.0   \n",
       "4                                       0.0   \n",
       "\n",
       "   buildingblock3_smiles_O=C1NC(=O)C2(CCC(C(=O)O)CC2)N1  \\\n",
       "0                                                0.0      \n",
       "1                                                0.0      \n",
       "2                                                0.0      \n",
       "3                                                0.0      \n",
       "4                                                0.0      \n",
       "\n",
       "   buildingblock3_smiles_O=C1NCC(Cn2cc(C(=O)O)nn2)O1  \n",
       "0                                                0.0  \n",
       "1                                                0.0  \n",
       "2                                                0.0  \n",
       "3                                                0.0  \n",
       "4                                                0.0  \n",
       "\n",
       "[5 rows x 2872 columns]"
      ]
     },
     "metadata": {},
     "output_type": "display_data"
    }
   ],
   "source": [
    "display(df_encodedt2.head())"
   ]
  },
  {
   "cell_type": "markdown",
   "metadata": {},
   "source": [
    "### Proteina BRD4"
   ]
  },
  {
   "cell_type": "markdown",
   "metadata": {},
   "source": [
    "Por ultimo codificamos la Proteina BRD4 con el mismo proceso que en los anteriores Dataframes."
   ]
  },
  {
   "cell_type": "code",
   "execution_count": 5,
   "metadata": {},
   "outputs": [],
   "source": [
    "categorical_columns = ['protein_name','buildingblock1_smiles','buildingblock2_smiles','buildingblock3_smiles']"
   ]
  },
  {
   "cell_type": "code",
   "execution_count": 6,
   "metadata": {},
   "outputs": [],
   "source": [
    "med_final3=med_final3.reset_index()"
   ]
  },
  {
   "cell_type": "code",
   "execution_count": 7,
   "metadata": {},
   "outputs": [],
   "source": [
    "encoder3 = OneHotEncoder(sparse_output=False, drop='first') \n",
    "one_hot_encoded3 = encoder3.fit_transform(med_final3[categorical_columns])"
   ]
  },
  {
   "cell_type": "code",
   "execution_count": 8,
   "metadata": {},
   "outputs": [],
   "source": [
    "one_hot_df3 = pd.DataFrame(one_hot_encoded3, columns=encoder3.get_feature_names_out(categorical_columns))\n",
    "df_encoded3 = pd.concat([med_final3.drop(columns= categorical_columns),one_hot_df3], axis=1)"
   ]
  },
  {
   "cell_type": "code",
   "execution_count": 28,
   "metadata": {},
   "outputs": [
    {
     "data": {
      "text/html": [
       "<div>\n",
       "<style scoped>\n",
       "    .dataframe tbody tr th:only-of-type {\n",
       "        vertical-align: middle;\n",
       "    }\n",
       "\n",
       "    .dataframe tbody tr th {\n",
       "        vertical-align: top;\n",
       "    }\n",
       "\n",
       "    .dataframe thead th {\n",
       "        text-align: right;\n",
       "    }\n",
       "</style>\n",
       "<table border=\"1\" class=\"dataframe\">\n",
       "  <thead>\n",
       "    <tr style=\"text-align: right;\">\n",
       "      <th></th>\n",
       "      <th>index</th>\n",
       "      <th>binds</th>\n",
       "      <th>buildingblock1_smiles_C#CC[C@@H](NC(=O)OCC1c2ccccc2-c2ccccc21)C(=O)O</th>\n",
       "      <th>buildingblock1_smiles_C#CC[C@@](C)(NC(=O)OCC1c2ccccc2-c2ccccc21)C(=O)O</th>\n",
       "      <th>buildingblock1_smiles_C#CC[C@H](CC(=O)O)NC(=O)OCC1c2ccccc2-c2ccccc21</th>\n",
       "      <th>buildingblock1_smiles_C#CC[C@H](NC(=O)OCC1c2ccccc2-c2ccccc21)C(=O)O</th>\n",
       "      <th>buildingblock1_smiles_C=CCC(CC=C)(NC(=O)OCC1c2ccccc2-c2ccccc21)C(=O)O</th>\n",
       "      <th>buildingblock1_smiles_C=CCC(NC(=O)OCC1c2ccccc2-c2ccccc21)C(=O)O</th>\n",
       "      <th>buildingblock1_smiles_C=CCC[C@@H](NC(=O)OCC1c2ccccc2-c2ccccc21)C(=O)O</th>\n",
       "      <th>buildingblock1_smiles_C=CC[C@@H](NC(=O)OCC1c2ccccc2-c2ccccc21)C(=O)O</th>\n",
       "      <th>...</th>\n",
       "      <th>buildingblock3_smiles_Nc1ncnc(=O)[nH]1</th>\n",
       "      <th>buildingblock3_smiles_Nc1ncnc(Cl)c1Cl</th>\n",
       "      <th>buildingblock3_smiles_Nc1ncnc2[nH]cnc12</th>\n",
       "      <th>buildingblock3_smiles_Nc1ncnc2[nH]ncc12</th>\n",
       "      <th>buildingblock3_smiles_Nc1ncnc2c1ncn2C1CCCCO1</th>\n",
       "      <th>buildingblock3_smiles_Nc1ncncc1Br</th>\n",
       "      <th>buildingblock3_smiles_Nc1nnc(S)s1</th>\n",
       "      <th>buildingblock3_smiles_Nc1nncs1</th>\n",
       "      <th>buildingblock3_smiles_Nc1nnn[nH]1</th>\n",
       "      <th>buildingblock3_smiles_Nc1noc2ccc(F)cc12</th>\n",
       "    </tr>\n",
       "  </thead>\n",
       "  <tbody>\n",
       "    <tr>\n",
       "      <th>0</th>\n",
       "      <td>0</td>\n",
       "      <td>0</td>\n",
       "      <td>0.0</td>\n",
       "      <td>0.0</td>\n",
       "      <td>0.0</td>\n",
       "      <td>0.0</td>\n",
       "      <td>0.0</td>\n",
       "      <td>0.0</td>\n",
       "      <td>0.0</td>\n",
       "      <td>0.0</td>\n",
       "      <td>...</td>\n",
       "      <td>0.0</td>\n",
       "      <td>0.0</td>\n",
       "      <td>0.0</td>\n",
       "      <td>0.0</td>\n",
       "      <td>0.0</td>\n",
       "      <td>0.0</td>\n",
       "      <td>0.0</td>\n",
       "      <td>0.0</td>\n",
       "      <td>0.0</td>\n",
       "      <td>0.0</td>\n",
       "    </tr>\n",
       "    <tr>\n",
       "      <th>1</th>\n",
       "      <td>1</td>\n",
       "      <td>0</td>\n",
       "      <td>0.0</td>\n",
       "      <td>0.0</td>\n",
       "      <td>0.0</td>\n",
       "      <td>0.0</td>\n",
       "      <td>0.0</td>\n",
       "      <td>0.0</td>\n",
       "      <td>0.0</td>\n",
       "      <td>0.0</td>\n",
       "      <td>...</td>\n",
       "      <td>0.0</td>\n",
       "      <td>0.0</td>\n",
       "      <td>0.0</td>\n",
       "      <td>0.0</td>\n",
       "      <td>0.0</td>\n",
       "      <td>0.0</td>\n",
       "      <td>0.0</td>\n",
       "      <td>0.0</td>\n",
       "      <td>0.0</td>\n",
       "      <td>0.0</td>\n",
       "    </tr>\n",
       "    <tr>\n",
       "      <th>2</th>\n",
       "      <td>2</td>\n",
       "      <td>0</td>\n",
       "      <td>0.0</td>\n",
       "      <td>0.0</td>\n",
       "      <td>0.0</td>\n",
       "      <td>0.0</td>\n",
       "      <td>0.0</td>\n",
       "      <td>0.0</td>\n",
       "      <td>0.0</td>\n",
       "      <td>0.0</td>\n",
       "      <td>...</td>\n",
       "      <td>0.0</td>\n",
       "      <td>0.0</td>\n",
       "      <td>0.0</td>\n",
       "      <td>0.0</td>\n",
       "      <td>0.0</td>\n",
       "      <td>0.0</td>\n",
       "      <td>0.0</td>\n",
       "      <td>0.0</td>\n",
       "      <td>0.0</td>\n",
       "      <td>0.0</td>\n",
       "    </tr>\n",
       "    <tr>\n",
       "      <th>3</th>\n",
       "      <td>3</td>\n",
       "      <td>0</td>\n",
       "      <td>0.0</td>\n",
       "      <td>0.0</td>\n",
       "      <td>0.0</td>\n",
       "      <td>0.0</td>\n",
       "      <td>0.0</td>\n",
       "      <td>0.0</td>\n",
       "      <td>0.0</td>\n",
       "      <td>0.0</td>\n",
       "      <td>...</td>\n",
       "      <td>0.0</td>\n",
       "      <td>0.0</td>\n",
       "      <td>0.0</td>\n",
       "      <td>0.0</td>\n",
       "      <td>0.0</td>\n",
       "      <td>0.0</td>\n",
       "      <td>0.0</td>\n",
       "      <td>0.0</td>\n",
       "      <td>0.0</td>\n",
       "      <td>0.0</td>\n",
       "    </tr>\n",
       "    <tr>\n",
       "      <th>4</th>\n",
       "      <td>4</td>\n",
       "      <td>0</td>\n",
       "      <td>0.0</td>\n",
       "      <td>0.0</td>\n",
       "      <td>1.0</td>\n",
       "      <td>0.0</td>\n",
       "      <td>0.0</td>\n",
       "      <td>0.0</td>\n",
       "      <td>0.0</td>\n",
       "      <td>0.0</td>\n",
       "      <td>...</td>\n",
       "      <td>0.0</td>\n",
       "      <td>0.0</td>\n",
       "      <td>0.0</td>\n",
       "      <td>0.0</td>\n",
       "      <td>0.0</td>\n",
       "      <td>0.0</td>\n",
       "      <td>0.0</td>\n",
       "      <td>0.0</td>\n",
       "      <td>0.0</td>\n",
       "      <td>0.0</td>\n",
       "    </tr>\n",
       "  </tbody>\n",
       "</table>\n",
       "<p>5 rows × 1834 columns</p>\n",
       "</div>"
      ],
      "text/plain": [
       "   index  binds  \\\n",
       "0      0      0   \n",
       "1      1      0   \n",
       "2      2      0   \n",
       "3      3      0   \n",
       "4      4      0   \n",
       "\n",
       "   buildingblock1_smiles_C#CC[C@@H](NC(=O)OCC1c2ccccc2-c2ccccc21)C(=O)O  \\\n",
       "0                                                0.0                      \n",
       "1                                                0.0                      \n",
       "2                                                0.0                      \n",
       "3                                                0.0                      \n",
       "4                                                0.0                      \n",
       "\n",
       "   buildingblock1_smiles_C#CC[C@@](C)(NC(=O)OCC1c2ccccc2-c2ccccc21)C(=O)O  \\\n",
       "0                                                0.0                        \n",
       "1                                                0.0                        \n",
       "2                                                0.0                        \n",
       "3                                                0.0                        \n",
       "4                                                0.0                        \n",
       "\n",
       "   buildingblock1_smiles_C#CC[C@H](CC(=O)O)NC(=O)OCC1c2ccccc2-c2ccccc21  \\\n",
       "0                                                0.0                      \n",
       "1                                                0.0                      \n",
       "2                                                0.0                      \n",
       "3                                                0.0                      \n",
       "4                                                1.0                      \n",
       "\n",
       "   buildingblock1_smiles_C#CC[C@H](NC(=O)OCC1c2ccccc2-c2ccccc21)C(=O)O  \\\n",
       "0                                                0.0                     \n",
       "1                                                0.0                     \n",
       "2                                                0.0                     \n",
       "3                                                0.0                     \n",
       "4                                                0.0                     \n",
       "\n",
       "   buildingblock1_smiles_C=CCC(CC=C)(NC(=O)OCC1c2ccccc2-c2ccccc21)C(=O)O  \\\n",
       "0                                                0.0                       \n",
       "1                                                0.0                       \n",
       "2                                                0.0                       \n",
       "3                                                0.0                       \n",
       "4                                                0.0                       \n",
       "\n",
       "   buildingblock1_smiles_C=CCC(NC(=O)OCC1c2ccccc2-c2ccccc21)C(=O)O  \\\n",
       "0                                                0.0                 \n",
       "1                                                0.0                 \n",
       "2                                                0.0                 \n",
       "3                                                0.0                 \n",
       "4                                                0.0                 \n",
       "\n",
       "   buildingblock1_smiles_C=CCC[C@@H](NC(=O)OCC1c2ccccc2-c2ccccc21)C(=O)O  \\\n",
       "0                                                0.0                       \n",
       "1                                                0.0                       \n",
       "2                                                0.0                       \n",
       "3                                                0.0                       \n",
       "4                                                0.0                       \n",
       "\n",
       "   buildingblock1_smiles_C=CC[C@@H](NC(=O)OCC1c2ccccc2-c2ccccc21)C(=O)O  ...  \\\n",
       "0                                                0.0                     ...   \n",
       "1                                                0.0                     ...   \n",
       "2                                                0.0                     ...   \n",
       "3                                                0.0                     ...   \n",
       "4                                                0.0                     ...   \n",
       "\n",
       "   buildingblock3_smiles_Nc1ncnc(=O)[nH]1  \\\n",
       "0                                     0.0   \n",
       "1                                     0.0   \n",
       "2                                     0.0   \n",
       "3                                     0.0   \n",
       "4                                     0.0   \n",
       "\n",
       "   buildingblock3_smiles_Nc1ncnc(Cl)c1Cl  \\\n",
       "0                                    0.0   \n",
       "1                                    0.0   \n",
       "2                                    0.0   \n",
       "3                                    0.0   \n",
       "4                                    0.0   \n",
       "\n",
       "   buildingblock3_smiles_Nc1ncnc2[nH]cnc12  \\\n",
       "0                                      0.0   \n",
       "1                                      0.0   \n",
       "2                                      0.0   \n",
       "3                                      0.0   \n",
       "4                                      0.0   \n",
       "\n",
       "   buildingblock3_smiles_Nc1ncnc2[nH]ncc12  \\\n",
       "0                                      0.0   \n",
       "1                                      0.0   \n",
       "2                                      0.0   \n",
       "3                                      0.0   \n",
       "4                                      0.0   \n",
       "\n",
       "   buildingblock3_smiles_Nc1ncnc2c1ncn2C1CCCCO1  \\\n",
       "0                                           0.0   \n",
       "1                                           0.0   \n",
       "2                                           0.0   \n",
       "3                                           0.0   \n",
       "4                                           0.0   \n",
       "\n",
       "   buildingblock3_smiles_Nc1ncncc1Br  buildingblock3_smiles_Nc1nnc(S)s1  \\\n",
       "0                                0.0                                0.0   \n",
       "1                                0.0                                0.0   \n",
       "2                                0.0                                0.0   \n",
       "3                                0.0                                0.0   \n",
       "4                                0.0                                0.0   \n",
       "\n",
       "   buildingblock3_smiles_Nc1nncs1  buildingblock3_smiles_Nc1nnn[nH]1  \\\n",
       "0                             0.0                                0.0   \n",
       "1                             0.0                                0.0   \n",
       "2                             0.0                                0.0   \n",
       "3                             0.0                                0.0   \n",
       "4                             0.0                                0.0   \n",
       "\n",
       "   buildingblock3_smiles_Nc1noc2ccc(F)cc12  \n",
       "0                                      0.0  \n",
       "1                                      0.0  \n",
       "2                                      0.0  \n",
       "3                                      0.0  \n",
       "4                                      0.0  \n",
       "\n",
       "[5 rows x 1834 columns]"
      ]
     },
     "metadata": {},
     "output_type": "display_data"
    }
   ],
   "source": [
    "display(df_encoded3.head())"
   ]
  },
  {
   "cell_type": "markdown",
   "metadata": {},
   "source": [
    "Codificación del test"
   ]
  },
  {
   "cell_type": "code",
   "execution_count": 13,
   "metadata": {},
   "outputs": [],
   "source": [
    "test_proteina3=test_proteina3.reset_index()"
   ]
  },
  {
   "cell_type": "code",
   "execution_count": 14,
   "metadata": {},
   "outputs": [],
   "source": [
    "encodert3 = OneHotEncoder(sparse_output=False, drop='first') \n",
    "one_hot_encodedt3 = encodert3.fit_transform(test_proteina3[categorical_columns])"
   ]
  },
  {
   "cell_type": "code",
   "execution_count": 15,
   "metadata": {},
   "outputs": [],
   "source": [
    "one_hot_dft3 = pd.DataFrame(one_hot_encodedt3, columns=encodert3.get_feature_names_out(categorical_columns))\n",
    "df_encodedt3 = pd.concat([test_proteina3.drop(columns= categorical_columns),one_hot_dft3], axis=1)"
   ]
  },
  {
   "cell_type": "code",
   "execution_count": 27,
   "metadata": {},
   "outputs": [
    {
     "data": {
      "text/html": [
       "<div>\n",
       "<style scoped>\n",
       "    .dataframe tbody tr th:only-of-type {\n",
       "        vertical-align: middle;\n",
       "    }\n",
       "\n",
       "    .dataframe tbody tr th {\n",
       "        vertical-align: top;\n",
       "    }\n",
       "\n",
       "    .dataframe thead th {\n",
       "        text-align: right;\n",
       "    }\n",
       "</style>\n",
       "<table border=\"1\" class=\"dataframe\">\n",
       "  <thead>\n",
       "    <tr style=\"text-align: right;\">\n",
       "      <th></th>\n",
       "      <th>index</th>\n",
       "      <th>buildingblock1_smiles_C#CC[C@@H](CC(=O)O)NC(=O)OCC1c2ccccc2-c2ccccc21</th>\n",
       "      <th>buildingblock1_smiles_C#CC[C@@H](NC(=O)OCC1c2ccccc2-c2ccccc21)C(=O)O</th>\n",
       "      <th>buildingblock1_smiles_C#CC[C@@](C)(NC(=O)OCC1c2ccccc2-c2ccccc21)C(=O)O</th>\n",
       "      <th>buildingblock1_smiles_C#CC[C@H](CC(=O)O)NC(=O)OCC1c2ccccc2-c2ccccc21</th>\n",
       "      <th>buildingblock1_smiles_C#CC[C@H](NC(=O)OCC1c2ccccc2-c2ccccc21)C(=O)O</th>\n",
       "      <th>buildingblock1_smiles_C=CCC(CC=C)(NC(=O)OCC1c2ccccc2-c2ccccc21)C(=O)O</th>\n",
       "      <th>buildingblock1_smiles_C=CCC(NC(=O)OCC1c2ccccc2-c2ccccc21)C(=O)O</th>\n",
       "      <th>buildingblock1_smiles_C=CCC[C@@H](NC(=O)OCC1c2ccccc2-c2ccccc21)C(=O)O</th>\n",
       "      <th>buildingblock1_smiles_C=CC[C@@H](NC(=O)OCC1c2ccccc2-c2ccccc21)C(=O)O</th>\n",
       "      <th>...</th>\n",
       "      <th>buildingblock3_smiles_O=C(O)c1nccc(N2CCOCC2)n1</th>\n",
       "      <th>buildingblock3_smiles_O=C(O)c1nccnc1N1CCCCC1</th>\n",
       "      <th>buildingblock3_smiles_O=C(O)c1ncn(-c2ccccc2)n1</th>\n",
       "      <th>buildingblock3_smiles_O=C(O)c1ncsc1C(F)(F)F</th>\n",
       "      <th>buildingblock3_smiles_O=C(O)c1scc2c1CCCC2</th>\n",
       "      <th>buildingblock3_smiles_O=C1CC(C(=O)O)c2cccnc2N1</th>\n",
       "      <th>buildingblock3_smiles_O=C1CC2(C1)CC(C(=O)O)C2</th>\n",
       "      <th>buildingblock3_smiles_O=C1CCC(C(=O)O)CC1</th>\n",
       "      <th>buildingblock3_smiles_O=C1NC(=O)C2(CCC(C(=O)O)CC2)N1</th>\n",
       "      <th>buildingblock3_smiles_O=C1NCC(Cn2cc(C(=O)O)nn2)O1</th>\n",
       "    </tr>\n",
       "  </thead>\n",
       "  <tbody>\n",
       "    <tr>\n",
       "      <th>0</th>\n",
       "      <td>0</td>\n",
       "      <td>0.0</td>\n",
       "      <td>0.0</td>\n",
       "      <td>0.0</td>\n",
       "      <td>0.0</td>\n",
       "      <td>0.0</td>\n",
       "      <td>0.0</td>\n",
       "      <td>0.0</td>\n",
       "      <td>0.0</td>\n",
       "      <td>0.0</td>\n",
       "      <td>...</td>\n",
       "      <td>0.0</td>\n",
       "      <td>0.0</td>\n",
       "      <td>0.0</td>\n",
       "      <td>0.0</td>\n",
       "      <td>0.0</td>\n",
       "      <td>0.0</td>\n",
       "      <td>0.0</td>\n",
       "      <td>0.0</td>\n",
       "      <td>0.0</td>\n",
       "      <td>0.0</td>\n",
       "    </tr>\n",
       "    <tr>\n",
       "      <th>1</th>\n",
       "      <td>3</td>\n",
       "      <td>0.0</td>\n",
       "      <td>0.0</td>\n",
       "      <td>0.0</td>\n",
       "      <td>0.0</td>\n",
       "      <td>0.0</td>\n",
       "      <td>0.0</td>\n",
       "      <td>0.0</td>\n",
       "      <td>0.0</td>\n",
       "      <td>0.0</td>\n",
       "      <td>...</td>\n",
       "      <td>0.0</td>\n",
       "      <td>0.0</td>\n",
       "      <td>0.0</td>\n",
       "      <td>0.0</td>\n",
       "      <td>0.0</td>\n",
       "      <td>0.0</td>\n",
       "      <td>0.0</td>\n",
       "      <td>0.0</td>\n",
       "      <td>0.0</td>\n",
       "      <td>0.0</td>\n",
       "    </tr>\n",
       "    <tr>\n",
       "      <th>2</th>\n",
       "      <td>6</td>\n",
       "      <td>0.0</td>\n",
       "      <td>0.0</td>\n",
       "      <td>0.0</td>\n",
       "      <td>0.0</td>\n",
       "      <td>0.0</td>\n",
       "      <td>0.0</td>\n",
       "      <td>0.0</td>\n",
       "      <td>0.0</td>\n",
       "      <td>0.0</td>\n",
       "      <td>...</td>\n",
       "      <td>0.0</td>\n",
       "      <td>0.0</td>\n",
       "      <td>0.0</td>\n",
       "      <td>0.0</td>\n",
       "      <td>0.0</td>\n",
       "      <td>0.0</td>\n",
       "      <td>0.0</td>\n",
       "      <td>0.0</td>\n",
       "      <td>0.0</td>\n",
       "      <td>0.0</td>\n",
       "    </tr>\n",
       "    <tr>\n",
       "      <th>3</th>\n",
       "      <td>9</td>\n",
       "      <td>0.0</td>\n",
       "      <td>0.0</td>\n",
       "      <td>0.0</td>\n",
       "      <td>0.0</td>\n",
       "      <td>0.0</td>\n",
       "      <td>0.0</td>\n",
       "      <td>0.0</td>\n",
       "      <td>0.0</td>\n",
       "      <td>0.0</td>\n",
       "      <td>...</td>\n",
       "      <td>0.0</td>\n",
       "      <td>0.0</td>\n",
       "      <td>0.0</td>\n",
       "      <td>0.0</td>\n",
       "      <td>0.0</td>\n",
       "      <td>0.0</td>\n",
       "      <td>0.0</td>\n",
       "      <td>0.0</td>\n",
       "      <td>0.0</td>\n",
       "      <td>0.0</td>\n",
       "    </tr>\n",
       "    <tr>\n",
       "      <th>4</th>\n",
       "      <td>12</td>\n",
       "      <td>0.0</td>\n",
       "      <td>0.0</td>\n",
       "      <td>0.0</td>\n",
       "      <td>0.0</td>\n",
       "      <td>0.0</td>\n",
       "      <td>0.0</td>\n",
       "      <td>0.0</td>\n",
       "      <td>0.0</td>\n",
       "      <td>0.0</td>\n",
       "      <td>...</td>\n",
       "      <td>0.0</td>\n",
       "      <td>0.0</td>\n",
       "      <td>0.0</td>\n",
       "      <td>0.0</td>\n",
       "      <td>0.0</td>\n",
       "      <td>0.0</td>\n",
       "      <td>0.0</td>\n",
       "      <td>0.0</td>\n",
       "      <td>0.0</td>\n",
       "      <td>0.0</td>\n",
       "    </tr>\n",
       "  </tbody>\n",
       "</table>\n",
       "<p>5 rows × 2868 columns</p>\n",
       "</div>"
      ],
      "text/plain": [
       "   index  \\\n",
       "0      0   \n",
       "1      3   \n",
       "2      6   \n",
       "3      9   \n",
       "4     12   \n",
       "\n",
       "   buildingblock1_smiles_C#CC[C@@H](CC(=O)O)NC(=O)OCC1c2ccccc2-c2ccccc21  \\\n",
       "0                                                0.0                       \n",
       "1                                                0.0                       \n",
       "2                                                0.0                       \n",
       "3                                                0.0                       \n",
       "4                                                0.0                       \n",
       "\n",
       "   buildingblock1_smiles_C#CC[C@@H](NC(=O)OCC1c2ccccc2-c2ccccc21)C(=O)O  \\\n",
       "0                                                0.0                      \n",
       "1                                                0.0                      \n",
       "2                                                0.0                      \n",
       "3                                                0.0                      \n",
       "4                                                0.0                      \n",
       "\n",
       "   buildingblock1_smiles_C#CC[C@@](C)(NC(=O)OCC1c2ccccc2-c2ccccc21)C(=O)O  \\\n",
       "0                                                0.0                        \n",
       "1                                                0.0                        \n",
       "2                                                0.0                        \n",
       "3                                                0.0                        \n",
       "4                                                0.0                        \n",
       "\n",
       "   buildingblock1_smiles_C#CC[C@H](CC(=O)O)NC(=O)OCC1c2ccccc2-c2ccccc21  \\\n",
       "0                                                0.0                      \n",
       "1                                                0.0                      \n",
       "2                                                0.0                      \n",
       "3                                                0.0                      \n",
       "4                                                0.0                      \n",
       "\n",
       "   buildingblock1_smiles_C#CC[C@H](NC(=O)OCC1c2ccccc2-c2ccccc21)C(=O)O  \\\n",
       "0                                                0.0                     \n",
       "1                                                0.0                     \n",
       "2                                                0.0                     \n",
       "3                                                0.0                     \n",
       "4                                                0.0                     \n",
       "\n",
       "   buildingblock1_smiles_C=CCC(CC=C)(NC(=O)OCC1c2ccccc2-c2ccccc21)C(=O)O  \\\n",
       "0                                                0.0                       \n",
       "1                                                0.0                       \n",
       "2                                                0.0                       \n",
       "3                                                0.0                       \n",
       "4                                                0.0                       \n",
       "\n",
       "   buildingblock1_smiles_C=CCC(NC(=O)OCC1c2ccccc2-c2ccccc21)C(=O)O  \\\n",
       "0                                                0.0                 \n",
       "1                                                0.0                 \n",
       "2                                                0.0                 \n",
       "3                                                0.0                 \n",
       "4                                                0.0                 \n",
       "\n",
       "   buildingblock1_smiles_C=CCC[C@@H](NC(=O)OCC1c2ccccc2-c2ccccc21)C(=O)O  \\\n",
       "0                                                0.0                       \n",
       "1                                                0.0                       \n",
       "2                                                0.0                       \n",
       "3                                                0.0                       \n",
       "4                                                0.0                       \n",
       "\n",
       "   buildingblock1_smiles_C=CC[C@@H](NC(=O)OCC1c2ccccc2-c2ccccc21)C(=O)O  ...  \\\n",
       "0                                                0.0                     ...   \n",
       "1                                                0.0                     ...   \n",
       "2                                                0.0                     ...   \n",
       "3                                                0.0                     ...   \n",
       "4                                                0.0                     ...   \n",
       "\n",
       "   buildingblock3_smiles_O=C(O)c1nccc(N2CCOCC2)n1  \\\n",
       "0                                             0.0   \n",
       "1                                             0.0   \n",
       "2                                             0.0   \n",
       "3                                             0.0   \n",
       "4                                             0.0   \n",
       "\n",
       "   buildingblock3_smiles_O=C(O)c1nccnc1N1CCCCC1  \\\n",
       "0                                           0.0   \n",
       "1                                           0.0   \n",
       "2                                           0.0   \n",
       "3                                           0.0   \n",
       "4                                           0.0   \n",
       "\n",
       "   buildingblock3_smiles_O=C(O)c1ncn(-c2ccccc2)n1  \\\n",
       "0                                             0.0   \n",
       "1                                             0.0   \n",
       "2                                             0.0   \n",
       "3                                             0.0   \n",
       "4                                             0.0   \n",
       "\n",
       "   buildingblock3_smiles_O=C(O)c1ncsc1C(F)(F)F  \\\n",
       "0                                          0.0   \n",
       "1                                          0.0   \n",
       "2                                          0.0   \n",
       "3                                          0.0   \n",
       "4                                          0.0   \n",
       "\n",
       "   buildingblock3_smiles_O=C(O)c1scc2c1CCCC2  \\\n",
       "0                                        0.0   \n",
       "1                                        0.0   \n",
       "2                                        0.0   \n",
       "3                                        0.0   \n",
       "4                                        0.0   \n",
       "\n",
       "   buildingblock3_smiles_O=C1CC(C(=O)O)c2cccnc2N1  \\\n",
       "0                                             0.0   \n",
       "1                                             0.0   \n",
       "2                                             0.0   \n",
       "3                                             0.0   \n",
       "4                                             0.0   \n",
       "\n",
       "   buildingblock3_smiles_O=C1CC2(C1)CC(C(=O)O)C2  \\\n",
       "0                                            0.0   \n",
       "1                                            0.0   \n",
       "2                                            0.0   \n",
       "3                                            0.0   \n",
       "4                                            0.0   \n",
       "\n",
       "   buildingblock3_smiles_O=C1CCC(C(=O)O)CC1  \\\n",
       "0                                       0.0   \n",
       "1                                       0.0   \n",
       "2                                       0.0   \n",
       "3                                       0.0   \n",
       "4                                       0.0   \n",
       "\n",
       "   buildingblock3_smiles_O=C1NC(=O)C2(CCC(C(=O)O)CC2)N1  \\\n",
       "0                                                0.0      \n",
       "1                                                0.0      \n",
       "2                                                0.0      \n",
       "3                                                0.0      \n",
       "4                                                0.0      \n",
       "\n",
       "   buildingblock3_smiles_O=C1NCC(Cn2cc(C(=O)O)nn2)O1  \n",
       "0                                                0.0  \n",
       "1                                                0.0  \n",
       "2                                                0.0  \n",
       "3                                                0.0  \n",
       "4                                                0.0  \n",
       "\n",
       "[5 rows x 2868 columns]"
      ]
     },
     "metadata": {},
     "output_type": "display_data"
    }
   ],
   "source": [
    "display(df_encodedt3.head())"
   ]
  },
  {
   "cell_type": "markdown",
   "metadata": {},
   "source": [
    "# Prueba de Chi-Cuadrado para Multicolinealidad (entre Variables Categóricas)"
   ]
  },
  {
   "cell_type": "markdown",
   "metadata": {},
   "source": [
    "Se va a identificar si hay dependencia significativa entre las variables categóricas."
   ]
  },
  {
   "cell_type": "code",
   "execution_count": 17,
   "metadata": {},
   "outputs": [],
   "source": [
    "y = df_encoded['binds'] \n",
    "\n",
    "k_best = SelectKBest(score_func= chi2, k=100)  \n",
    "X_new = k_best.fit_transform(df_encoded, y)\n",
    "\n",
    "selected_features = k_best.get_support(indices=True)\n",
    "one_hot_df_reduced = one_hot_df.iloc[:, selected_features]\n",
    "selected_names = df_encoded.columns[selected_features]"
   ]
  },
  {
   "cell_type": "markdown",
   "metadata": {},
   "source": [
    "El código aplica la técnica de selección de características SelectKBest con la estadística chi-cuadrado (chi2) para identificar las 100 variables más relevantes del conjunto de datos codificado. Primero se define la variable objetivo y (la columna binds), y luego se ajusta SelectKBest para evaluar la dependencia entre las características categóricas codificadas y la variable objetivo. Posteriormente, se seleccionan los índices de las mejores características y se extraen del DataFrame original."
   ]
  },
  {
   "cell_type": "code",
   "execution_count": 21,
   "metadata": {},
   "outputs": [
    {
     "data": {
      "text/html": [
       "<div>\n",
       "<style scoped>\n",
       "    .dataframe tbody tr th:only-of-type {\n",
       "        vertical-align: middle;\n",
       "    }\n",
       "\n",
       "    .dataframe tbody tr th {\n",
       "        vertical-align: top;\n",
       "    }\n",
       "\n",
       "    .dataframe thead th {\n",
       "        text-align: right;\n",
       "    }\n",
       "</style>\n",
       "<table border=\"1\" class=\"dataframe\">\n",
       "  <thead>\n",
       "    <tr style=\"text-align: right;\">\n",
       "      <th></th>\n",
       "      <th>buildingblock1_smiles_C#CC[C@@H](NC(=O)OCC1c2ccccc2-c2ccccc21)C(=O)O</th>\n",
       "      <th>buildingblock1_smiles_C#CC[C@@](C)(NC(=O)OCC1c2ccccc2-c2ccccc21)C(=O)O</th>\n",
       "      <th>buildingblock1_smiles_O=C(NC1(C(=O)O)CCC1)OCC1c2ccccc2-c2ccccc21</th>\n",
       "      <th>buildingblock1_smiles_O=C(NCc1cccc(C(=O)O)c1)OCC1c2ccccc2-c2ccccc21</th>\n",
       "      <th>buildingblock1_smiles_O=C(N[C@@H](C(=O)O)C1CCCC1)OCC1c2ccccc2-c2ccccc21</th>\n",
       "      <th>buildingblock1_smiles_O=C(N[C@@H](Cc1cccs1)C(=O)O)OCC1c2ccccc2-c2ccccc21</th>\n",
       "      <th>buildingblock1_smiles_O=C(N[C@H](Cc1ccc([N+](=O)[O-])cc1)C(=O)O)OCC1c2ccccc2-c2ccccc21</th>\n",
       "      <th>buildingblock1_smiles_O=C(Nc1ccc(C(=O)O)cc1Cl)OCC1c2ccccc2-c2ccccc21</th>\n",
       "      <th>buildingblock1_smiles_O=C(Nc1ccc(C(=O)O)cn1)OCC1c2ccccc2-c2ccccc21</th>\n",
       "      <th>buildingblock1_smiles_O=C(Nc1ccc(Cl)c(C(=O)O)c1)OCC1c2ccccc2-c2ccccc21</th>\n",
       "      <th>...</th>\n",
       "      <th>buildingblock3_smiles_Nc1cc(-c2cccc(Br)c2)no1</th>\n",
       "      <th>buildingblock3_smiles_Nc1cc(C2CC2)[nH]n1</th>\n",
       "      <th>buildingblock3_smiles_Nc1cc(Cl)cnc1Cl</th>\n",
       "      <th>buildingblock3_smiles_Nc1cc(F)cc(F)c1[N+](=O)[O-]</th>\n",
       "      <th>buildingblock3_smiles_Nc1ccc2c(c1)OCCCO2</th>\n",
       "      <th>buildingblock3_smiles_Nc1cccnc1Cl</th>\n",
       "      <th>buildingblock3_smiles_Nc1cncnc1</th>\n",
       "      <th>buildingblock3_smiles_Nc1nc(-c2ccc(Cl)c(Cl)c2)cs1</th>\n",
       "      <th>buildingblock3_smiles_Nc1nc2c(Br)cccc2s1</th>\n",
       "      <th>buildingblock3_smiles_Nc1ncnc(=O)[nH]1</th>\n",
       "    </tr>\n",
       "  </thead>\n",
       "  <tbody>\n",
       "    <tr>\n",
       "      <th>0</th>\n",
       "      <td>0.0</td>\n",
       "      <td>0.0</td>\n",
       "      <td>0.0</td>\n",
       "      <td>0.0</td>\n",
       "      <td>0.0</td>\n",
       "      <td>0.0</td>\n",
       "      <td>0.0</td>\n",
       "      <td>0.0</td>\n",
       "      <td>0.0</td>\n",
       "      <td>0.0</td>\n",
       "      <td>...</td>\n",
       "      <td>0.0</td>\n",
       "      <td>0.0</td>\n",
       "      <td>0.0</td>\n",
       "      <td>0.0</td>\n",
       "      <td>0.0</td>\n",
       "      <td>0.0</td>\n",
       "      <td>0.0</td>\n",
       "      <td>0.0</td>\n",
       "      <td>0.0</td>\n",
       "      <td>0.0</td>\n",
       "    </tr>\n",
       "    <tr>\n",
       "      <th>1</th>\n",
       "      <td>0.0</td>\n",
       "      <td>0.0</td>\n",
       "      <td>0.0</td>\n",
       "      <td>0.0</td>\n",
       "      <td>0.0</td>\n",
       "      <td>0.0</td>\n",
       "      <td>0.0</td>\n",
       "      <td>0.0</td>\n",
       "      <td>0.0</td>\n",
       "      <td>0.0</td>\n",
       "      <td>...</td>\n",
       "      <td>0.0</td>\n",
       "      <td>0.0</td>\n",
       "      <td>0.0</td>\n",
       "      <td>0.0</td>\n",
       "      <td>0.0</td>\n",
       "      <td>0.0</td>\n",
       "      <td>0.0</td>\n",
       "      <td>0.0</td>\n",
       "      <td>0.0</td>\n",
       "      <td>0.0</td>\n",
       "    </tr>\n",
       "    <tr>\n",
       "      <th>2</th>\n",
       "      <td>0.0</td>\n",
       "      <td>0.0</td>\n",
       "      <td>0.0</td>\n",
       "      <td>0.0</td>\n",
       "      <td>0.0</td>\n",
       "      <td>0.0</td>\n",
       "      <td>0.0</td>\n",
       "      <td>0.0</td>\n",
       "      <td>0.0</td>\n",
       "      <td>0.0</td>\n",
       "      <td>...</td>\n",
       "      <td>0.0</td>\n",
       "      <td>0.0</td>\n",
       "      <td>0.0</td>\n",
       "      <td>0.0</td>\n",
       "      <td>0.0</td>\n",
       "      <td>0.0</td>\n",
       "      <td>0.0</td>\n",
       "      <td>0.0</td>\n",
       "      <td>0.0</td>\n",
       "      <td>0.0</td>\n",
       "    </tr>\n",
       "    <tr>\n",
       "      <th>3</th>\n",
       "      <td>0.0</td>\n",
       "      <td>0.0</td>\n",
       "      <td>0.0</td>\n",
       "      <td>0.0</td>\n",
       "      <td>0.0</td>\n",
       "      <td>0.0</td>\n",
       "      <td>0.0</td>\n",
       "      <td>0.0</td>\n",
       "      <td>0.0</td>\n",
       "      <td>0.0</td>\n",
       "      <td>...</td>\n",
       "      <td>0.0</td>\n",
       "      <td>0.0</td>\n",
       "      <td>0.0</td>\n",
       "      <td>0.0</td>\n",
       "      <td>0.0</td>\n",
       "      <td>0.0</td>\n",
       "      <td>0.0</td>\n",
       "      <td>0.0</td>\n",
       "      <td>0.0</td>\n",
       "      <td>0.0</td>\n",
       "    </tr>\n",
       "    <tr>\n",
       "      <th>4</th>\n",
       "      <td>0.0</td>\n",
       "      <td>0.0</td>\n",
       "      <td>0.0</td>\n",
       "      <td>0.0</td>\n",
       "      <td>0.0</td>\n",
       "      <td>0.0</td>\n",
       "      <td>0.0</td>\n",
       "      <td>0.0</td>\n",
       "      <td>0.0</td>\n",
       "      <td>0.0</td>\n",
       "      <td>...</td>\n",
       "      <td>0.0</td>\n",
       "      <td>0.0</td>\n",
       "      <td>0.0</td>\n",
       "      <td>0.0</td>\n",
       "      <td>0.0</td>\n",
       "      <td>0.0</td>\n",
       "      <td>0.0</td>\n",
       "      <td>0.0</td>\n",
       "      <td>0.0</td>\n",
       "      <td>0.0</td>\n",
       "    </tr>\n",
       "  </tbody>\n",
       "</table>\n",
       "<p>5 rows × 100 columns</p>\n",
       "</div>"
      ],
      "text/plain": [
       "   buildingblock1_smiles_C#CC[C@@H](NC(=O)OCC1c2ccccc2-c2ccccc21)C(=O)O  \\\n",
       "0                                                0.0                      \n",
       "1                                                0.0                      \n",
       "2                                                0.0                      \n",
       "3                                                0.0                      \n",
       "4                                                0.0                      \n",
       "\n",
       "   buildingblock1_smiles_C#CC[C@@](C)(NC(=O)OCC1c2ccccc2-c2ccccc21)C(=O)O  \\\n",
       "0                                                0.0                        \n",
       "1                                                0.0                        \n",
       "2                                                0.0                        \n",
       "3                                                0.0                        \n",
       "4                                                0.0                        \n",
       "\n",
       "   buildingblock1_smiles_O=C(NC1(C(=O)O)CCC1)OCC1c2ccccc2-c2ccccc21  \\\n",
       "0                                                0.0                  \n",
       "1                                                0.0                  \n",
       "2                                                0.0                  \n",
       "3                                                0.0                  \n",
       "4                                                0.0                  \n",
       "\n",
       "   buildingblock1_smiles_O=C(NCc1cccc(C(=O)O)c1)OCC1c2ccccc2-c2ccccc21  \\\n",
       "0                                                0.0                     \n",
       "1                                                0.0                     \n",
       "2                                                0.0                     \n",
       "3                                                0.0                     \n",
       "4                                                0.0                     \n",
       "\n",
       "   buildingblock1_smiles_O=C(N[C@@H](C(=O)O)C1CCCC1)OCC1c2ccccc2-c2ccccc21  \\\n",
       "0                                                0.0                         \n",
       "1                                                0.0                         \n",
       "2                                                0.0                         \n",
       "3                                                0.0                         \n",
       "4                                                0.0                         \n",
       "\n",
       "   buildingblock1_smiles_O=C(N[C@@H](Cc1cccs1)C(=O)O)OCC1c2ccccc2-c2ccccc21  \\\n",
       "0                                                0.0                          \n",
       "1                                                0.0                          \n",
       "2                                                0.0                          \n",
       "3                                                0.0                          \n",
       "4                                                0.0                          \n",
       "\n",
       "   buildingblock1_smiles_O=C(N[C@H](Cc1ccc([N+](=O)[O-])cc1)C(=O)O)OCC1c2ccccc2-c2ccccc21  \\\n",
       "0                                                0.0                                        \n",
       "1                                                0.0                                        \n",
       "2                                                0.0                                        \n",
       "3                                                0.0                                        \n",
       "4                                                0.0                                        \n",
       "\n",
       "   buildingblock1_smiles_O=C(Nc1ccc(C(=O)O)cc1Cl)OCC1c2ccccc2-c2ccccc21  \\\n",
       "0                                                0.0                      \n",
       "1                                                0.0                      \n",
       "2                                                0.0                      \n",
       "3                                                0.0                      \n",
       "4                                                0.0                      \n",
       "\n",
       "   buildingblock1_smiles_O=C(Nc1ccc(C(=O)O)cn1)OCC1c2ccccc2-c2ccccc21  \\\n",
       "0                                                0.0                    \n",
       "1                                                0.0                    \n",
       "2                                                0.0                    \n",
       "3                                                0.0                    \n",
       "4                                                0.0                    \n",
       "\n",
       "   buildingblock1_smiles_O=C(Nc1ccc(Cl)c(C(=O)O)c1)OCC1c2ccccc2-c2ccccc21  \\\n",
       "0                                                0.0                        \n",
       "1                                                0.0                        \n",
       "2                                                0.0                        \n",
       "3                                                0.0                        \n",
       "4                                                0.0                        \n",
       "\n",
       "   ...  buildingblock3_smiles_Nc1cc(-c2cccc(Br)c2)no1  \\\n",
       "0  ...                                            0.0   \n",
       "1  ...                                            0.0   \n",
       "2  ...                                            0.0   \n",
       "3  ...                                            0.0   \n",
       "4  ...                                            0.0   \n",
       "\n",
       "   buildingblock3_smiles_Nc1cc(C2CC2)[nH]n1  \\\n",
       "0                                       0.0   \n",
       "1                                       0.0   \n",
       "2                                       0.0   \n",
       "3                                       0.0   \n",
       "4                                       0.0   \n",
       "\n",
       "   buildingblock3_smiles_Nc1cc(Cl)cnc1Cl  \\\n",
       "0                                    0.0   \n",
       "1                                    0.0   \n",
       "2                                    0.0   \n",
       "3                                    0.0   \n",
       "4                                    0.0   \n",
       "\n",
       "   buildingblock3_smiles_Nc1cc(F)cc(F)c1[N+](=O)[O-]  \\\n",
       "0                                                0.0   \n",
       "1                                                0.0   \n",
       "2                                                0.0   \n",
       "3                                                0.0   \n",
       "4                                                0.0   \n",
       "\n",
       "   buildingblock3_smiles_Nc1ccc2c(c1)OCCCO2  \\\n",
       "0                                       0.0   \n",
       "1                                       0.0   \n",
       "2                                       0.0   \n",
       "3                                       0.0   \n",
       "4                                       0.0   \n",
       "\n",
       "   buildingblock3_smiles_Nc1cccnc1Cl  buildingblock3_smiles_Nc1cncnc1  \\\n",
       "0                                0.0                              0.0   \n",
       "1                                0.0                              0.0   \n",
       "2                                0.0                              0.0   \n",
       "3                                0.0                              0.0   \n",
       "4                                0.0                              0.0   \n",
       "\n",
       "   buildingblock3_smiles_Nc1nc(-c2ccc(Cl)c(Cl)c2)cs1  \\\n",
       "0                                                0.0   \n",
       "1                                                0.0   \n",
       "2                                                0.0   \n",
       "3                                                0.0   \n",
       "4                                                0.0   \n",
       "\n",
       "   buildingblock3_smiles_Nc1nc2c(Br)cccc2s1  \\\n",
       "0                                       0.0   \n",
       "1                                       0.0   \n",
       "2                                       0.0   \n",
       "3                                       0.0   \n",
       "4                                       0.0   \n",
       "\n",
       "   buildingblock3_smiles_Nc1ncnc(=O)[nH]1  \n",
       "0                                     0.0  \n",
       "1                                     0.0  \n",
       "2                                     0.0  \n",
       "3                                     0.0  \n",
       "4                                     0.0  \n",
       "\n",
       "[5 rows x 100 columns]"
      ]
     },
     "metadata": {},
     "output_type": "display_data"
    }
   ],
   "source": [
    "one_hot_df_reduced.head()"
   ]
  },
  {
   "cell_type": "markdown",
   "metadata": {},
   "source": [
    "# Modelos de clasificación"
   ]
  },
  {
   "cell_type": "markdown",
   "metadata": {},
   "source": [
    "## Proteina sEH"
   ]
  },
  {
   "cell_type": "code",
   "execution_count": 22,
   "metadata": {},
   "outputs": [
    {
     "name": "stdout",
     "output_type": "stream",
     "text": [
      "Mejor número de vecinos KNN: 11\n",
      "Mejor valor de C para Regresión Logística: 0.1\n"
     ]
    }
   ],
   "source": [
    "\n",
    "\n",
    "X_train, X_test, y_train, y_test = train_test_split(df_encoded.drop('binds',axis=1), df_encoded['binds'], test_size=0.30, random_state=101)\n",
    "\n",
    "\n",
    "knn_pipeline = Pipeline([\n",
    "    ('scaler', StandardScaler()),  \n",
    "    ('knn', KNeighborsClassifier())  \n",
    "])\n",
    "\n",
    "\n",
    "logreg_pipeline = Pipeline([\n",
    "    ('scaler', StandardScaler()), \n",
    "    ('logreg', LogisticRegression(solver='liblinear'))\n",
    "])\n",
    "\n",
    "\n",
    "knn_params = {\n",
    "    'knn__n_neighbors': [3, 5, 7, 9, 11] \n",
    "}\n",
    "\n",
    "logreg_params = {\n",
    "    'logreg__C': [0.1, 1, 10]  \n",
    "}\n",
    "\n",
    "\n",
    "knn_grid = GridSearchCV(knn_pipeline, param_grid=knn_params, cv=5, scoring='roc_auc')\n",
    "logreg_grid = GridSearchCV(logreg_pipeline, param_grid=logreg_params, cv=5, scoring='roc_auc')\n",
    "\n",
    "\n",
    "knn_grid.fit(X_train, y_train)\n",
    "logreg_grid.fit(X_train, y_train)\n",
    "\n",
    "\n",
    "print(\"Mejor número de vecinos KNN:\", knn_grid.best_params_['knn__n_neighbors'])\n",
    "print(\"Mejor valor de C para Regresión Logística:\", logreg_grid.best_params_['logreg__C'])\n",
    "\n",
    "\n",
    "\n",
    "y_pred_knn = knn_grid.best_estimator_.predict(X_test)\n",
    "y_pred_logreg = logreg_grid.best_estimator_.predict(X_test)\n",
    "y_prob_knn = knn_grid.best_estimator_.predict_proba(X_test)[:, 1]\n",
    "y_prob_logreg = logreg_grid.best_estimator_.predict_proba(X_test)[:, 1]"
   ]
  },
  {
   "cell_type": "markdown",
   "metadata": {},
   "source": [
    "E mejor desempeño para el modelo K-NN se logra con 11 vecinos, lo que optimiza la capacidad del modelo para clasificar las instancias. Para la Regresión Logística, el mejor rendimiento se obtiene con un valor de C = 0.1, lo que controla la regularización del modelo y mejora su capacidad para generalizar. Estos ajustes son cruciales para maximizar la precisión y el rendimiento general de los modelos en la clasificación de datos."
   ]
  },
  {
   "cell_type": "code",
   "execution_count": 32,
   "metadata": {},
   "outputs": [
    {
     "name": "stdout",
     "output_type": "stream",
     "text": [
      "KNN - Matriz de confusión:\n",
      " [[29783     0]\n",
      " [  217     0]]\n",
      "Regresión Logística - Matriz de confusión:\n",
      " [[29708    75]\n",
      " [  119    98]]\n",
      "KNN - Reporte de clasificación:\n",
      "               precision    recall  f1-score   support\n",
      "\n",
      "           0       0.99      1.00      1.00     29783\n",
      "           1       0.00      0.00      0.00       217\n",
      "\n",
      "    accuracy                           0.99     30000\n",
      "   macro avg       0.50      0.50      0.50     30000\n",
      "weighted avg       0.99      0.99      0.99     30000\n",
      "\n",
      "Regresión Logística - Reporte de clasificación:\n",
      "               precision    recall  f1-score   support\n",
      "\n",
      "           0       1.00      1.00      1.00     29783\n",
      "           1       0.57      0.45      0.50       217\n",
      "\n",
      "    accuracy                           0.99     30000\n",
      "   macro avg       0.78      0.72      0.75     30000\n",
      "weighted avg       0.99      0.99      0.99     30000\n",
      "\n",
      "El mejor modelo es Regresión Logística con AUC: 0.9605086624278131\n"
     ]
    },
    {
     "name": "stderr",
     "output_type": "stream",
     "text": [
      "c:\\Users\\KELLY\\miniconda3\\envs\\ml_venv\\lib\\site-packages\\sklearn\\metrics\\_classification.py:1469: UndefinedMetricWarning: Precision and F-score are ill-defined and being set to 0.0 in labels with no predicted samples. Use `zero_division` parameter to control this behavior.\n",
      "  _warn_prf(average, modifier, msg_start, len(result))\n",
      "c:\\Users\\KELLY\\miniconda3\\envs\\ml_venv\\lib\\site-packages\\sklearn\\metrics\\_classification.py:1469: UndefinedMetricWarning: Precision and F-score are ill-defined and being set to 0.0 in labels with no predicted samples. Use `zero_division` parameter to control this behavior.\n",
      "  _warn_prf(average, modifier, msg_start, len(result))\n",
      "c:\\Users\\KELLY\\miniconda3\\envs\\ml_venv\\lib\\site-packages\\sklearn\\metrics\\_classification.py:1469: UndefinedMetricWarning: Precision and F-score are ill-defined and being set to 0.0 in labels with no predicted samples. Use `zero_division` parameter to control this behavior.\n",
      "  _warn_prf(average, modifier, msg_start, len(result))\n"
     ]
    }
   ],
   "source": [
    "\n",
    "print(\"KNN - Matriz de confusión:\\n\", confusion_matrix(y_test, y_pred_knn))\n",
    "print(\"Regresión Logística - Matriz de confusión:\\n\", confusion_matrix(y_test, y_pred_logreg))\n",
    "print(\"KNN - Reporte de clasificación:\\n\", classification_report(y_test, y_pred_knn))\n",
    "auc_knn = roc_auc_score(y_test, y_prob_knn)\n",
    "\n",
    "\n",
    "print(\"Regresión Logística - Reporte de clasificación:\\n\", classification_report(y_test, y_pred_logreg))\n",
    "auc_logreg = roc_auc_score(y_test, y_prob_logreg)\n",
    "\n",
    "\n",
    "\n",
    "if auc_knn > auc_logreg:\n",
    "    print(\"El mejor modelo es KNN con AUC:\", auc_knn)\n",
    "else:\n",
    "    print(\"El mejor modelo es Regresión Logística con AUC:\", auc_logreg)\n"
   ]
  },
  {
   "cell_type": "markdown",
   "metadata": {},
   "source": [
    "El análisis muestra que la Regresión Logística supera al modelo KNN en términos de desempeño. La matriz de confusión y el reporte de clasificación para KNN revelan que el modelo no identifica correctamente las instancias de la clase positiva (1), resultando en una precisión nula para esta clase y una AUC baja de 0.646. En contraste, la Regresión Logística clasifica correctamente tanto la clase negativa (0) como la positiva (1), con una precisión y recall más equilibrados, y un notable AUC de 0.961. Esto indica que la Regresión Logística tiene una mejor capacidad para distinguir entre las clases y es, por lo tanto, el modelo más efectivo en este caso."
   ]
  },
  {
   "cell_type": "code",
   "execution_count": 28,
   "metadata": {},
   "outputs": [
    {
     "data": {
      "image/png": "[encoded data removed]",
      "text/plain": [
       "<Figure size 640x480 with 1 Axes>"
      ]
     },
     "metadata": {},
     "output_type": "display_data"
    }
   ],
   "source": [
    "display_knn = RocCurveDisplay.from_predictions(\n",
    "    y_test, y_prob_knn,\n",
    "    name=\"KNN\",\n",
    "    color=\"darkorange\",\n",
    "    plot_chance_level=True\n",
    ")\n",
    "_ = display_knn.ax_.set(\n",
    "    xlabel=\"False Positive Rate\",\n",
    "    ylabel=\"True Positive Rate\",\n",
    "    title=\"Curva ROC - KNN\"\n",
    ")\n"
   ]
  },
  {
   "cell_type": "code",
   "execution_count": 29,
   "metadata": {},
   "outputs": [
    {
     "data": {
      "image/png": "[encoded data removed]",
      "text/plain": [
       "<Figure size 640x480 with 1 Axes>"
      ]
     },
     "metadata": {},
     "output_type": "display_data"
    }
   ],
   "source": [
    "display_logreg = RocCurveDisplay.from_predictions(\n",
    "    y_test, y_prob_logreg,\n",
    "    name=\"Regresión Logística\",\n",
    "    color=\"darkblue\",\n",
    "    plot_chance_level=True\n",
    ")\n",
    "_ = display_logreg.ax_.set(\n",
    "    xlabel=\"False Positive Rate\",\n",
    "    ylabel=\"True Positive Rate\",\n",
    "    title=\"Curva ROC - Regresión Logística\"\n",
    ")"
   ]
  },
  {
   "cell_type": "markdown",
   "metadata": {},
   "source": [
    "las curvas ROC confirmarán que la Regresión Logística no solo es más efectiva en términos de AUC, sino también en su capacidad general para clasificar correctamente las instancias en comparación con KNN. La Regresión Logística debería mostrar una curva más cercana a la esquina superior izquierda del gráfico ROC, indicando mejor desempeño en la clasificación."
   ]
  },
  {
   "cell_type": "code",
   "execution_count": 27,
   "metadata": {},
   "outputs": [
    {
     "name": "stdout",
     "output_type": "stream",
     "text": [
      "\n",
      "Tabla de error:\n",
      "                Modelo  Precisión    Recall  F1-Score       AUC\n",
      "0                 K-NN   0.000000  0.000000  0.000000  0.646390\n",
      "1  Regresión Logística   0.566474  0.451613  0.502564  0.960509\n"
     ]
    },
    {
     "name": "stderr",
     "output_type": "stream",
     "text": [
      "c:\\Users\\KELLY\\miniconda3\\envs\\ml_venv\\lib\\site-packages\\sklearn\\metrics\\_classification.py:1469: UndefinedMetricWarning: Precision is ill-defined and being set to 0.0 due to no predicted samples. Use `zero_division` parameter to control this behavior.\n",
      "  _warn_prf(average, modifier, msg_start, len(result))\n"
     ]
    }
   ],
   "source": [
    "table = pd.DataFrame({\n",
    "    'Modelo': ['K-NN', 'Regresión Logística'],\n",
    "    'Precisión': [precision_score(y_test, y_pred_knn), precision_score(y_test, y_pred_logreg)],\n",
    "    'Recall': [recall_score(y_test, y_pred_knn), recall_score(y_test, y_pred_logreg)],\n",
    "    'F1-Score': [f1_score(y_test, y_pred_knn), f1_score(y_test, y_pred_logreg)],\n",
    "    'AUC': [auc_knn, auc_logreg]\n",
    "})\n",
    "\n",
    "print(\"\\nTabla de error:\")\n",
    "print(table)"
   ]
  },
  {
   "cell_type": "markdown",
   "metadata": {},
   "source": [
    "-K-NN presenta una precisión, recall y F1-Score de 0.000000 para la clase positiva, reflejando un desempeño deficiente en la identificación de esta clase. Su AUC de 0.646390 sugiere una capacidad limitada para discriminar entre las clases.\n",
    "-Regresión Logística muestra una precisión de 0.566474, un recall de 0.451613 y un F1-Score de 0.502564, indicando una mejor capacidad para clasificar las instancias de la clase positiva. Además, su AUC de 0.960509 destaca una excelente habilidad para distinguir entre las clases, confirmando su superioridad sobre el modelo K-NN en términos de desempeño general."
   ]
  },
  {
   "cell_type": "markdown",
   "metadata": {},
   "source": [
    "## Proteina HSA"
   ]
  },
  {
   "cell_type": "code",
   "execution_count": 11,
   "metadata": {},
   "outputs": [
    {
     "name": "stdout",
     "output_type": "stream",
     "text": [
      "Mejor número de vecinos KNN: 11\n",
      "Mejor valor de C para Regresión Logística: 0.1\n"
     ]
    }
   ],
   "source": [
    "X_train, X_test, y_train, y_test = train_test_split(df_encoded2.drop('binds',axis=1), df_encoded2['binds'], test_size=0.30, random_state=101)\n",
    "\n",
    "knn_pipeline = Pipeline([\n",
    "    ('scaler', StandardScaler()),  \n",
    "    ('knn', KNeighborsClassifier())  \n",
    "])\n",
    "logreg_pipeline = Pipeline([\n",
    "    ('scaler', StandardScaler()), \n",
    "    ('logreg', LogisticRegression(solver='liblinear'))\n",
    "])\n",
    "knn_params = {\n",
    "    'knn__n_neighbors': [3, 5, 7, 9, 11] \n",
    "}\n",
    "logreg_params = {\n",
    "    'logreg__C': [0.1, 1, 10]  \n",
    "}\n",
    "knn_grid = GridSearchCV(knn_pipeline, param_grid=knn_params, cv=5, scoring='roc_auc')\n",
    "logreg_grid = GridSearchCV(logreg_pipeline, param_grid=logreg_params, cv=5, scoring='roc_auc')\n",
    "\n",
    "knn_grid.fit(X_train, y_train)\n",
    "logreg_grid.fit(X_train, y_train)\n",
    "print(\"Mejor número de vecinos KNN:\", knn_grid.best_params_['knn__n_neighbors'])\n",
    "print(\"Mejor valor de C para Regresión Logística:\", logreg_grid.best_params_['logreg__C'])\n",
    "y_pred_knn = knn_grid.best_estimator_.predict(X_test)\n",
    "y_pred_logreg = logreg_grid.best_estimator_.predict(X_test)\n",
    "y_prob_knn = knn_grid.best_estimator_.predict_proba(X_test)[:, 1]\n",
    "y_prob_logreg = logreg_grid.best_estimator_.predict_proba(X_test)[:, 1]"
   ]
  },
  {
   "cell_type": "code",
   "execution_count": 12,
   "metadata": {},
   "outputs": [
    {
     "name": "stdout",
     "output_type": "stream",
     "text": [
      "KNN - Matriz de confusión:\n",
      " [[29879     0]\n",
      " [  121     0]]\n",
      "Regresión Logística - Matriz de confusión:\n",
      " [[29861    18]\n",
      " [  113     8]]\n",
      "KNN - Reporte de clasificación:\n",
      "               precision    recall  f1-score   support\n",
      "\n",
      "           0       1.00      1.00      1.00     29879\n",
      "           1       0.00      0.00      0.00       121\n",
      "\n",
      "    accuracy                           1.00     30000\n",
      "   macro avg       0.50      0.50      0.50     30000\n",
      "weighted avg       0.99      1.00      0.99     30000\n",
      "\n",
      "Regresión Logística - Reporte de clasificación:\n",
      "               precision    recall  f1-score   support\n",
      "\n",
      "           0       1.00      1.00      1.00     29879\n",
      "           1       0.31      0.07      0.11       121\n",
      "\n",
      "    accuracy                           1.00     30000\n",
      "   macro avg       0.65      0.53      0.55     30000\n",
      "weighted avg       0.99      1.00      0.99     30000\n",
      "\n",
      "El mejor modelo es Regresión Logística con AUC: 0.9041848956078774\n"
     ]
    },
    {
     "name": "stderr",
     "output_type": "stream",
     "text": [
      "c:\\Users\\KELLY\\miniconda3\\envs\\ml_venv\\lib\\site-packages\\sklearn\\metrics\\_classification.py:1469: UndefinedMetricWarning: Precision and F-score are ill-defined and being set to 0.0 in labels with no predicted samples. Use `zero_division` parameter to control this behavior.\n",
      "  _warn_prf(average, modifier, msg_start, len(result))\n",
      "c:\\Users\\KELLY\\miniconda3\\envs\\ml_venv\\lib\\site-packages\\sklearn\\metrics\\_classification.py:1469: UndefinedMetricWarning: Precision and F-score are ill-defined and being set to 0.0 in labels with no predicted samples. Use `zero_division` parameter to control this behavior.\n",
      "  _warn_prf(average, modifier, msg_start, len(result))\n",
      "c:\\Users\\KELLY\\miniconda3\\envs\\ml_venv\\lib\\site-packages\\sklearn\\metrics\\_classification.py:1469: UndefinedMetricWarning: Precision and F-score are ill-defined and being set to 0.0 in labels with no predicted samples. Use `zero_division` parameter to control this behavior.\n",
      "  _warn_prf(average, modifier, msg_start, len(result))\n"
     ]
    }
   ],
   "source": [
    "\n",
    "print(\"KNN - Matriz de confusión:\\n\", confusion_matrix(y_test, y_pred_knn))\n",
    "print(\"Regresión Logística - Matriz de confusión:\\n\", confusion_matrix(y_test, y_pred_logreg))\n",
    "print(\"KNN - Reporte de clasificación:\\n\", classification_report(y_test, y_pred_knn))\n",
    "auc_knn = roc_auc_score(y_test, y_prob_knn)\n",
    "\n",
    "\n",
    "print(\"Regresión Logística - Reporte de clasificación:\\n\", classification_report(y_test, y_pred_logreg))\n",
    "auc_logreg = roc_auc_score(y_test, y_prob_logreg)\n",
    "\n",
    "\n",
    "\n",
    "if auc_knn > auc_logreg:\n",
    "    print(\"El mejor modelo es KNN con AUC:\", auc_knn)\n",
    "else:\n",
    "    print(\"El mejor modelo es Regresión Logística con AUC:\", auc_logreg)"
   ]
  },
  {
   "cell_type": "markdown",
   "metadata": {},
   "source": [
    "Para KNN, la matriz de confusión muestra que predice todas las instancias de la clase mayoritaria (0) correctamente, pero no logra predecir ningún caso de la clase minoritaria (1). Esto se refleja en el reporte de clasificación, donde la precisión, recall y f1-score para la clase 1 son todos 0, lo que sugiere que KNN no es efectivo en distinguir las observaciones de la clase minoritaria. El modelo tiene un alto nivel de precisión general, pero esto se debe a la predominancia de la clase 0.\n",
    "\n",
    "Por otro lado, la Regresión Logística logra identificar algunos casos de la clase 1, aunque de manera limitada, con una precisión de 31% para la clase 1 y un recall del 7%. A pesar de que es mejor que KNN en reconocer la clase minoritaria, el desempeño sigue siendo bajo. La precisión general sigue siendo alta debido a la predominancia de la clase 0."
   ]
  },
  {
   "cell_type": "code",
   "execution_count": 13,
   "metadata": {},
   "outputs": [
    {
     "data": {
      "image/png": "[encoded data removed]",
      "text/plain": [
       "<Figure size 640x480 with 1 Axes>"
      ]
     },
     "metadata": {},
     "output_type": "display_data"
    }
   ],
   "source": [
    "display_knn = RocCurveDisplay.from_predictions(\n",
    "    y_test, y_prob_knn,\n",
    "    name=\"KNN\",\n",
    "    color=\"darkorange\",\n",
    "    plot_chance_level=True\n",
    ")\n",
    "_ = display_knn.ax_.set(\n",
    "    xlabel=\"False Positive Rate\",\n",
    "    ylabel=\"True Positive Rate\",\n",
    "    title=\"Curva ROC - KNN\"\n",
    ")"
   ]
  },
  {
   "cell_type": "markdown",
   "metadata": {},
   "source": [
    "Dado que KNN no logró predecir correctamente ninguna instancia de la clase minoritaria (1) en la matriz de confusión, a curva ROC de KNN esté cerca de la línea diagonal (una línea con un AUC cercano a 0.5). Esto indica que KNN no tiene una capacidad significativa para discriminar entre las clases, especialmente debido al desbalance extremo de la variable objetivo.\n"
   ]
  },
  {
   "cell_type": "code",
   "execution_count": 14,
   "metadata": {},
   "outputs": [
    {
     "data": {
      "image/png": "[encoded data removed]",
      "text/plain": [
       "<Figure size 640x480 with 1 Axes>"
      ]
     },
     "metadata": {},
     "output_type": "display_data"
    }
   ],
   "source": [
    "display_logreg = RocCurveDisplay.from_predictions(\n",
    "    y_test, y_prob_logreg,\n",
    "    name=\"Regresión Logística\",\n",
    "    color=\"darkblue\",\n",
    "    plot_chance_level=True\n",
    ")\n",
    "_ = display_logreg.ax_.set(\n",
    "    xlabel=\"False Positive Rate\",\n",
    "    ylabel=\"True Positive Rate\",\n",
    "    title=\"Curva ROC - Regresión Logística\"\n",
    ")"
   ]
  },
  {
   "cell_type": "markdown",
   "metadata": {},
   "source": [
    "Aunque la Regresión Logística tiene un mejor rendimiento que KNN al identificar algunos casos de la clase minoritaria (1).En comparación con KNN, su curva ROC está mejor situada, más arriba en la gráfica, lo que indica una mejor capacidad de discriminación entre las clases. El AUC de la Regresión Logística es mayor que el de KNN, ya que este modelo muestra más capacidad para diferenciar entre clases, como lo reflejan sus valores de precisión y recall."
   ]
  },
  {
   "cell_type": "code",
   "execution_count": 15,
   "metadata": {},
   "outputs": [
    {
     "name": "stdout",
     "output_type": "stream",
     "text": [
      "\n",
      "Tabla de error:\n",
      "                Modelo  Precisión    Recall  F1-Score       AUC\n",
      "0                 K-NN   0.000000  0.000000  0.000000  0.655523\n",
      "1  Regresión Logística   0.307692  0.066116  0.108844  0.904185\n"
     ]
    },
    {
     "name": "stderr",
     "output_type": "stream",
     "text": [
      "c:\\Users\\KELLY\\miniconda3\\envs\\ml_venv\\lib\\site-packages\\sklearn\\metrics\\_classification.py:1469: UndefinedMetricWarning: Precision is ill-defined and being set to 0.0 due to no predicted samples. Use `zero_division` parameter to control this behavior.\n",
      "  _warn_prf(average, modifier, msg_start, len(result))\n"
     ]
    }
   ],
   "source": [
    "table = pd.DataFrame({\n",
    "    'Modelo': ['K-NN', 'Regresión Logística'],\n",
    "    'Precisión': [precision_score(y_test, y_pred_knn), precision_score(y_test, y_pred_logreg)],\n",
    "    'Recall': [recall_score(y_test, y_pred_knn), recall_score(y_test, y_pred_logreg)],\n",
    "    'F1-Score': [f1_score(y_test, y_pred_knn), f1_score(y_test, y_pred_logreg)],\n",
    "    'AUC': [auc_knn, auc_logreg]\n",
    "})\n",
    "\n",
    "print(\"\\nTabla de error:\")\n",
    "print(table)"
   ]
  },
  {
   "cell_type": "markdown",
   "metadata": {},
   "source": [
    "El modelo de K-NN tiene una precisión, recall y F1-Score de 0, lo que indica que no está capturando correctamente las observaciones de la clase minoritaria (clase 1). Sin embargo, su AUC es de 0.655523, lo que sugiere que tiene alguna capacidad para distinguir entre clases, aunque no es eficaz.\n",
    "\n",
    "La regresion logistica tiene mejor rendimiento en términos de precisión (30.77%), recall (6.61%) y F1-Score (10.88%), el modelo aún tiene dificultades para identificar correctamente la clase 1. No obstante, el AUC de 0.904185 indica que la Regresión Logística tiene un desempeño significativamente mejor que K-NN en la diferenciación entre las clases."
   ]
  },
  {
   "cell_type": "markdown",
   "metadata": {},
   "source": [
    "## Proteina BRD4"
   ]
  },
  {
   "cell_type": "code",
   "execution_count": 17,
   "metadata": {},
   "outputs": [
    {
     "name": "stdout",
     "output_type": "stream",
     "text": [
      "Mejor número de vecinos KNN: 11\n",
      "Mejor valor de C para Regresión Logística: 0.1\n"
     ]
    }
   ],
   "source": [
    "X_train, X_test, y_train, y_test = train_test_split(df_encoded3.drop('binds',axis=1), df_encoded3['binds'], test_size=0.30, random_state=101)\n",
    "\n",
    "knn_pipeline = Pipeline([\n",
    "    ('scaler', StandardScaler()),  \n",
    "    ('knn', KNeighborsClassifier())  \n",
    "])\n",
    "logreg_pipeline = Pipeline([\n",
    "    ('scaler', StandardScaler()), \n",
    "    ('logreg', LogisticRegression(solver='liblinear'))\n",
    "])\n",
    "knn_params = {\n",
    "    'knn__n_neighbors': [3, 5, 7, 9, 11] \n",
    "}\n",
    "logreg_params = {\n",
    "    'logreg__C': [0.1, 1, 10]  \n",
    "}\n",
    "knn_grid = GridSearchCV(knn_pipeline, param_grid=knn_params, cv=5, scoring='roc_auc')\n",
    "logreg_grid = GridSearchCV(logreg_pipeline, param_grid=logreg_params, cv=5, scoring='roc_auc')\n",
    "\n",
    "knn_grid.fit(X_train, y_train)\n",
    "logreg_grid.fit(X_train, y_train)\n",
    "print(\"Mejor número de vecinos KNN:\", knn_grid.best_params_['knn__n_neighbors'])\n",
    "print(\"Mejor valor de C para Regresión Logística:\", logreg_grid.best_params_['logreg__C'])\n",
    "y_pred_knn = knn_grid.best_estimator_.predict(X_test)\n",
    "y_pred_logreg = logreg_grid.best_estimator_.predict(X_test)\n",
    "y_prob_knn = knn_grid.best_estimator_.predict_proba(X_test)[:, 1]\n",
    "y_prob_logreg = logreg_grid.best_estimator_.predict_proba(X_test)[:, 1]"
   ]
  },
  {
   "cell_type": "code",
   "execution_count": 18,
   "metadata": {},
   "outputs": [
    {
     "name": "stdout",
     "output_type": "stream",
     "text": [
      "KNN - Matriz de confusión:\n",
      " [[29840     0]\n",
      " [  160     0]]\n",
      "Regresión Logística - Matriz de confusión:\n",
      " [[29817    23]\n",
      " [  137    23]]\n",
      "KNN - Reporte de clasificación:\n",
      "               precision    recall  f1-score   support\n",
      "\n",
      "           0       0.99      1.00      1.00     29840\n",
      "           1       0.00      0.00      0.00       160\n",
      "\n",
      "    accuracy                           0.99     30000\n",
      "   macro avg       0.50      0.50      0.50     30000\n",
      "weighted avg       0.99      0.99      0.99     30000\n",
      "\n",
      "Regresión Logística - Reporte de clasificación:\n",
      "               precision    recall  f1-score   support\n",
      "\n",
      "           0       1.00      1.00      1.00     29840\n",
      "           1       0.50      0.14      0.22       160\n",
      "\n",
      "    accuracy                           0.99     30000\n",
      "   macro avg       0.75      0.57      0.61     30000\n",
      "weighted avg       0.99      0.99      0.99     30000\n",
      "\n",
      "El mejor modelo es Regresión Logística con AUC: 0.9224807305630026\n"
     ]
    },
    {
     "name": "stderr",
     "output_type": "stream",
     "text": [
      "c:\\Users\\KELLY\\miniconda3\\envs\\ml_venv\\lib\\site-packages\\sklearn\\metrics\\_classification.py:1469: UndefinedMetricWarning: Precision and F-score are ill-defined and being set to 0.0 in labels with no predicted samples. Use `zero_division` parameter to control this behavior.\n",
      "  _warn_prf(average, modifier, msg_start, len(result))\n",
      "c:\\Users\\KELLY\\miniconda3\\envs\\ml_venv\\lib\\site-packages\\sklearn\\metrics\\_classification.py:1469: UndefinedMetricWarning: Precision and F-score are ill-defined and being set to 0.0 in labels with no predicted samples. Use `zero_division` parameter to control this behavior.\n",
      "  _warn_prf(average, modifier, msg_start, len(result))\n",
      "c:\\Users\\KELLY\\miniconda3\\envs\\ml_venv\\lib\\site-packages\\sklearn\\metrics\\_classification.py:1469: UndefinedMetricWarning: Precision and F-score are ill-defined and being set to 0.0 in labels with no predicted samples. Use `zero_division` parameter to control this behavior.\n",
      "  _warn_prf(average, modifier, msg_start, len(result))\n"
     ]
    }
   ],
   "source": [
    "print(\"KNN - Matriz de confusión:\\n\", confusion_matrix(y_test, y_pred_knn))\n",
    "print(\"Regresión Logística - Matriz de confusión:\\n\", confusion_matrix(y_test, y_pred_logreg))\n",
    "print(\"KNN - Reporte de clasificación:\\n\", classification_report(y_test, y_pred_knn))\n",
    "auc_knn = roc_auc_score(y_test, y_prob_knn)\n",
    "\n",
    "\n",
    "print(\"Regresión Logística - Reporte de clasificación:\\n\", classification_report(y_test, y_pred_logreg))\n",
    "auc_logreg = roc_auc_score(y_test, y_prob_logreg)\n",
    "\n",
    "\n",
    "\n",
    "if auc_knn > auc_logreg:\n",
    "    print(\"El mejor modelo es KNN con AUC:\", auc_knn)\n",
    "else:\n",
    "    print(\"El mejor modelo es Regresión Logística con AUC:\", auc_logreg)"
   ]
  },
  {
   "cell_type": "markdown",
   "metadata": {},
   "source": [
    "En este análisis, la Regresión Logística supera claramente al modelo K-NN en la clasificación de las observaciones. Mientras que K-NN no logra identificar ningún caso de la clase minoritaria (binds = 1), Regresión Logística, aunque con un recall bajo (0.14), logra predecir correctamente algunos casos de dicha clase. Esto sugiere que Regresión Logística es más eficaz para manejar el desequilibrio de clases en los datos, siendo un modelo más adecuado para este problema, ya que puede identificar ciertos casos de la clase menos representada, algo que K-NN no consigue."
   ]
  },
  {
   "cell_type": "code",
   "execution_count": 19,
   "metadata": {},
   "outputs": [
    {
     "data": {
      "image/png": "[encoded data removed]",
      "text/plain": [
       "<Figure size 640x480 with 1 Axes>"
      ]
     },
     "metadata": {},
     "output_type": "display_data"
    }
   ],
   "source": [
    "display_logreg = RocCurveDisplay.from_predictions(\n",
    "    y_test, y_prob_logreg,\n",
    "    name=\"Regresión Logística\",\n",
    "    color=\"darkblue\",\n",
    "    plot_chance_level=True\n",
    ")\n",
    "_ = display_logreg.ax_.set(\n",
    "    xlabel=\"False Positive Rate\",\n",
    "    ylabel=\"True Positive Rate\",\n",
    "    title=\"Curva ROC - Regresión Logística\"\n",
    ")"
   ]
  },
  {
   "cell_type": "code",
   "execution_count": 20,
   "metadata": {},
   "outputs": [
    {
     "data": {
      "image/png": "[encoded data removed]",
      "text/plain": [
       "<Figure size 640x480 with 1 Axes>"
      ]
     },
     "metadata": {},
     "output_type": "display_data"
    }
   ],
   "source": [
    "display_knn = RocCurveDisplay.from_predictions(\n",
    "    y_test, y_prob_knn,\n",
    "    name=\"KNN\",\n",
    "    color=\"darkorange\",\n",
    "    plot_chance_level=True\n",
    ")\n",
    "_ = display_knn.ax_.set(\n",
    "    xlabel=\"False Positive Rate\",\n",
    "    ylabel=\"True Positive Rate\",\n",
    "    title=\"Curva ROC - KNN\"\n",
    ")"
   ]
  },
  {
   "cell_type": "markdown",
   "metadata": {},
   "source": [
    "Al analizar las curvas ROC para ambos modelos, K-NN y Regresión Logística, es evidente que la Regresión Logística tiene un rendimiento superior en comparación con K-NN. La curva ROC de la Regresión Logística se sitúa más cerca de la esquina superior izquierda del gráfico, lo que indica una mejor capacidad para distinguir entre las clases positivas y negativas. Esto es consistente con los resultados de las matrices de confusión y los reportes de clasificación, donde la Regresión Logística, a pesar de sus limitaciones, muestra un AUC significativamente más alto, indicando que es más efectiva en la identificación de la clase minoritaria (binds = 1) en comparación con K-NN. "
   ]
  },
  {
   "cell_type": "code",
   "execution_count": 21,
   "metadata": {},
   "outputs": [
    {
     "name": "stdout",
     "output_type": "stream",
     "text": [
      "\n",
      "Tabla de error:\n",
      "                Modelo  Precisión   Recall  F1-Score       AUC\n",
      "0                 K-NN        0.0  0.00000  0.000000  0.670068\n",
      "1  Regresión Logística        0.5  0.14375  0.223301  0.922481\n"
     ]
    },
    {
     "name": "stderr",
     "output_type": "stream",
     "text": [
      "c:\\Users\\KELLY\\miniconda3\\envs\\ml_venv\\lib\\site-packages\\sklearn\\metrics\\_classification.py:1469: UndefinedMetricWarning: Precision is ill-defined and being set to 0.0 due to no predicted samples. Use `zero_division` parameter to control this behavior.\n",
      "  _warn_prf(average, modifier, msg_start, len(result))\n"
     ]
    }
   ],
   "source": [
    "table = pd.DataFrame({\n",
    "    'Modelo': ['K-NN', 'Regresión Logística'],\n",
    "    'Precisión': [precision_score(y_test, y_pred_knn), precision_score(y_test, y_pred_logreg)],\n",
    "    'Recall': [recall_score(y_test, y_pred_knn), recall_score(y_test, y_pred_logreg)],\n",
    "    'F1-Score': [f1_score(y_test, y_pred_knn), f1_score(y_test, y_pred_logreg)],\n",
    "    'AUC': [auc_knn, auc_logreg]\n",
    "})\n",
    "\n",
    "print(\"\\nTabla de error:\")\n",
    "print(table)"
   ]
  },
  {
   "cell_type": "markdown",
   "metadata": {},
   "source": [
    "La Regresión Logística presenta un rendimiento notablemente mejor en términos de recall y F1-Score para la clase minoritaria (1). Esto es evidente por su mayor recall (0.14375 frente a 0.00000) y un F1-Score más alto (0.223301 frente a 0.000000). Además, la Regresión Logística tiene un AUC de 0.922481, que es considerablemente superior al AUC de 0.670068 de K-NN. "
   ]
  }
 ],
 "metadata": {
  "kernelspec": {
   "display_name": "ml_venv",
   "language": "python",
   "name": "python3"
  },
  "language_info": {
   "codemirror_mode": {
    "name": "ipython",
    "version": 3
   },
   "file_extension": ".py",
   "mimetype": "text/x-python",
   "name": "python",
   "nbconvert_exporter": "python",
   "pygments_lexer": "ipython3",
   "version": "3.9.19"
  }
 },
 "nbformat": 4,
 "nbformat_minor": 2
}
